{
 "cells": [
  {
   "cell_type": "code",
   "execution_count": 1,
   "id": "0814e0ee",
   "metadata": {},
   "outputs": [
    {
     "name": "stderr",
     "output_type": "stream",
     "text": [
      "── \u001b[1mAttaching packages\u001b[22m ─────────────────────────────────────── tidyverse 1.3.0 ──\n",
      "\n",
      "\u001b[32m✔\u001b[39m \u001b[34mggplot2\u001b[39m 3.3.3     \u001b[32m✔\u001b[39m \u001b[34mpurrr  \u001b[39m 0.3.4\n",
      "\u001b[32m✔\u001b[39m \u001b[34mtibble \u001b[39m 3.0.6     \u001b[32m✔\u001b[39m \u001b[34mdplyr  \u001b[39m 1.0.4\n",
      "\u001b[32m✔\u001b[39m \u001b[34mtidyr  \u001b[39m 1.1.2     \u001b[32m✔\u001b[39m \u001b[34mstringr\u001b[39m 1.4.0\n",
      "\u001b[32m✔\u001b[39m \u001b[34mreadr  \u001b[39m 1.4.0     \u001b[32m✔\u001b[39m \u001b[34mforcats\u001b[39m 0.5.1\n",
      "\n",
      "── \u001b[1mConflicts\u001b[22m ────────────────────────────────────────── tidyverse_conflicts() ──\n",
      "\u001b[31m✖\u001b[39m \u001b[34mdplyr\u001b[39m::\u001b[32mfilter()\u001b[39m masks \u001b[34mstats\u001b[39m::filter()\n",
      "\u001b[31m✖\u001b[39m \u001b[34mdplyr\u001b[39m::\u001b[32mlag()\u001b[39m    masks \u001b[34mstats\u001b[39m::lag()\n",
      "\n",
      "\n",
      "Attaching package: ‘gridExtra’\n",
      "\n",
      "\n",
      "The following object is masked from ‘package:dplyr’:\n",
      "\n",
      "    combine\n",
      "\n",
      "\n"
     ]
    }
   ],
   "source": [
    "library(tidyverse)\n",
    "library(repr)\n",
    "library(datateachr)\n",
    "library(digest)\n",
    "library(infer)\n",
    "library(gridExtra)\n",
    "library(cowplot)"
   ]
  },
  {
   "cell_type": "code",
   "execution_count": 2,
   "id": "bd0cdaec",
   "metadata": {},
   "outputs": [],
   "source": [
    "URL2017 <- \"https://drive.google.com/uc?id=11RimvDwqEXhi88RdmiHg6PUGOL8xXMW4&export=download\"\n",
    "URL2018 <- \"https://drive.google.com/uc?id=1vA-vnvTlHoXV1q6bu4S_qay37nz7X3UM&export=download\"\n",
    "URL2019 <- \"https://drive.google.com/uc?id=1kBSEJl-JCIzqzVmB9PMLZ-C2WM1hH7je&export=download\"\n",
    "URL2020 <- \"https://drive.google.com/uc?id=1zaTH_62fMJNYMjWItzjSvrK3nKdK74Zn&export=download\"\n",
    "URL2021 <- \"https://drive.google.com/uc?id=1Inz166gXuGusb47PhV6nQMEpxpl4Wh92&export=download\"\n",
    "URL2022 <- \"https://drive.google.com/uc?id=1vUUblkLnMKSxb8S0y55Zi3IHjfIZOJ2N&export=download\"\n",
    "cr2017 <- read.csv(URL2017)\n",
    "cr2018 <- read.csv(URL2018)\n",
    "cr2019 <- read.csv(URL2019)\n",
    "cr2020 <- read.csv(URL2020)\n",
    "cr2021 <- read.csv(URL2021)\n",
    "cr2022 <- read.csv(URL2022)"
   ]
  },
  {
   "cell_type": "code",
   "execution_count": 3,
   "id": "f2b7692c",
   "metadata": {},
   "outputs": [
    {
     "data": {
      "text/html": [
       "<table class=\"dataframe\">\n",
       "<caption>A data.frame: 6 × 10</caption>\n",
       "<thead>\n",
       "\t<tr><th></th><th scope=col>TYPE</th><th scope=col>YEAR</th><th scope=col>MONTH</th><th scope=col>DAY</th><th scope=col>HOUR</th><th scope=col>MINUTE</th><th scope=col>HUNDRED_BLOCK</th><th scope=col>NEIGHBOURHOOD</th><th scope=col>X</th><th scope=col>Y</th></tr>\n",
       "\t<tr><th></th><th scope=col>&lt;chr&gt;</th><th scope=col>&lt;int&gt;</th><th scope=col>&lt;int&gt;</th><th scope=col>&lt;int&gt;</th><th scope=col>&lt;int&gt;</th><th scope=col>&lt;int&gt;</th><th scope=col>&lt;chr&gt;</th><th scope=col>&lt;chr&gt;</th><th scope=col>&lt;dbl&gt;</th><th scope=col>&lt;dbl&gt;</th></tr>\n",
       "</thead>\n",
       "<tbody>\n",
       "\t<tr><th scope=row>1</th><td>Theft of Vehicle</td><td>2017</td><td>11</td><td>29</td><td>20</td><td> 0</td><td>29XX SKEENA ST  </td><td>Renfrew-Collingwood      </td><td>497919.2</td><td>5456148</td></tr>\n",
       "\t<tr><th scope=row>2</th><td>Theft of Vehicle</td><td>2017</td><td> 6</td><td>21</td><td>21</td><td> 0</td><td>2X JACKSON AVE  </td><td>Strathcona               </td><td>493220.8</td><td>5459096</td></tr>\n",
       "\t<tr><th scope=row>3</th><td>Theft of Vehicle</td><td>2017</td><td> 9</td><td>21</td><td>18</td><td> 0</td><td>2X W 14TH AVE   </td><td>Mount Pleasant           </td><td>492319.5</td><td>5456190</td></tr>\n",
       "\t<tr><th scope=row>4</th><td>Theft of Vehicle</td><td>2017</td><td> 5</td><td> 9</td><td>15</td><td>30</td><td>2X W PENDER ST  </td><td>Central Business District</td><td>492338.0</td><td>5458667</td></tr>\n",
       "\t<tr><th scope=row>5</th><td>Theft of Vehicle</td><td>2017</td><td>10</td><td> 9</td><td> 6</td><td> 0</td><td>2XX ALEXANDER ST</td><td>Strathcona               </td><td>492802.5</td><td>5459038</td></tr>\n",
       "\t<tr><th scope=row>6</th><td>Theft of Vehicle</td><td>2017</td><td> 6</td><td>13</td><td> 6</td><td>45</td><td>2XX CENTRAL ST  </td><td>Strathcona               </td><td>492756.6</td><td>5457623</td></tr>\n",
       "</tbody>\n",
       "</table>\n"
      ],
      "text/latex": [
       "A data.frame: 6 × 10\n",
       "\\begin{tabular}{r|llllllllll}\n",
       "  & TYPE & YEAR & MONTH & DAY & HOUR & MINUTE & HUNDRED\\_BLOCK & NEIGHBOURHOOD & X & Y\\\\\n",
       "  & <chr> & <int> & <int> & <int> & <int> & <int> & <chr> & <chr> & <dbl> & <dbl>\\\\\n",
       "\\hline\n",
       "\t1 & Theft of Vehicle & 2017 & 11 & 29 & 20 &  0 & 29XX SKEENA ST   & Renfrew-Collingwood       & 497919.2 & 5456148\\\\\n",
       "\t2 & Theft of Vehicle & 2017 &  6 & 21 & 21 &  0 & 2X JACKSON AVE   & Strathcona                & 493220.8 & 5459096\\\\\n",
       "\t3 & Theft of Vehicle & 2017 &  9 & 21 & 18 &  0 & 2X W 14TH AVE    & Mount Pleasant            & 492319.5 & 5456190\\\\\n",
       "\t4 & Theft of Vehicle & 2017 &  5 &  9 & 15 & 30 & 2X W PENDER ST   & Central Business District & 492338.0 & 5458667\\\\\n",
       "\t5 & Theft of Vehicle & 2017 & 10 &  9 &  6 &  0 & 2XX ALEXANDER ST & Strathcona                & 492802.5 & 5459038\\\\\n",
       "\t6 & Theft of Vehicle & 2017 &  6 & 13 &  6 & 45 & 2XX CENTRAL ST   & Strathcona                & 492756.6 & 5457623\\\\\n",
       "\\end{tabular}\n"
      ],
      "text/markdown": [
       "\n",
       "A data.frame: 6 × 10\n",
       "\n",
       "| <!--/--> | TYPE &lt;chr&gt; | YEAR &lt;int&gt; | MONTH &lt;int&gt; | DAY &lt;int&gt; | HOUR &lt;int&gt; | MINUTE &lt;int&gt; | HUNDRED_BLOCK &lt;chr&gt; | NEIGHBOURHOOD &lt;chr&gt; | X &lt;dbl&gt; | Y &lt;dbl&gt; |\n",
       "|---|---|---|---|---|---|---|---|---|---|---|\n",
       "| 1 | Theft of Vehicle | 2017 | 11 | 29 | 20 |  0 | 29XX SKEENA ST   | Renfrew-Collingwood       | 497919.2 | 5456148 |\n",
       "| 2 | Theft of Vehicle | 2017 |  6 | 21 | 21 |  0 | 2X JACKSON AVE   | Strathcona                | 493220.8 | 5459096 |\n",
       "| 3 | Theft of Vehicle | 2017 |  9 | 21 | 18 |  0 | 2X W 14TH AVE    | Mount Pleasant            | 492319.5 | 5456190 |\n",
       "| 4 | Theft of Vehicle | 2017 |  5 |  9 | 15 | 30 | 2X W PENDER ST   | Central Business District | 492338.0 | 5458667 |\n",
       "| 5 | Theft of Vehicle | 2017 | 10 |  9 |  6 |  0 | 2XX ALEXANDER ST | Strathcona                | 492802.5 | 5459038 |\n",
       "| 6 | Theft of Vehicle | 2017 |  6 | 13 |  6 | 45 | 2XX CENTRAL ST   | Strathcona                | 492756.6 | 5457623 |\n",
       "\n"
      ],
      "text/plain": [
       "  TYPE             YEAR MONTH DAY HOUR MINUTE HUNDRED_BLOCK   \n",
       "1 Theft of Vehicle 2017 11    29  20    0     29XX SKEENA ST  \n",
       "2 Theft of Vehicle 2017  6    21  21    0     2X JACKSON AVE  \n",
       "3 Theft of Vehicle 2017  9    21  18    0     2X W 14TH AVE   \n",
       "4 Theft of Vehicle 2017  5     9  15   30     2X W PENDER ST  \n",
       "5 Theft of Vehicle 2017 10     9   6    0     2XX ALEXANDER ST\n",
       "6 Theft of Vehicle 2017  6    13   6   45     2XX CENTRAL ST  \n",
       "  NEIGHBOURHOOD             X        Y      \n",
       "1 Renfrew-Collingwood       497919.2 5456148\n",
       "2 Strathcona                493220.8 5459096\n",
       "3 Mount Pleasant            492319.5 5456190\n",
       "4 Central Business District 492338.0 5458667\n",
       "5 Strathcona                492802.5 5459038\n",
       "6 Strathcona                492756.6 5457623"
      ]
     },
     "metadata": {},
     "output_type": "display_data"
    },
    {
     "data": {
      "text/html": [
       "<table class=\"dataframe\">\n",
       "<caption>A data.frame: 6 × 5</caption>\n",
       "<thead>\n",
       "\t<tr><th></th><th scope=col>TYPE</th><th scope=col>YEAR</th><th scope=col>MONTH</th><th scope=col>DAY</th><th scope=col>NEIGHBOURHOOD</th></tr>\n",
       "\t<tr><th></th><th scope=col>&lt;chr&gt;</th><th scope=col>&lt;int&gt;</th><th scope=col>&lt;int&gt;</th><th scope=col>&lt;int&gt;</th><th scope=col>&lt;chr&gt;</th></tr>\n",
       "</thead>\n",
       "<tbody>\n",
       "\t<tr><th scope=row>1</th><td>Theft of Vehicle</td><td>2017</td><td>11</td><td>29</td><td>Renfrew-Collingwood      </td></tr>\n",
       "\t<tr><th scope=row>2</th><td>Theft of Vehicle</td><td>2017</td><td> 6</td><td>21</td><td>Strathcona               </td></tr>\n",
       "\t<tr><th scope=row>3</th><td>Theft of Vehicle</td><td>2017</td><td> 9</td><td>21</td><td>Mount Pleasant           </td></tr>\n",
       "\t<tr><th scope=row>4</th><td>Theft of Vehicle</td><td>2017</td><td> 5</td><td> 9</td><td>Central Business District</td></tr>\n",
       "\t<tr><th scope=row>5</th><td>Theft of Vehicle</td><td>2017</td><td>10</td><td> 9</td><td>Strathcona               </td></tr>\n",
       "\t<tr><th scope=row>6</th><td>Theft of Vehicle</td><td>2017</td><td> 6</td><td>13</td><td>Strathcona               </td></tr>\n",
       "</tbody>\n",
       "</table>\n"
      ],
      "text/latex": [
       "A data.frame: 6 × 5\n",
       "\\begin{tabular}{r|lllll}\n",
       "  & TYPE & YEAR & MONTH & DAY & NEIGHBOURHOOD\\\\\n",
       "  & <chr> & <int> & <int> & <int> & <chr>\\\\\n",
       "\\hline\n",
       "\t1 & Theft of Vehicle & 2017 & 11 & 29 & Renfrew-Collingwood      \\\\\n",
       "\t2 & Theft of Vehicle & 2017 &  6 & 21 & Strathcona               \\\\\n",
       "\t3 & Theft of Vehicle & 2017 &  9 & 21 & Mount Pleasant           \\\\\n",
       "\t4 & Theft of Vehicle & 2017 &  5 &  9 & Central Business District\\\\\n",
       "\t5 & Theft of Vehicle & 2017 & 10 &  9 & Strathcona               \\\\\n",
       "\t6 & Theft of Vehicle & 2017 &  6 & 13 & Strathcona               \\\\\n",
       "\\end{tabular}\n"
      ],
      "text/markdown": [
       "\n",
       "A data.frame: 6 × 5\n",
       "\n",
       "| <!--/--> | TYPE &lt;chr&gt; | YEAR &lt;int&gt; | MONTH &lt;int&gt; | DAY &lt;int&gt; | NEIGHBOURHOOD &lt;chr&gt; |\n",
       "|---|---|---|---|---|---|\n",
       "| 1 | Theft of Vehicle | 2017 | 11 | 29 | Renfrew-Collingwood       |\n",
       "| 2 | Theft of Vehicle | 2017 |  6 | 21 | Strathcona                |\n",
       "| 3 | Theft of Vehicle | 2017 |  9 | 21 | Mount Pleasant            |\n",
       "| 4 | Theft of Vehicle | 2017 |  5 |  9 | Central Business District |\n",
       "| 5 | Theft of Vehicle | 2017 | 10 |  9 | Strathcona                |\n",
       "| 6 | Theft of Vehicle | 2017 |  6 | 13 | Strathcona                |\n",
       "\n"
      ],
      "text/plain": [
       "  TYPE             YEAR MONTH DAY NEIGHBOURHOOD            \n",
       "1 Theft of Vehicle 2017 11    29  Renfrew-Collingwood      \n",
       "2 Theft of Vehicle 2017  6    21  Strathcona               \n",
       "3 Theft of Vehicle 2017  9    21  Mount Pleasant           \n",
       "4 Theft of Vehicle 2017  5     9  Central Business District\n",
       "5 Theft of Vehicle 2017 10     9  Strathcona               \n",
       "6 Theft of Vehicle 2017  6    13  Strathcona               "
      ]
     },
     "metadata": {},
     "output_type": "display_data"
    }
   ],
   "source": [
    "# combine 6 years into one dataframe\n",
    "cr2017_2022 <- rbind(cr2017,cr2018,cr2019,cr2020,cr2021,cr2022)\n",
    "head(cr2017_2022)\n",
    "\n",
    "# only select the TYPE, YEAR, NEIGHBOURHOOD for analysis\n",
    "crime2017_2022 <- cr2017_2022 %>% \n",
    "    select(TYPE, YEAR, MONTH, DAY, NEIGHBOURHOOD) \n",
    "head(crime2017_2022)\n"
   ]
  },
  {
   "cell_type": "code",
   "execution_count": 4,
   "id": "206c6030",
   "metadata": {},
   "outputs": [
    {
     "data": {
      "text/html": [
       "<table class=\"dataframe\">\n",
       "<caption>A tibble: 6 × 4</caption>\n",
       "<thead>\n",
       "\t<tr><th scope=col>YEAR</th><th scope=col>DAY</th><th scope=col>NEIGHBOURHOOD</th><th scope=col>total</th></tr>\n",
       "\t<tr><th scope=col>&lt;int&gt;</th><th scope=col>&lt;int&gt;</th><th scope=col>&lt;chr&gt;</th><th scope=col>&lt;int&gt;</th></tr>\n",
       "</thead>\n",
       "<tbody>\n",
       "\t<tr><td>2017</td><td>1</td><td>Arbutus Ridge            </td><td> 13</td></tr>\n",
       "\t<tr><td>2017</td><td>1</td><td>Central Business District</td><td>439</td></tr>\n",
       "\t<tr><td>2017</td><td>1</td><td>Dunbar-Southlands        </td><td> 17</td></tr>\n",
       "\t<tr><td>2017</td><td>1</td><td>Fairview                 </td><td> 80</td></tr>\n",
       "\t<tr><td>2017</td><td>1</td><td>Grandview-Woodland       </td><td> 79</td></tr>\n",
       "\t<tr><td>2017</td><td>1</td><td>Hastings-Sunrise         </td><td> 60</td></tr>\n",
       "</tbody>\n",
       "</table>\n"
      ],
      "text/latex": [
       "A tibble: 6 × 4\n",
       "\\begin{tabular}{llll}\n",
       " YEAR & DAY & NEIGHBOURHOOD & total\\\\\n",
       " <int> & <int> & <chr> & <int>\\\\\n",
       "\\hline\n",
       "\t 2017 & 1 & Arbutus Ridge             &  13\\\\\n",
       "\t 2017 & 1 & Central Business District & 439\\\\\n",
       "\t 2017 & 1 & Dunbar-Southlands         &  17\\\\\n",
       "\t 2017 & 1 & Fairview                  &  80\\\\\n",
       "\t 2017 & 1 & Grandview-Woodland        &  79\\\\\n",
       "\t 2017 & 1 & Hastings-Sunrise          &  60\\\\\n",
       "\\end{tabular}\n"
      ],
      "text/markdown": [
       "\n",
       "A tibble: 6 × 4\n",
       "\n",
       "| YEAR &lt;int&gt; | DAY &lt;int&gt; | NEIGHBOURHOOD &lt;chr&gt; | total &lt;int&gt; |\n",
       "|---|---|---|---|\n",
       "| 2017 | 1 | Arbutus Ridge             |  13 |\n",
       "| 2017 | 1 | Central Business District | 439 |\n",
       "| 2017 | 1 | Dunbar-Southlands         |  17 |\n",
       "| 2017 | 1 | Fairview                  |  80 |\n",
       "| 2017 | 1 | Grandview-Woodland        |  79 |\n",
       "| 2017 | 1 | Hastings-Sunrise          |  60 |\n",
       "\n"
      ],
      "text/plain": [
       "  YEAR DAY NEIGHBOURHOOD             total\n",
       "1 2017 1   Arbutus Ridge              13  \n",
       "2 2017 1   Central Business District 439  \n",
       "3 2017 1   Dunbar-Southlands          17  \n",
       "4 2017 1   Fairview                   80  \n",
       "5 2017 1   Grandview-Woodland         79  \n",
       "6 2017 1   Hastings-Sunrise           60  "
      ]
     },
     "metadata": {},
     "output_type": "display_data"
    }
   ],
   "source": [
    "# overal daily total crime incidents for each neighborhood in each year\n",
    "crime_total <- crime2017_2022 %>%\n",
    "    group_by(YEAR, DAY, NEIGHBOURHOOD) %>%\n",
    "    filter(NEIGHBOURHOOD != \"\") %>%\n",
    "    summarise(total = n(), `.groups` = \"drop\")\n",
    "head(crime_total)"
   ]
  },
  {
   "cell_type": "code",
   "execution_count": 5,
   "id": "3ccabedb",
   "metadata": {},
   "outputs": [
    {
     "data": {
      "text/html": [
       "<table class=\"dataframe\">\n",
       "<caption>A tibble: 6 × 2</caption>\n",
       "<thead>\n",
       "\t<tr><th scope=col>NEIGHBOURHOOD</th><th scope=col>daily_avg</th></tr>\n",
       "\t<tr><th scope=col>&lt;chr&gt;</th><th scope=col>&lt;dbl&gt;</th></tr>\n",
       "</thead>\n",
       "<tbody>\n",
       "\t<tr><td>Arbutus Ridge            </td><td> 10.47486</td></tr>\n",
       "\t<tr><td>Central Business District</td><td>348.02151</td></tr>\n",
       "\t<tr><td>Dunbar-Southlands        </td><td> 13.64205</td></tr>\n",
       "\t<tr><td>Fairview                 </td><td> 59.44086</td></tr>\n",
       "\t<tr><td>Grandview-Woodland       </td><td> 57.51613</td></tr>\n",
       "\t<tr><td>Hastings-Sunrise         </td><td> 39.24176</td></tr>\n",
       "</tbody>\n",
       "</table>\n"
      ],
      "text/latex": [
       "A tibble: 6 × 2\n",
       "\\begin{tabular}{ll}\n",
       " NEIGHBOURHOOD & daily\\_avg\\\\\n",
       " <chr> & <dbl>\\\\\n",
       "\\hline\n",
       "\t Arbutus Ridge             &  10.47486\\\\\n",
       "\t Central Business District & 348.02151\\\\\n",
       "\t Dunbar-Southlands         &  13.64205\\\\\n",
       "\t Fairview                  &  59.44086\\\\\n",
       "\t Grandview-Woodland        &  57.51613\\\\\n",
       "\t Hastings-Sunrise          &  39.24176\\\\\n",
       "\\end{tabular}\n"
      ],
      "text/markdown": [
       "\n",
       "A tibble: 6 × 2\n",
       "\n",
       "| NEIGHBOURHOOD &lt;chr&gt; | daily_avg &lt;dbl&gt; |\n",
       "|---|---|\n",
       "| Arbutus Ridge             |  10.47486 |\n",
       "| Central Business District | 348.02151 |\n",
       "| Dunbar-Southlands         |  13.64205 |\n",
       "| Fairview                  |  59.44086 |\n",
       "| Grandview-Woodland        |  57.51613 |\n",
       "| Hastings-Sunrise          |  39.24176 |\n",
       "\n"
      ],
      "text/plain": [
       "  NEIGHBOURHOOD             daily_avg\n",
       "1 Arbutus Ridge              10.47486\n",
       "2 Central Business District 348.02151\n",
       "3 Dunbar-Southlands          13.64205\n",
       "4 Fairview                   59.44086\n",
       "5 Grandview-Woodland         57.51613\n",
       "6 Hastings-Sunrise           39.24176"
      ]
     },
     "metadata": {},
     "output_type": "display_data"
    },
    {
     "data": {
      "text/html": [
       "<table class=\"dataframe\">\n",
       "<caption>A tibble: 6 × 2</caption>\n",
       "<thead>\n",
       "\t<tr><th scope=col>NEIGHBOURHOOD</th><th scope=col>daily_median</th></tr>\n",
       "\t<tr><th scope=col>&lt;chr&gt;</th><th scope=col>&lt;dbl&gt;</th></tr>\n",
       "</thead>\n",
       "<tbody>\n",
       "\t<tr><td>Arbutus Ridge            </td><td> 11.0</td></tr>\n",
       "\t<tr><td>Central Business District</td><td>373.0</td></tr>\n",
       "\t<tr><td>Dunbar-Southlands        </td><td> 14.0</td></tr>\n",
       "\t<tr><td>Fairview                 </td><td> 65.5</td></tr>\n",
       "\t<tr><td>Grandview-Woodland       </td><td> 64.5</td></tr>\n",
       "\t<tr><td>Hastings-Sunrise         </td><td> 43.0</td></tr>\n",
       "</tbody>\n",
       "</table>\n"
      ],
      "text/latex": [
       "A tibble: 6 × 2\n",
       "\\begin{tabular}{ll}\n",
       " NEIGHBOURHOOD & daily\\_median\\\\\n",
       " <chr> & <dbl>\\\\\n",
       "\\hline\n",
       "\t Arbutus Ridge             &  11.0\\\\\n",
       "\t Central Business District & 373.0\\\\\n",
       "\t Dunbar-Southlands         &  14.0\\\\\n",
       "\t Fairview                  &  65.5\\\\\n",
       "\t Grandview-Woodland        &  64.5\\\\\n",
       "\t Hastings-Sunrise          &  43.0\\\\\n",
       "\\end{tabular}\n"
      ],
      "text/markdown": [
       "\n",
       "A tibble: 6 × 2\n",
       "\n",
       "| NEIGHBOURHOOD &lt;chr&gt; | daily_median &lt;dbl&gt; |\n",
       "|---|---|\n",
       "| Arbutus Ridge             |  11.0 |\n",
       "| Central Business District | 373.0 |\n",
       "| Dunbar-Southlands         |  14.0 |\n",
       "| Fairview                  |  65.5 |\n",
       "| Grandview-Woodland        |  64.5 |\n",
       "| Hastings-Sunrise          |  43.0 |\n",
       "\n"
      ],
      "text/plain": [
       "  NEIGHBOURHOOD             daily_median\n",
       "1 Arbutus Ridge              11.0       \n",
       "2 Central Business District 373.0       \n",
       "3 Dunbar-Southlands          14.0       \n",
       "4 Fairview                   65.5       \n",
       "5 Grandview-Woodland         64.5       \n",
       "6 Hastings-Sunrise           43.0       "
      ]
     },
     "metadata": {},
     "output_type": "display_data"
    },
    {
     "data": {
      "text/html": [
       "<table class=\"dataframe\">\n",
       "<caption>A tibble: 6 × 2</caption>\n",
       "<thead>\n",
       "\t<tr><th scope=col>NEIGHBOURHOOD</th><th scope=col>daily_sd</th></tr>\n",
       "\t<tr><th scope=col>&lt;chr&gt;</th><th scope=col>&lt;dbl&gt;</th></tr>\n",
       "</thead>\n",
       "<tbody>\n",
       "\t<tr><td>Arbutus Ridge            </td><td>  5.195415</td></tr>\n",
       "\t<tr><td>Central Business District</td><td>163.014606</td></tr>\n",
       "\t<tr><td>Dunbar-Southlands        </td><td>  6.610143</td></tr>\n",
       "\t<tr><td>Fairview                 </td><td> 27.608053</td></tr>\n",
       "\t<tr><td>Grandview-Woodland       </td><td> 26.301829</td></tr>\n",
       "\t<tr><td>Hastings-Sunrise         </td><td> 17.319768</td></tr>\n",
       "</tbody>\n",
       "</table>\n"
      ],
      "text/latex": [
       "A tibble: 6 × 2\n",
       "\\begin{tabular}{ll}\n",
       " NEIGHBOURHOOD & daily\\_sd\\\\\n",
       " <chr> & <dbl>\\\\\n",
       "\\hline\n",
       "\t Arbutus Ridge             &   5.195415\\\\\n",
       "\t Central Business District & 163.014606\\\\\n",
       "\t Dunbar-Southlands         &   6.610143\\\\\n",
       "\t Fairview                  &  27.608053\\\\\n",
       "\t Grandview-Woodland        &  26.301829\\\\\n",
       "\t Hastings-Sunrise          &  17.319768\\\\\n",
       "\\end{tabular}\n"
      ],
      "text/markdown": [
       "\n",
       "A tibble: 6 × 2\n",
       "\n",
       "| NEIGHBOURHOOD &lt;chr&gt; | daily_sd &lt;dbl&gt; |\n",
       "|---|---|\n",
       "| Arbutus Ridge             |   5.195415 |\n",
       "| Central Business District | 163.014606 |\n",
       "| Dunbar-Southlands         |   6.610143 |\n",
       "| Fairview                  |  27.608053 |\n",
       "| Grandview-Woodland        |  26.301829 |\n",
       "| Hastings-Sunrise          |  17.319768 |\n",
       "\n"
      ],
      "text/plain": [
       "  NEIGHBOURHOOD             daily_sd  \n",
       "1 Arbutus Ridge               5.195415\n",
       "2 Central Business District 163.014606\n",
       "3 Dunbar-Southlands           6.610143\n",
       "4 Fairview                   27.608053\n",
       "5 Grandview-Woodland         26.301829\n",
       "6 Hastings-Sunrise           17.319768"
      ]
     },
     "metadata": {},
     "output_type": "display_data"
    }
   ],
   "source": [
    "# daily analysis \n",
    "# daily average crime incidents for each neighborhood in each year\n",
    "crime_daily_avg <- crime_total %>%\n",
    "    group_by(NEIGHBOURHOOD) %>%\n",
    "    summarise(daily_avg = mean(total))\n",
    "head(crime_daily_avg)\n",
    "\n",
    "# daily median  for crime incidents for each neighborhood in each year\n",
    "crime_daily_median <- crime_total %>%\n",
    "    group_by(NEIGHBOURHOOD) %>%\n",
    "    summarise(daily_median = median(total))\n",
    "head(crime_daily_median)\n",
    "\n",
    "# daily standard deviation for crime incidents for each neighborhood in each year\n",
    "crime_daily_sd <- crime_total %>%\n",
    "    group_by(NEIGHBOURHOOD) %>%\n",
    "    summarise(daily_sd = sd(total))\n",
    "head(crime_daily_sd)"
   ]
  },
  {
   "cell_type": "code",
   "execution_count": 6,
   "id": "e8f8a774",
   "metadata": {},
   "outputs": [
    {
     "data": {
      "text/html": [
       "<table class=\"dataframe\">\n",
       "<caption>A tibble: 6 × 3</caption>\n",
       "<thead>\n",
       "\t<tr><th scope=col>YEAR</th><th scope=col>NEIGHBOURHOOD</th><th scope=col>yearly_avg</th></tr>\n",
       "\t<tr><th scope=col>&lt;int&gt;</th><th scope=col>&lt;chr&gt;</th><th scope=col>&lt;dbl&gt;</th></tr>\n",
       "</thead>\n",
       "<tbody>\n",
       "\t<tr><td>2017</td><td>Arbutus Ridge            </td><td> 13.87097</td></tr>\n",
       "\t<tr><td>2017</td><td>Central Business District</td><td>431.80645</td></tr>\n",
       "\t<tr><td>2017</td><td>Dunbar-Southlands        </td><td> 16.74194</td></tr>\n",
       "\t<tr><td>2017</td><td>Fairview                 </td><td> 69.93548</td></tr>\n",
       "\t<tr><td>2017</td><td>Grandview-Woodland       </td><td> 77.48387</td></tr>\n",
       "\t<tr><td>2017</td><td>Hastings-Sunrise         </td><td> 46.32258</td></tr>\n",
       "</tbody>\n",
       "</table>\n"
      ],
      "text/latex": [
       "A tibble: 6 × 3\n",
       "\\begin{tabular}{lll}\n",
       " YEAR & NEIGHBOURHOOD & yearly\\_avg\\\\\n",
       " <int> & <chr> & <dbl>\\\\\n",
       "\\hline\n",
       "\t 2017 & Arbutus Ridge             &  13.87097\\\\\n",
       "\t 2017 & Central Business District & 431.80645\\\\\n",
       "\t 2017 & Dunbar-Southlands         &  16.74194\\\\\n",
       "\t 2017 & Fairview                  &  69.93548\\\\\n",
       "\t 2017 & Grandview-Woodland        &  77.48387\\\\\n",
       "\t 2017 & Hastings-Sunrise          &  46.32258\\\\\n",
       "\\end{tabular}\n"
      ],
      "text/markdown": [
       "\n",
       "A tibble: 6 × 3\n",
       "\n",
       "| YEAR &lt;int&gt; | NEIGHBOURHOOD &lt;chr&gt; | yearly_avg &lt;dbl&gt; |\n",
       "|---|---|---|\n",
       "| 2017 | Arbutus Ridge             |  13.87097 |\n",
       "| 2017 | Central Business District | 431.80645 |\n",
       "| 2017 | Dunbar-Southlands         |  16.74194 |\n",
       "| 2017 | Fairview                  |  69.93548 |\n",
       "| 2017 | Grandview-Woodland        |  77.48387 |\n",
       "| 2017 | Hastings-Sunrise          |  46.32258 |\n",
       "\n"
      ],
      "text/plain": [
       "  YEAR NEIGHBOURHOOD             yearly_avg\n",
       "1 2017 Arbutus Ridge              13.87097 \n",
       "2 2017 Central Business District 431.80645 \n",
       "3 2017 Dunbar-Southlands          16.74194 \n",
       "4 2017 Fairview                   69.93548 \n",
       "5 2017 Grandview-Woodland         77.48387 \n",
       "6 2017 Hastings-Sunrise           46.32258 "
      ]
     },
     "metadata": {},
     "output_type": "display_data"
    },
    {
     "data": {
      "text/html": [
       "<table class=\"dataframe\">\n",
       "<caption>A tibble: 6 × 3</caption>\n",
       "<thead>\n",
       "\t<tr><th scope=col>YEAR</th><th scope=col>NEIGHBOURHOOD</th><th scope=col>yearly_median</th></tr>\n",
       "\t<tr><th scope=col>&lt;int&gt;</th><th scope=col>&lt;chr&gt;</th><th scope=col>&lt;dbl&gt;</th></tr>\n",
       "</thead>\n",
       "<tbody>\n",
       "\t<tr><td>2017</td><td>Arbutus Ridge            </td><td> 13</td></tr>\n",
       "\t<tr><td>2017</td><td>Central Business District</td><td>435</td></tr>\n",
       "\t<tr><td>2017</td><td>Dunbar-Southlands        </td><td> 16</td></tr>\n",
       "\t<tr><td>2017</td><td>Fairview                 </td><td> 73</td></tr>\n",
       "\t<tr><td>2017</td><td>Grandview-Woodland       </td><td> 80</td></tr>\n",
       "\t<tr><td>2017</td><td>Hastings-Sunrise         </td><td> 46</td></tr>\n",
       "</tbody>\n",
       "</table>\n"
      ],
      "text/latex": [
       "A tibble: 6 × 3\n",
       "\\begin{tabular}{lll}\n",
       " YEAR & NEIGHBOURHOOD & yearly\\_median\\\\\n",
       " <int> & <chr> & <dbl>\\\\\n",
       "\\hline\n",
       "\t 2017 & Arbutus Ridge             &  13\\\\\n",
       "\t 2017 & Central Business District & 435\\\\\n",
       "\t 2017 & Dunbar-Southlands         &  16\\\\\n",
       "\t 2017 & Fairview                  &  73\\\\\n",
       "\t 2017 & Grandview-Woodland        &  80\\\\\n",
       "\t 2017 & Hastings-Sunrise          &  46\\\\\n",
       "\\end{tabular}\n"
      ],
      "text/markdown": [
       "\n",
       "A tibble: 6 × 3\n",
       "\n",
       "| YEAR &lt;int&gt; | NEIGHBOURHOOD &lt;chr&gt; | yearly_median &lt;dbl&gt; |\n",
       "|---|---|---|\n",
       "| 2017 | Arbutus Ridge             |  13 |\n",
       "| 2017 | Central Business District | 435 |\n",
       "| 2017 | Dunbar-Southlands         |  16 |\n",
       "| 2017 | Fairview                  |  73 |\n",
       "| 2017 | Grandview-Woodland        |  80 |\n",
       "| 2017 | Hastings-Sunrise          |  46 |\n",
       "\n"
      ],
      "text/plain": [
       "  YEAR NEIGHBOURHOOD             yearly_median\n",
       "1 2017 Arbutus Ridge              13          \n",
       "2 2017 Central Business District 435          \n",
       "3 2017 Dunbar-Southlands          16          \n",
       "4 2017 Fairview                   73          \n",
       "5 2017 Grandview-Woodland         80          \n",
       "6 2017 Hastings-Sunrise           46          "
      ]
     },
     "metadata": {},
     "output_type": "display_data"
    },
    {
     "data": {
      "text/html": [
       "<table class=\"dataframe\">\n",
       "<caption>A tibble: 6 × 3</caption>\n",
       "<thead>\n",
       "\t<tr><th scope=col>YEAR</th><th scope=col>NEIGHBOURHOOD</th><th scope=col>yearly_sd</th></tr>\n",
       "\t<tr><th scope=col>&lt;int&gt;</th><th scope=col>&lt;chr&gt;</th><th scope=col>&lt;dbl&gt;</th></tr>\n",
       "</thead>\n",
       "<tbody>\n",
       "\t<tr><td>2017</td><td>Arbutus Ridge            </td><td> 4.595229</td></tr>\n",
       "\t<tr><td>2017</td><td>Central Business District</td><td>57.918575</td></tr>\n",
       "\t<tr><td>2017</td><td>Dunbar-Southlands        </td><td> 4.304786</td></tr>\n",
       "\t<tr><td>2017</td><td>Fairview                 </td><td>13.339004</td></tr>\n",
       "\t<tr><td>2017</td><td>Grandview-Woodland       </td><td>11.595605</td></tr>\n",
       "\t<tr><td>2017</td><td>Hastings-Sunrise         </td><td> 8.711629</td></tr>\n",
       "</tbody>\n",
       "</table>\n"
      ],
      "text/latex": [
       "A tibble: 6 × 3\n",
       "\\begin{tabular}{lll}\n",
       " YEAR & NEIGHBOURHOOD & yearly\\_sd\\\\\n",
       " <int> & <chr> & <dbl>\\\\\n",
       "\\hline\n",
       "\t 2017 & Arbutus Ridge             &  4.595229\\\\\n",
       "\t 2017 & Central Business District & 57.918575\\\\\n",
       "\t 2017 & Dunbar-Southlands         &  4.304786\\\\\n",
       "\t 2017 & Fairview                  & 13.339004\\\\\n",
       "\t 2017 & Grandview-Woodland        & 11.595605\\\\\n",
       "\t 2017 & Hastings-Sunrise          &  8.711629\\\\\n",
       "\\end{tabular}\n"
      ],
      "text/markdown": [
       "\n",
       "A tibble: 6 × 3\n",
       "\n",
       "| YEAR &lt;int&gt; | NEIGHBOURHOOD &lt;chr&gt; | yearly_sd &lt;dbl&gt; |\n",
       "|---|---|---|\n",
       "| 2017 | Arbutus Ridge             |  4.595229 |\n",
       "| 2017 | Central Business District | 57.918575 |\n",
       "| 2017 | Dunbar-Southlands         |  4.304786 |\n",
       "| 2017 | Fairview                  | 13.339004 |\n",
       "| 2017 | Grandview-Woodland        | 11.595605 |\n",
       "| 2017 | Hastings-Sunrise          |  8.711629 |\n",
       "\n"
      ],
      "text/plain": [
       "  YEAR NEIGHBOURHOOD             yearly_sd\n",
       "1 2017 Arbutus Ridge              4.595229\n",
       "2 2017 Central Business District 57.918575\n",
       "3 2017 Dunbar-Southlands          4.304786\n",
       "4 2017 Fairview                  13.339004\n",
       "5 2017 Grandview-Woodland        11.595605\n",
       "6 2017 Hastings-Sunrise           8.711629"
      ]
     },
     "metadata": {},
     "output_type": "display_data"
    }
   ],
   "source": [
    "# yearly analysis\n",
    "# yearly average crime incidents for each neighborhood\n",
    "crime_yearly_avg <- crime_total %>%\n",
    "    group_by(YEAR, NEIGHBOURHOOD) %>%\n",
    "    summarise(yearly_avg = mean(total), `.groups` = \"drop\")\n",
    "head(crime_yearly_avg)\n",
    "\n",
    "# yearly median for crime incidents for each neighborhood\n",
    "crime_yearly_median <- crime_total %>%\n",
    "    group_by(YEAR, NEIGHBOURHOOD) %>%\n",
    "    summarise(yearly_median = median(total), `.groups` = \"drop\")\n",
    "head(crime_yearly_median)\n",
    "\n",
    "# yearly standard deviation for crime incidents for each neighborhood\n",
    "crime_yearly_sd <- crime_total %>%\n",
    "    group_by(YEAR, NEIGHBOURHOOD) %>%\n",
    "    summarise(yearly_sd = sd(total), `.groups` = \"drop\")\n",
    "head(crime_yearly_sd)"
   ]
  },
  {
   "cell_type": "code",
   "execution_count": 7,
   "id": "84d6ab2a",
   "metadata": {},
   "outputs": [
    {
     "data": {
      "text/html": [
       "348.021505376344"
      ],
      "text/latex": [
       "348.021505376344"
      ],
      "text/markdown": [
       "348.021505376344"
      ],
      "text/plain": [
       "[1] 348.0215"
      ]
     },
     "metadata": {},
     "output_type": "display_data"
    },
    {
     "data": {
      "text/html": [
       "'Central Business District'"
      ],
      "text/latex": [
       "'Central Business District'"
      ],
      "text/markdown": [
       "'Central Business District'"
      ],
      "text/plain": [
       "[1] \"Central Business District\""
      ]
     },
     "metadata": {},
     "output_type": "display_data"
    },
    {
     "data": {
      "text/html": [
       "1.70526315789474"
      ],
      "text/latex": [
       "1.70526315789474"
      ],
      "text/markdown": [
       "1.70526315789474"
      ],
      "text/plain": [
       "[1] 1.705263"
      ]
     },
     "metadata": {},
     "output_type": "display_data"
    },
    {
     "data": {
      "text/html": [
       "'Musqueam'"
      ],
      "text/latex": [
       "'Musqueam'"
      ],
      "text/markdown": [
       "'Musqueam'"
      ],
      "text/plain": [
       "[1] \"Musqueam\""
      ]
     },
     "metadata": {},
     "output_type": "display_data"
    }
   ],
   "source": [
    "# highest average daily cirme incident rate\n",
    "daily_highest <- max(crime_daily_avg$daily_avg)\n",
    "highest_area <- crime_daily_avg$NEIGHBOURHOOD[which.max(crime_daily_avg$daily_avg)]\n",
    "daily_highest\n",
    "highest_area\n",
    "\n",
    "# lowest average daily cirme incident rate\n",
    "daily_lowest <- min(crime_daily_avg$daily_avg)\n",
    "lowest_area <- crime_daily_avg$NEIGHBOURHOOD[which.min(crime_daily_avg$daily_avg)]\n",
    "daily_lowest\n",
    "lowest_area\n"
   ]
  },
  {
   "cell_type": "code",
   "execution_count": 8,
   "id": "be88ef10",
   "metadata": {},
   "outputs": [
    {
     "data": {
      "image/png": "[encoded data removed]",
      "text/plain": [
       "plot without title"
      ]
     },
     "metadata": {
      "image/png": {
       "height": 420,
       "width": 420
      }
     },
     "output_type": "display_data"
    },
    {
     "data": {
      "image/png": "[encoded data removed]",
      "text/plain": [
       "plot without title"
      ]
     },
     "metadata": {
      "image/png": {
       "height": 420,
       "width": 420
      }
     },
     "output_type": "display_data"
    }
   ],
   "source": [
    "# visualization : population distribution\n",
    "pop_dist <- crime_total %>%\n",
    "    ggplot() + \n",
    "    geom_histogram(aes(x = total, y = ..density..), binwidth = 30, color=\"white\") +\n",
    "    theme(text = element_text(size = 10))+\n",
    "    xlab(\"Daily Crime Incidents\") +\n",
    "    ggtitle(\"Population Distribution of the Number of Daily Crime Incidents in each year.\")\n",
    "pop_dist\n",
    "# population distribution for 2017\n",
    "pop_dist_2017 <- crime_total %>%\n",
    "    filter(YEAR == 2017) %>%\n",
    "    ggplot() + \n",
    "    geom_histogram(aes(x = total, y = ..density..), binwidth = 30, color=\"white\") +\n",
    "    theme(text = element_text(size = 10))+\n",
    "    xlab(\"Daily Crime Incidents\") +\n",
    "    ggtitle(\"Population Distribution of the Number of Daily Crime Incidents in 2017.\")\n",
    "pop_dist_2017"
   ]
  },
  {
   "cell_type": "code",
   "execution_count": 9,
   "id": "29979df5",
   "metadata": {},
   "outputs": [
    {
     "data": {
      "text/html": [
       "<table class=\"dataframe\">\n",
       "<caption>A tibble: 6 × 3</caption>\n",
       "<thead>\n",
       "\t<tr><th scope=col>DAY</th><th scope=col>replicate</th><th scope=col>sample_mean</th></tr>\n",
       "\t<tr><th scope=col>&lt;int&gt;</th><th scope=col>&lt;int&gt;</th><th scope=col>&lt;dbl&gt;</th></tr>\n",
       "</thead>\n",
       "<tbody>\n",
       "\t<tr><td>1</td><td>1</td><td>73.46154</td></tr>\n",
       "\t<tr><td>1</td><td>2</td><td>71.84211</td></tr>\n",
       "\t<tr><td>1</td><td>3</td><td>34.20000</td></tr>\n",
       "\t<tr><td>1</td><td>4</td><td>47.93750</td></tr>\n",
       "\t<tr><td>1</td><td>5</td><td>70.73333</td></tr>\n",
       "\t<tr><td>1</td><td>6</td><td>50.73684</td></tr>\n",
       "</tbody>\n",
       "</table>\n"
      ],
      "text/latex": [
       "A tibble: 6 × 3\n",
       "\\begin{tabular}{lll}\n",
       " DAY & replicate & sample\\_mean\\\\\n",
       " <int> & <int> & <dbl>\\\\\n",
       "\\hline\n",
       "\t 1 & 1 & 73.46154\\\\\n",
       "\t 1 & 2 & 71.84211\\\\\n",
       "\t 1 & 3 & 34.20000\\\\\n",
       "\t 1 & 4 & 47.93750\\\\\n",
       "\t 1 & 5 & 70.73333\\\\\n",
       "\t 1 & 6 & 50.73684\\\\\n",
       "\\end{tabular}\n"
      ],
      "text/markdown": [
       "\n",
       "A tibble: 6 × 3\n",
       "\n",
       "| DAY &lt;int&gt; | replicate &lt;int&gt; | sample_mean &lt;dbl&gt; |\n",
       "|---|---|---|\n",
       "| 1 | 1 | 73.46154 |\n",
       "| 1 | 2 | 71.84211 |\n",
       "| 1 | 3 | 34.20000 |\n",
       "| 1 | 4 | 47.93750 |\n",
       "| 1 | 5 | 70.73333 |\n",
       "| 1 | 6 | 50.73684 |\n",
       "\n"
      ],
      "text/plain": [
       "  DAY replicate sample_mean\n",
       "1 1   1         73.46154   \n",
       "2 1   2         71.84211   \n",
       "3 1   3         34.20000   \n",
       "4 1   4         47.93750   \n",
       "5 1   5         70.73333   \n",
       "6 1   6         50.73684   "
      ]
     },
     "metadata": {},
     "output_type": "display_data"
    },
    {
     "data": {
      "image/png": "[encoded data removed]",
      "text/plain": [
       "plot without title"
      ]
     },
     "metadata": {
      "image/png": {
       "height": 420,
       "width": 420
      }
     },
     "output_type": "display_data"
    }
   ],
   "source": [
    "# CLT with sample size 500\n",
    "pop_mu <- mean(crime_total$total)\n",
    "pop_sd <- sd(crime_total$total)\n",
    "\n",
    "\n",
    "sample_500 <- crime_total %>%\n",
    "    rep_sample_n(size = 500, reps = 10000, replace = FALSE) %>%\n",
    "    group_by(DAY, replicate) %>% \n",
    "    summarise(sample_mean = mean(total), `.groups` = \"drop\")\n",
    "head(sample_500)\n",
    "\n",
    "data_normal <- tibble(total=seq(min(crime_total$total), \n",
    "                                max(crime_total$total),0.01), \n",
    "                                density = dnorm(total, pop_mu, pop_sd))\n",
    "\n",
    "sampling_dist_500 <- sample_500 %>% \n",
    "    ggplot() + \n",
    "    geom_histogram(aes(x = sample_mean, y = ..density..), binwidth = 30, color=\"white\") +\n",
    "    theme(text = element_text(size = 10))+\n",
    "    xlab(\"Sample Mean\") +\n",
    "    ggtitle(\"Sampling distribution of the sample mean for samples of size 500 for Crime in Vancouver from 2017-2022.\") + \n",
    "    geom_line(data = data_normal, aes(total, density), color = \"blue\", lwd = 2)\n",
    "sampling_dist_500"
   ]
  },
  {
   "cell_type": "code",
   "execution_count": 10,
   "id": "encouraging-brighton",
   "metadata": {},
   "outputs": [
    {
     "data": {
      "text/html": [
       "<table class=\"dataframe\">\n",
       "<caption>A tibble: 6 × 3</caption>\n",
       "<thead>\n",
       "\t<tr><th scope=col>DAY</th><th scope=col>replicate</th><th scope=col>sample_mean</th></tr>\n",
       "\t<tr><th scope=col>&lt;int&gt;</th><th scope=col>&lt;int&gt;</th><th scope=col>&lt;dbl&gt;</th></tr>\n",
       "</thead>\n",
       "<tbody>\n",
       "\t<tr><td>1</td><td>1</td><td>31.28571</td></tr>\n",
       "\t<tr><td>1</td><td>2</td><td>52.11111</td></tr>\n",
       "\t<tr><td>1</td><td>3</td><td>54.45833</td></tr>\n",
       "\t<tr><td>1</td><td>4</td><td>54.43478</td></tr>\n",
       "\t<tr><td>1</td><td>5</td><td>63.27273</td></tr>\n",
       "\t<tr><td>1</td><td>6</td><td>60.26316</td></tr>\n",
       "</tbody>\n",
       "</table>\n"
      ],
      "text/latex": [
       "A tibble: 6 × 3\n",
       "\\begin{tabular}{lll}\n",
       " DAY & replicate & sample\\_mean\\\\\n",
       " <int> & <int> & <dbl>\\\\\n",
       "\\hline\n",
       "\t 1 & 1 & 31.28571\\\\\n",
       "\t 1 & 2 & 52.11111\\\\\n",
       "\t 1 & 3 & 54.45833\\\\\n",
       "\t 1 & 4 & 54.43478\\\\\n",
       "\t 1 & 5 & 63.27273\\\\\n",
       "\t 1 & 6 & 60.26316\\\\\n",
       "\\end{tabular}\n"
      ],
      "text/markdown": [
       "\n",
       "A tibble: 6 × 3\n",
       "\n",
       "| DAY &lt;int&gt; | replicate &lt;int&gt; | sample_mean &lt;dbl&gt; |\n",
       "|---|---|---|\n",
       "| 1 | 1 | 31.28571 |\n",
       "| 1 | 2 | 52.11111 |\n",
       "| 1 | 3 | 54.45833 |\n",
       "| 1 | 4 | 54.43478 |\n",
       "| 1 | 5 | 63.27273 |\n",
       "| 1 | 6 | 60.26316 |\n",
       "\n"
      ],
      "text/plain": [
       "  DAY replicate sample_mean\n",
       "1 1   1         31.28571   \n",
       "2 1   2         52.11111   \n",
       "3 1   3         54.45833   \n",
       "4 1   4         54.43478   \n",
       "5 1   5         63.27273   \n",
       "6 1   6         60.26316   "
      ]
     },
     "metadata": {},
     "output_type": "display_data"
    },
    {
     "data": {
      "image/png": "[encoded data removed]",
      "text/plain": [
       "plot without title"
      ]
     },
     "metadata": {
      "image/png": {
       "height": 420,
       "width": 420
      }
     },
     "output_type": "display_data"
    }
   ],
   "source": [
    "# Bootstrap with sample size 500\n",
    "one_sample <- crime_total %>%\n",
    "    rep_sample_n(size = 500, reps = 1, replace = FALSE)\n",
    "boot_500 <- one_sample %>%\n",
    "    rep_sample_n(size = 500, reps = 10000, replace = TRUE) %>%\n",
    "    group_by(DAY, replicate) %>% \n",
    "    summarise(sample_mean = mean(total), `.groups` = \"drop\")\n",
    "head(boot_500)\n",
    "\n",
    "bootstrap_500 <- boot_500 %>% \n",
    "    ggplot() + \n",
    "    geom_histogram(aes(x = sample_mean, y = ..density..), binwidth = 30, color=\"white\") +\n",
    "    theme(text = element_text(size = 10))+\n",
    "    xlab(\"Sample Mean\") +\n",
    "    ggtitle(\"Bootstrapping of the sample mean for samples of size 500 for Crime in Vancouver from 2017-2022.\") + \n",
    "    geom_line(data = data_normal, aes(total, density), color = \"blue\", lwd = 2)\n",
    "bootstrap_500\n"
   ]
  },
  {
   "cell_type": "code",
   "execution_count": null,
   "id": "unexpected-prefix",
   "metadata": {},
   "outputs": [],
   "source": []
  }
 ],
 "metadata": {
  "kernelspec": {
   "display_name": "R",
   "language": "R",
   "name": "ir"
  },
  "language_info": {
   "codemirror_mode": "r",
   "file_extension": ".r",
   "mimetype": "text/x-r-source",
   "name": "R",
   "pygments_lexer": "r",
   "version": "4.0.3"
  }
 },
 "nbformat": 4,
 "nbformat_minor": 5
}
