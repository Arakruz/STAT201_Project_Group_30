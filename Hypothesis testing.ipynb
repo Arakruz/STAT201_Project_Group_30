{
 "cells": [
  {
   "cell_type": "code",
   "execution_count": 1,
   "id": "coated-registration",
   "metadata": {},
   "outputs": [
    {
     "name": "stderr",
     "output_type": "stream",
     "text": [
      "── \u001b[1mAttaching packages\u001b[22m ─────────────────────────────────────── tidyverse 1.3.0 ──\n",
      "\n",
      "\u001b[32m✔\u001b[39m \u001b[34mggplot2\u001b[39m 3.3.3     \u001b[32m✔\u001b[39m \u001b[34mpurrr  \u001b[39m 0.3.4\n",
      "\u001b[32m✔\u001b[39m \u001b[34mtibble \u001b[39m 3.0.6     \u001b[32m✔\u001b[39m \u001b[34mdplyr  \u001b[39m 1.0.4\n",
      "\u001b[32m✔\u001b[39m \u001b[34mtidyr  \u001b[39m 1.1.2     \u001b[32m✔\u001b[39m \u001b[34mstringr\u001b[39m 1.4.0\n",
      "\u001b[32m✔\u001b[39m \u001b[34mreadr  \u001b[39m 1.4.0     \u001b[32m✔\u001b[39m \u001b[34mforcats\u001b[39m 0.5.1\n",
      "\n",
      "── \u001b[1mConflicts\u001b[22m ────────────────────────────────────────── tidyverse_conflicts() ──\n",
      "\u001b[31m✖\u001b[39m \u001b[34mdplyr\u001b[39m::\u001b[32mfilter()\u001b[39m masks \u001b[34mstats\u001b[39m::filter()\n",
      "\u001b[31m✖\u001b[39m \u001b[34mdplyr\u001b[39m::\u001b[32mlag()\u001b[39m    masks \u001b[34mstats\u001b[39m::lag()\n",
      "\n",
      "\n",
      "Attaching package: ‘gridExtra’\n",
      "\n",
      "\n",
      "The following object is masked from ‘package:dplyr’:\n",
      "\n",
      "    combine\n",
      "\n",
      "\n"
     ]
    }
   ],
   "source": [
    "library(tidyverse)\n",
    "library(repr)\n",
    "library(datateachr)\n",
    "library(digest)\n",
    "library(infer)\n",
    "library(gridExtra)\n",
    "library(cowplot)"
   ]
  },
  {
   "cell_type": "code",
   "execution_count": 2,
   "id": "pregnant-third",
   "metadata": {},
   "outputs": [],
   "source": [
    "URL2017 <- \"https://drive.google.com/uc?id=11RimvDwqEXhi88RdmiHg6PUGOL8xXMW4&export=download\"\n",
    "URL2018 <- \"https://drive.google.com/uc?id=1vA-vnvTlHoXV1q6bu4S_qay37nz7X3UM&export=download\"\n",
    "URL2019 <- \"https://drive.google.com/uc?id=1kBSEJl-JCIzqzVmB9PMLZ-C2WM1hH7je&export=download\"\n",
    "URL2020 <- \"https://drive.google.com/uc?id=1zaTH_62fMJNYMjWItzjSvrK3nKdK74Zn&export=download\"\n",
    "URL2021 <- \"https://drive.google.com/uc?id=1Inz166gXuGusb47PhV6nQMEpxpl4Wh92&export=download\"\n",
    "URL2022 <- \"https://drive.google.com/uc?id=1vUUblkLnMKSxb8S0y55Zi3IHjfIZOJ2N&export=download\"\n",
    "cr2017 <- read.csv(URL2017)\n",
    "cr2018 <- read.csv(URL2018)\n",
    "cr2019 <- read.csv(URL2019)\n",
    "cr2020 <- read.csv(URL2020)\n",
    "cr2021 <- read.csv(URL2021)\n",
    "cr2022 <- read.csv(URL2022)"
   ]
  },
  {
   "cell_type": "code",
   "execution_count": 3,
   "id": "effective-independence",
   "metadata": {},
   "outputs": [
    {
     "data": {
      "text/html": [
       "<table class=\"dataframe\">\n",
       "<caption>A data.frame: 6 × 10</caption>\n",
       "<thead>\n",
       "\t<tr><th></th><th scope=col>TYPE</th><th scope=col>YEAR</th><th scope=col>MONTH</th><th scope=col>DAY</th><th scope=col>HOUR</th><th scope=col>MINUTE</th><th scope=col>HUNDRED_BLOCK</th><th scope=col>NEIGHBOURHOOD</th><th scope=col>X</th><th scope=col>Y</th></tr>\n",
       "\t<tr><th></th><th scope=col>&lt;chr&gt;</th><th scope=col>&lt;int&gt;</th><th scope=col>&lt;int&gt;</th><th scope=col>&lt;int&gt;</th><th scope=col>&lt;int&gt;</th><th scope=col>&lt;int&gt;</th><th scope=col>&lt;chr&gt;</th><th scope=col>&lt;chr&gt;</th><th scope=col>&lt;dbl&gt;</th><th scope=col>&lt;dbl&gt;</th></tr>\n",
       "</thead>\n",
       "<tbody>\n",
       "\t<tr><th scope=row>1</th><td>Theft of Vehicle</td><td>2017</td><td>11</td><td>29</td><td>20</td><td> 0</td><td>29XX SKEENA ST  </td><td>Renfrew-Collingwood      </td><td>497919.2</td><td>5456148</td></tr>\n",
       "\t<tr><th scope=row>2</th><td>Theft of Vehicle</td><td>2017</td><td> 6</td><td>21</td><td>21</td><td> 0</td><td>2X JACKSON AVE  </td><td>Strathcona               </td><td>493220.8</td><td>5459096</td></tr>\n",
       "\t<tr><th scope=row>3</th><td>Theft of Vehicle</td><td>2017</td><td> 9</td><td>21</td><td>18</td><td> 0</td><td>2X W 14TH AVE   </td><td>Mount Pleasant           </td><td>492319.5</td><td>5456190</td></tr>\n",
       "\t<tr><th scope=row>4</th><td>Theft of Vehicle</td><td>2017</td><td> 5</td><td> 9</td><td>15</td><td>30</td><td>2X W PENDER ST  </td><td>Central Business District</td><td>492338.0</td><td>5458667</td></tr>\n",
       "\t<tr><th scope=row>5</th><td>Theft of Vehicle</td><td>2017</td><td>10</td><td> 9</td><td> 6</td><td> 0</td><td>2XX ALEXANDER ST</td><td>Strathcona               </td><td>492802.5</td><td>5459038</td></tr>\n",
       "\t<tr><th scope=row>6</th><td>Theft of Vehicle</td><td>2017</td><td> 6</td><td>13</td><td> 6</td><td>45</td><td>2XX CENTRAL ST  </td><td>Strathcona               </td><td>492756.6</td><td>5457623</td></tr>\n",
       "</tbody>\n",
       "</table>\n"
      ],
      "text/latex": [
       "A data.frame: 6 × 10\n",
       "\\begin{tabular}{r|llllllllll}\n",
       "  & TYPE & YEAR & MONTH & DAY & HOUR & MINUTE & HUNDRED\\_BLOCK & NEIGHBOURHOOD & X & Y\\\\\n",
       "  & <chr> & <int> & <int> & <int> & <int> & <int> & <chr> & <chr> & <dbl> & <dbl>\\\\\n",
       "\\hline\n",
       "\t1 & Theft of Vehicle & 2017 & 11 & 29 & 20 &  0 & 29XX SKEENA ST   & Renfrew-Collingwood       & 497919.2 & 5456148\\\\\n",
       "\t2 & Theft of Vehicle & 2017 &  6 & 21 & 21 &  0 & 2X JACKSON AVE   & Strathcona                & 493220.8 & 5459096\\\\\n",
       "\t3 & Theft of Vehicle & 2017 &  9 & 21 & 18 &  0 & 2X W 14TH AVE    & Mount Pleasant            & 492319.5 & 5456190\\\\\n",
       "\t4 & Theft of Vehicle & 2017 &  5 &  9 & 15 & 30 & 2X W PENDER ST   & Central Business District & 492338.0 & 5458667\\\\\n",
       "\t5 & Theft of Vehicle & 2017 & 10 &  9 &  6 &  0 & 2XX ALEXANDER ST & Strathcona                & 492802.5 & 5459038\\\\\n",
       "\t6 & Theft of Vehicle & 2017 &  6 & 13 &  6 & 45 & 2XX CENTRAL ST   & Strathcona                & 492756.6 & 5457623\\\\\n",
       "\\end{tabular}\n"
      ],
      "text/markdown": [
       "\n",
       "A data.frame: 6 × 10\n",
       "\n",
       "| <!--/--> | TYPE &lt;chr&gt; | YEAR &lt;int&gt; | MONTH &lt;int&gt; | DAY &lt;int&gt; | HOUR &lt;int&gt; | MINUTE &lt;int&gt; | HUNDRED_BLOCK &lt;chr&gt; | NEIGHBOURHOOD &lt;chr&gt; | X &lt;dbl&gt; | Y &lt;dbl&gt; |\n",
       "|---|---|---|---|---|---|---|---|---|---|---|\n",
       "| 1 | Theft of Vehicle | 2017 | 11 | 29 | 20 |  0 | 29XX SKEENA ST   | Renfrew-Collingwood       | 497919.2 | 5456148 |\n",
       "| 2 | Theft of Vehicle | 2017 |  6 | 21 | 21 |  0 | 2X JACKSON AVE   | Strathcona                | 493220.8 | 5459096 |\n",
       "| 3 | Theft of Vehicle | 2017 |  9 | 21 | 18 |  0 | 2X W 14TH AVE    | Mount Pleasant            | 492319.5 | 5456190 |\n",
       "| 4 | Theft of Vehicle | 2017 |  5 |  9 | 15 | 30 | 2X W PENDER ST   | Central Business District | 492338.0 | 5458667 |\n",
       "| 5 | Theft of Vehicle | 2017 | 10 |  9 |  6 |  0 | 2XX ALEXANDER ST | Strathcona                | 492802.5 | 5459038 |\n",
       "| 6 | Theft of Vehicle | 2017 |  6 | 13 |  6 | 45 | 2XX CENTRAL ST   | Strathcona                | 492756.6 | 5457623 |\n",
       "\n"
      ],
      "text/plain": [
       "  TYPE             YEAR MONTH DAY HOUR MINUTE HUNDRED_BLOCK   \n",
       "1 Theft of Vehicle 2017 11    29  20    0     29XX SKEENA ST  \n",
       "2 Theft of Vehicle 2017  6    21  21    0     2X JACKSON AVE  \n",
       "3 Theft of Vehicle 2017  9    21  18    0     2X W 14TH AVE   \n",
       "4 Theft of Vehicle 2017  5     9  15   30     2X W PENDER ST  \n",
       "5 Theft of Vehicle 2017 10     9   6    0     2XX ALEXANDER ST\n",
       "6 Theft of Vehicle 2017  6    13   6   45     2XX CENTRAL ST  \n",
       "  NEIGHBOURHOOD             X        Y      \n",
       "1 Renfrew-Collingwood       497919.2 5456148\n",
       "2 Strathcona                493220.8 5459096\n",
       "3 Mount Pleasant            492319.5 5456190\n",
       "4 Central Business District 492338.0 5458667\n",
       "5 Strathcona                492802.5 5459038\n",
       "6 Strathcona                492756.6 5457623"
      ]
     },
     "metadata": {},
     "output_type": "display_data"
    },
    {
     "data": {
      "text/html": [
       "<table class=\"dataframe\">\n",
       "<caption>A data.frame: 6 × 5</caption>\n",
       "<thead>\n",
       "\t<tr><th></th><th scope=col>TYPE</th><th scope=col>YEAR</th><th scope=col>MONTH</th><th scope=col>DAY</th><th scope=col>NEIGHBOURHOOD</th></tr>\n",
       "\t<tr><th></th><th scope=col>&lt;chr&gt;</th><th scope=col>&lt;int&gt;</th><th scope=col>&lt;int&gt;</th><th scope=col>&lt;int&gt;</th><th scope=col>&lt;chr&gt;</th></tr>\n",
       "</thead>\n",
       "<tbody>\n",
       "\t<tr><th scope=row>1</th><td>Theft of Vehicle</td><td>2017</td><td>11</td><td>29</td><td>Renfrew-Collingwood      </td></tr>\n",
       "\t<tr><th scope=row>2</th><td>Theft of Vehicle</td><td>2017</td><td> 6</td><td>21</td><td>Strathcona               </td></tr>\n",
       "\t<tr><th scope=row>3</th><td>Theft of Vehicle</td><td>2017</td><td> 9</td><td>21</td><td>Mount Pleasant           </td></tr>\n",
       "\t<tr><th scope=row>4</th><td>Theft of Vehicle</td><td>2017</td><td> 5</td><td> 9</td><td>Central Business District</td></tr>\n",
       "\t<tr><th scope=row>5</th><td>Theft of Vehicle</td><td>2017</td><td>10</td><td> 9</td><td>Strathcona               </td></tr>\n",
       "\t<tr><th scope=row>6</th><td>Theft of Vehicle</td><td>2017</td><td> 6</td><td>13</td><td>Strathcona               </td></tr>\n",
       "</tbody>\n",
       "</table>\n"
      ],
      "text/latex": [
       "A data.frame: 6 × 5\n",
       "\\begin{tabular}{r|lllll}\n",
       "  & TYPE & YEAR & MONTH & DAY & NEIGHBOURHOOD\\\\\n",
       "  & <chr> & <int> & <int> & <int> & <chr>\\\\\n",
       "\\hline\n",
       "\t1 & Theft of Vehicle & 2017 & 11 & 29 & Renfrew-Collingwood      \\\\\n",
       "\t2 & Theft of Vehicle & 2017 &  6 & 21 & Strathcona               \\\\\n",
       "\t3 & Theft of Vehicle & 2017 &  9 & 21 & Mount Pleasant           \\\\\n",
       "\t4 & Theft of Vehicle & 2017 &  5 &  9 & Central Business District\\\\\n",
       "\t5 & Theft of Vehicle & 2017 & 10 &  9 & Strathcona               \\\\\n",
       "\t6 & Theft of Vehicle & 2017 &  6 & 13 & Strathcona               \\\\\n",
       "\\end{tabular}\n"
      ],
      "text/markdown": [
       "\n",
       "A data.frame: 6 × 5\n",
       "\n",
       "| <!--/--> | TYPE &lt;chr&gt; | YEAR &lt;int&gt; | MONTH &lt;int&gt; | DAY &lt;int&gt; | NEIGHBOURHOOD &lt;chr&gt; |\n",
       "|---|---|---|---|---|---|\n",
       "| 1 | Theft of Vehicle | 2017 | 11 | 29 | Renfrew-Collingwood       |\n",
       "| 2 | Theft of Vehicle | 2017 |  6 | 21 | Strathcona                |\n",
       "| 3 | Theft of Vehicle | 2017 |  9 | 21 | Mount Pleasant            |\n",
       "| 4 | Theft of Vehicle | 2017 |  5 |  9 | Central Business District |\n",
       "| 5 | Theft of Vehicle | 2017 | 10 |  9 | Strathcona                |\n",
       "| 6 | Theft of Vehicle | 2017 |  6 | 13 | Strathcona                |\n",
       "\n"
      ],
      "text/plain": [
       "  TYPE             YEAR MONTH DAY NEIGHBOURHOOD            \n",
       "1 Theft of Vehicle 2017 11    29  Renfrew-Collingwood      \n",
       "2 Theft of Vehicle 2017  6    21  Strathcona               \n",
       "3 Theft of Vehicle 2017  9    21  Mount Pleasant           \n",
       "4 Theft of Vehicle 2017  5     9  Central Business District\n",
       "5 Theft of Vehicle 2017 10     9  Strathcona               \n",
       "6 Theft of Vehicle 2017  6    13  Strathcona               "
      ]
     },
     "metadata": {},
     "output_type": "display_data"
    }
   ],
   "source": [
    "# combine 6 years into one dataframe\n",
    "cr2017_2022 <- rbind(cr2017,cr2018,cr2019,cr2020,cr2021,cr2022)\n",
    "head(cr2017_2022)\n",
    "\n",
    "# only select the TYPE, YEAR, MONTH, DAY and NEIGHBOURHOOD for analysis\n",
    "crime2017_2022 <- cr2017_2022 %>% \n",
    "    select(TYPE, YEAR, MONTH, DAY, NEIGHBOURHOOD) \n",
    "head(crime2017_2022)"
   ]
  },
  {
   "cell_type": "code",
   "execution_count": 4,
   "id": "practical-breast",
   "metadata": {},
   "outputs": [
    {
     "data": {
      "text/html": [
       "<table class=\"dataframe\">\n",
       "<caption>A tibble: 6 × 5</caption>\n",
       "<thead>\n",
       "\t<tr><th scope=col>YEAR</th><th scope=col>MONTH</th><th scope=col>DAY</th><th scope=col>NEIGHBOURHOOD</th><th scope=col>total</th></tr>\n",
       "\t<tr><th scope=col>&lt;int&gt;</th><th scope=col>&lt;int&gt;</th><th scope=col>&lt;int&gt;</th><th scope=col>&lt;chr&gt;</th><th scope=col>&lt;int&gt;</th></tr>\n",
       "</thead>\n",
       "<tbody>\n",
       "\t<tr><td>2017</td><td>1</td><td>1</td><td>Arbutus Ridge            </td><td> 1</td></tr>\n",
       "\t<tr><td>2017</td><td>1</td><td>1</td><td>Central Business District</td><td>27</td></tr>\n",
       "\t<tr><td>2017</td><td>1</td><td>1</td><td>Dunbar-Southlands        </td><td> 1</td></tr>\n",
       "\t<tr><td>2017</td><td>1</td><td>1</td><td>Fairview                 </td><td> 5</td></tr>\n",
       "\t<tr><td>2017</td><td>1</td><td>1</td><td>Grandview-Woodland       </td><td> 7</td></tr>\n",
       "\t<tr><td>2017</td><td>1</td><td>1</td><td>Hastings-Sunrise         </td><td> 8</td></tr>\n",
       "</tbody>\n",
       "</table>\n"
      ],
      "text/latex": [
       "A tibble: 6 × 5\n",
       "\\begin{tabular}{lllll}\n",
       " YEAR & MONTH & DAY & NEIGHBOURHOOD & total\\\\\n",
       " <int> & <int> & <int> & <chr> & <int>\\\\\n",
       "\\hline\n",
       "\t 2017 & 1 & 1 & Arbutus Ridge             &  1\\\\\n",
       "\t 2017 & 1 & 1 & Central Business District & 27\\\\\n",
       "\t 2017 & 1 & 1 & Dunbar-Southlands         &  1\\\\\n",
       "\t 2017 & 1 & 1 & Fairview                  &  5\\\\\n",
       "\t 2017 & 1 & 1 & Grandview-Woodland        &  7\\\\\n",
       "\t 2017 & 1 & 1 & Hastings-Sunrise          &  8\\\\\n",
       "\\end{tabular}\n"
      ],
      "text/markdown": [
       "\n",
       "A tibble: 6 × 5\n",
       "\n",
       "| YEAR &lt;int&gt; | MONTH &lt;int&gt; | DAY &lt;int&gt; | NEIGHBOURHOOD &lt;chr&gt; | total &lt;int&gt; |\n",
       "|---|---|---|---|---|\n",
       "| 2017 | 1 | 1 | Arbutus Ridge             |  1 |\n",
       "| 2017 | 1 | 1 | Central Business District | 27 |\n",
       "| 2017 | 1 | 1 | Dunbar-Southlands         |  1 |\n",
       "| 2017 | 1 | 1 | Fairview                  |  5 |\n",
       "| 2017 | 1 | 1 | Grandview-Woodland        |  7 |\n",
       "| 2017 | 1 | 1 | Hastings-Sunrise          |  8 |\n",
       "\n"
      ],
      "text/plain": [
       "  YEAR MONTH DAY NEIGHBOURHOOD             total\n",
       "1 2017 1     1   Arbutus Ridge              1   \n",
       "2 2017 1     1   Central Business District 27   \n",
       "3 2017 1     1   Dunbar-Southlands          1   \n",
       "4 2017 1     1   Fairview                   5   \n",
       "5 2017 1     1   Grandview-Woodland         7   \n",
       "6 2017 1     1   Hastings-Sunrise           8   "
      ]
     },
     "metadata": {},
     "output_type": "display_data"
    }
   ],
   "source": [
    "# overal daily total crime incidents for each neighborhood in each year\n",
    "crime_total <- crime2017_2022 %>%\n",
    "    group_by(YEAR, MONTH, DAY, NEIGHBOURHOOD) %>%\n",
    "    filter(NEIGHBOURHOOD != \"\") %>%\n",
    "    summarise(total = n(), `.groups` = \"drop\")\n",
    "head(crime_total)"
   ]
  },
  {
   "cell_type": "code",
   "execution_count": 5,
   "id": "curious-visitor",
   "metadata": {},
   "outputs": [
    {
     "data": {
      "text/html": [
       "<table class=\"dataframe\">\n",
       "<caption>A data.frame: 6 × 6</caption>\n",
       "<thead>\n",
       "\t<tr><th></th><th scope=col>YEAR</th><th scope=col>DAY</th><th scope=col>NEIGHBOURHOOD</th><th scope=col>daily_avg</th><th scope=col>daily_median</th><th scope=col>daily_sd</th></tr>\n",
       "\t<tr><th></th><th scope=col>&lt;int&gt;</th><th scope=col>&lt;int&gt;</th><th scope=col>&lt;chr&gt;</th><th scope=col>&lt;dbl&gt;</th><th scope=col>&lt;dbl&gt;</th><th scope=col>&lt;dbl&gt;</th></tr>\n",
       "</thead>\n",
       "<tbody>\n",
       "\t<tr><th scope=row>1</th><td>2017</td><td>1</td><td>Arbutus Ridge            </td><td> 1.444444</td><td> 1.0</td><td>0.8819171</td></tr>\n",
       "\t<tr><th scope=row>2</th><td>2017</td><td>1</td><td>Central Business District</td><td>36.583333</td><td>35.5</td><td>9.0096749</td></tr>\n",
       "\t<tr><th scope=row>3</th><td>2017</td><td>1</td><td>Dunbar-Southlands        </td><td> 2.125000</td><td> 1.5</td><td>1.7268882</td></tr>\n",
       "\t<tr><th scope=row>4</th><td>2017</td><td>1</td><td>Fairview                 </td><td> 6.666667</td><td> 6.0</td><td>3.7009417</td></tr>\n",
       "\t<tr><th scope=row>5</th><td>2017</td><td>1</td><td>Grandview-Woodland       </td><td> 6.583333</td><td> 6.0</td><td>3.0289012</td></tr>\n",
       "\t<tr><th scope=row>6</th><td>2017</td><td>1</td><td>Hastings-Sunrise         </td><td> 5.000000</td><td> 5.5</td><td>2.3741027</td></tr>\n",
       "</tbody>\n",
       "</table>\n"
      ],
      "text/latex": [
       "A data.frame: 6 × 6\n",
       "\\begin{tabular}{r|llllll}\n",
       "  & YEAR & DAY & NEIGHBOURHOOD & daily\\_avg & daily\\_median & daily\\_sd\\\\\n",
       "  & <int> & <int> & <chr> & <dbl> & <dbl> & <dbl>\\\\\n",
       "\\hline\n",
       "\t1 & 2017 & 1 & Arbutus Ridge             &  1.444444 &  1.0 & 0.8819171\\\\\n",
       "\t2 & 2017 & 1 & Central Business District & 36.583333 & 35.5 & 9.0096749\\\\\n",
       "\t3 & 2017 & 1 & Dunbar-Southlands         &  2.125000 &  1.5 & 1.7268882\\\\\n",
       "\t4 & 2017 & 1 & Fairview                  &  6.666667 &  6.0 & 3.7009417\\\\\n",
       "\t5 & 2017 & 1 & Grandview-Woodland        &  6.583333 &  6.0 & 3.0289012\\\\\n",
       "\t6 & 2017 & 1 & Hastings-Sunrise          &  5.000000 &  5.5 & 2.3741027\\\\\n",
       "\\end{tabular}\n"
      ],
      "text/markdown": [
       "\n",
       "A data.frame: 6 × 6\n",
       "\n",
       "| <!--/--> | YEAR &lt;int&gt; | DAY &lt;int&gt; | NEIGHBOURHOOD &lt;chr&gt; | daily_avg &lt;dbl&gt; | daily_median &lt;dbl&gt; | daily_sd &lt;dbl&gt; |\n",
       "|---|---|---|---|---|---|---|\n",
       "| 1 | 2017 | 1 | Arbutus Ridge             |  1.444444 |  1.0 | 0.8819171 |\n",
       "| 2 | 2017 | 1 | Central Business District | 36.583333 | 35.5 | 9.0096749 |\n",
       "| 3 | 2017 | 1 | Dunbar-Southlands         |  2.125000 |  1.5 | 1.7268882 |\n",
       "| 4 | 2017 | 1 | Fairview                  |  6.666667 |  6.0 | 3.7009417 |\n",
       "| 5 | 2017 | 1 | Grandview-Woodland        |  6.583333 |  6.0 | 3.0289012 |\n",
       "| 6 | 2017 | 1 | Hastings-Sunrise          |  5.000000 |  5.5 | 2.3741027 |\n",
       "\n"
      ],
      "text/plain": [
       "  YEAR DAY NEIGHBOURHOOD             daily_avg daily_median daily_sd \n",
       "1 2017 1   Arbutus Ridge              1.444444  1.0         0.8819171\n",
       "2 2017 1   Central Business District 36.583333 35.5         9.0096749\n",
       "3 2017 1   Dunbar-Southlands          2.125000  1.5         1.7268882\n",
       "4 2017 1   Fairview                   6.666667  6.0         3.7009417\n",
       "5 2017 1   Grandview-Woodland         6.583333  6.0         3.0289012\n",
       "6 2017 1   Hastings-Sunrise           5.000000  5.5         2.3741027"
      ]
     },
     "metadata": {},
     "output_type": "display_data"
    }
   ],
   "source": [
    "# daily analysis \n",
    "# daily average crime incidents for each neighborhood in each year\n",
    "crime_daily_avg <- crime_total %>%\n",
    "    group_by(YEAR, DAY, NEIGHBOURHOOD) %>%\n",
    "    summarise(daily_avg = mean(total), `.groups` = \"drop\")\n",
    "\n",
    "# daily median  for crime incidents for each neighborhood in each year\n",
    "crime_daily_median <- crime_total %>%\n",
    "    group_by(YEAR, DAY, NEIGHBOURHOOD) %>%\n",
    "    summarise(daily_median = median(total), `.groups` = \"drop\")\n",
    "\n",
    "# daily standard deviation for crime incidents for each neighborhood in each year\n",
    "crime_daily_sd <- crime_total %>%\n",
    "    group_by(YEAR, DAY, NEIGHBOURHOOD) %>%\n",
    "    summarise(daily_sd = sd(total), `.groups` = \"drop\")\n",
    "\n",
    "summary_stats_on_daily <- cbind(crime_daily_avg,crime_daily_median,crime_daily_sd) %>%\n",
    "    select(c(1,2,3,4,8,12))\n",
    "head(summary_stats_on_daily)"
   ]
  },
  {
   "cell_type": "code",
   "execution_count": 6,
   "id": "legislative-township",
   "metadata": {},
   "outputs": [
    {
     "data": {
      "text/html": [
       "<table class=\"dataframe\">\n",
       "<caption>A data.frame: 6 × 5</caption>\n",
       "<thead>\n",
       "\t<tr><th></th><th scope=col>YEAR</th><th scope=col>NEIGHBOURHOOD</th><th scope=col>yearly_avg</th><th scope=col>yearly_median</th><th scope=col>yearly_sd</th></tr>\n",
       "\t<tr><th></th><th scope=col>&lt;int&gt;</th><th scope=col>&lt;chr&gt;</th><th scope=col>&lt;dbl&gt;</th><th scope=col>&lt;dbl&gt;</th><th scope=col>&lt;dbl&gt;</th></tr>\n",
       "</thead>\n",
       "<tbody>\n",
       "\t<tr><th scope=row>1</th><td>2017</td><td>Arbutus Ridge            </td><td> 1.829787</td><td> 1</td><td>1.126965</td></tr>\n",
       "\t<tr><th scope=row>2</th><td>2017</td><td>Central Business District</td><td>36.673973</td><td>37</td><td>8.565873</td></tr>\n",
       "\t<tr><th scope=row>3</th><td>2017</td><td>Dunbar-Southlands        </td><td> 2.051383</td><td> 2</td><td>1.215528</td></tr>\n",
       "\t<tr><th scope=row>4</th><td>2017</td><td>Fairview                 </td><td> 5.988950</td><td> 6</td><td>2.813676</td></tr>\n",
       "\t<tr><th scope=row>5</th><td>2017</td><td>Grandview-Woodland       </td><td> 6.617080</td><td> 6</td><td>3.196067</td></tr>\n",
       "\t<tr><th scope=row>6</th><td>2017</td><td>Hastings-Sunrise         </td><td> 4.056497</td><td> 4</td><td>2.132223</td></tr>\n",
       "</tbody>\n",
       "</table>\n"
      ],
      "text/latex": [
       "A data.frame: 6 × 5\n",
       "\\begin{tabular}{r|lllll}\n",
       "  & YEAR & NEIGHBOURHOOD & yearly\\_avg & yearly\\_median & yearly\\_sd\\\\\n",
       "  & <int> & <chr> & <dbl> & <dbl> & <dbl>\\\\\n",
       "\\hline\n",
       "\t1 & 2017 & Arbutus Ridge             &  1.829787 &  1 & 1.126965\\\\\n",
       "\t2 & 2017 & Central Business District & 36.673973 & 37 & 8.565873\\\\\n",
       "\t3 & 2017 & Dunbar-Southlands         &  2.051383 &  2 & 1.215528\\\\\n",
       "\t4 & 2017 & Fairview                  &  5.988950 &  6 & 2.813676\\\\\n",
       "\t5 & 2017 & Grandview-Woodland        &  6.617080 &  6 & 3.196067\\\\\n",
       "\t6 & 2017 & Hastings-Sunrise          &  4.056497 &  4 & 2.132223\\\\\n",
       "\\end{tabular}\n"
      ],
      "text/markdown": [
       "\n",
       "A data.frame: 6 × 5\n",
       "\n",
       "| <!--/--> | YEAR &lt;int&gt; | NEIGHBOURHOOD &lt;chr&gt; | yearly_avg &lt;dbl&gt; | yearly_median &lt;dbl&gt; | yearly_sd &lt;dbl&gt; |\n",
       "|---|---|---|---|---|---|\n",
       "| 1 | 2017 | Arbutus Ridge             |  1.829787 |  1 | 1.126965 |\n",
       "| 2 | 2017 | Central Business District | 36.673973 | 37 | 8.565873 |\n",
       "| 3 | 2017 | Dunbar-Southlands         |  2.051383 |  2 | 1.215528 |\n",
       "| 4 | 2017 | Fairview                  |  5.988950 |  6 | 2.813676 |\n",
       "| 5 | 2017 | Grandview-Woodland        |  6.617080 |  6 | 3.196067 |\n",
       "| 6 | 2017 | Hastings-Sunrise          |  4.056497 |  4 | 2.132223 |\n",
       "\n"
      ],
      "text/plain": [
       "  YEAR NEIGHBOURHOOD             yearly_avg yearly_median yearly_sd\n",
       "1 2017 Arbutus Ridge              1.829787   1            1.126965 \n",
       "2 2017 Central Business District 36.673973  37            8.565873 \n",
       "3 2017 Dunbar-Southlands          2.051383   2            1.215528 \n",
       "4 2017 Fairview                   5.988950   6            2.813676 \n",
       "5 2017 Grandview-Woodland         6.617080   6            3.196067 \n",
       "6 2017 Hastings-Sunrise           4.056497   4            2.132223 "
      ]
     },
     "metadata": {},
     "output_type": "display_data"
    }
   ],
   "source": [
    "# yearly analysis\n",
    "# yearly average crime incidents for each neighborhood\n",
    "crime_yearly_avg <- crime_total %>%\n",
    "    group_by(YEAR, NEIGHBOURHOOD) %>%\n",
    "    summarise(yearly_avg = mean(total), `.groups` = \"drop\")\n",
    "\n",
    "# yearly median for crime incidents for each neighborhood\n",
    "crime_yearly_median <- crime_total %>%\n",
    "    group_by(YEAR, NEIGHBOURHOOD) %>%\n",
    "    summarise(yearly_median = median(total), `.groups` = \"drop\")\n",
    "\n",
    "# yearly standard deviation for crime incidents for each neighborhood\n",
    "crime_yearly_sd <- crime_total %>%\n",
    "    group_by(YEAR, NEIGHBOURHOOD) %>%\n",
    "    summarise(yearly_sd = sd(total), `.groups` = \"drop\")\n",
    "\n",
    "summary_stats_on_year <- cbind(crime_yearly_avg,crime_yearly_median,crime_yearly_sd) %>%\n",
    "    select(c(1,2,3,6,9))\n",
    "head(summary_stats_on_year)"
   ]
  },
  {
   "cell_type": "code",
   "execution_count": 7,
   "id": "tropical-spain",
   "metadata": {},
   "outputs": [
    {
     "data": {
      "text/html": [
       "<table class=\"dataframe\">\n",
       "<caption>A data.frame: 6 × 6</caption>\n",
       "<thead>\n",
       "\t<tr><th></th><th scope=col>YEAR</th><th scope=col>MONTH</th><th scope=col>NEIGHBOURHOOD</th><th scope=col>monthly_median</th><th scope=col>monthly_avg</th><th scope=col>monthly_sd</th></tr>\n",
       "\t<tr><th></th><th scope=col>&lt;int&gt;</th><th scope=col>&lt;int&gt;</th><th scope=col>&lt;chr&gt;</th><th scope=col>&lt;dbl&gt;</th><th scope=col>&lt;dbl&gt;</th><th scope=col>&lt;dbl&gt;</th></tr>\n",
       "</thead>\n",
       "<tbody>\n",
       "\t<tr><th scope=row>1</th><td>2017</td><td>1</td><td>Arbutus Ridge            </td><td> 1.0</td><td> 1.470588</td><td>0.8744746</td></tr>\n",
       "\t<tr><th scope=row>2</th><td>2017</td><td>1</td><td>Central Business District</td><td>31.0</td><td>30.645161</td><td>8.3128350</td></tr>\n",
       "\t<tr><th scope=row>3</th><td>2017</td><td>1</td><td>Dunbar-Southlands        </td><td> 1.5</td><td> 2.000000</td><td>1.3377121</td></tr>\n",
       "\t<tr><th scope=row>4</th><td>2017</td><td>1</td><td>Fairview                 </td><td> 4.0</td><td> 4.193548</td><td>2.1972612</td></tr>\n",
       "\t<tr><th scope=row>5</th><td>2017</td><td>1</td><td>Grandview-Woodland       </td><td> 4.0</td><td> 4.833333</td><td>2.7175462</td></tr>\n",
       "\t<tr><th scope=row>6</th><td>2017</td><td>1</td><td>Hastings-Sunrise         </td><td> 3.0</td><td> 3.344828</td><td>1.8376200</td></tr>\n",
       "</tbody>\n",
       "</table>\n"
      ],
      "text/latex": [
       "A data.frame: 6 × 6\n",
       "\\begin{tabular}{r|llllll}\n",
       "  & YEAR & MONTH & NEIGHBOURHOOD & monthly\\_median & monthly\\_avg & monthly\\_sd\\\\\n",
       "  & <int> & <int> & <chr> & <dbl> & <dbl> & <dbl>\\\\\n",
       "\\hline\n",
       "\t1 & 2017 & 1 & Arbutus Ridge             &  1.0 &  1.470588 & 0.8744746\\\\\n",
       "\t2 & 2017 & 1 & Central Business District & 31.0 & 30.645161 & 8.3128350\\\\\n",
       "\t3 & 2017 & 1 & Dunbar-Southlands         &  1.5 &  2.000000 & 1.3377121\\\\\n",
       "\t4 & 2017 & 1 & Fairview                  &  4.0 &  4.193548 & 2.1972612\\\\\n",
       "\t5 & 2017 & 1 & Grandview-Woodland        &  4.0 &  4.833333 & 2.7175462\\\\\n",
       "\t6 & 2017 & 1 & Hastings-Sunrise          &  3.0 &  3.344828 & 1.8376200\\\\\n",
       "\\end{tabular}\n"
      ],
      "text/markdown": [
       "\n",
       "A data.frame: 6 × 6\n",
       "\n",
       "| <!--/--> | YEAR &lt;int&gt; | MONTH &lt;int&gt; | NEIGHBOURHOOD &lt;chr&gt; | monthly_median &lt;dbl&gt; | monthly_avg &lt;dbl&gt; | monthly_sd &lt;dbl&gt; |\n",
       "|---|---|---|---|---|---|---|\n",
       "| 1 | 2017 | 1 | Arbutus Ridge             |  1.0 |  1.470588 | 0.8744746 |\n",
       "| 2 | 2017 | 1 | Central Business District | 31.0 | 30.645161 | 8.3128350 |\n",
       "| 3 | 2017 | 1 | Dunbar-Southlands         |  1.5 |  2.000000 | 1.3377121 |\n",
       "| 4 | 2017 | 1 | Fairview                  |  4.0 |  4.193548 | 2.1972612 |\n",
       "| 5 | 2017 | 1 | Grandview-Woodland        |  4.0 |  4.833333 | 2.7175462 |\n",
       "| 6 | 2017 | 1 | Hastings-Sunrise          |  3.0 |  3.344828 | 1.8376200 |\n",
       "\n"
      ],
      "text/plain": [
       "  YEAR MONTH NEIGHBOURHOOD             monthly_median monthly_avg monthly_sd\n",
       "1 2017 1     Arbutus Ridge              1.0            1.470588   0.8744746 \n",
       "2 2017 1     Central Business District 31.0           30.645161   8.3128350 \n",
       "3 2017 1     Dunbar-Southlands          1.5            2.000000   1.3377121 \n",
       "4 2017 1     Fairview                   4.0            4.193548   2.1972612 \n",
       "5 2017 1     Grandview-Woodland         4.0            4.833333   2.7175462 \n",
       "6 2017 1     Hastings-Sunrise           3.0            3.344828   1.8376200 "
      ]
     },
     "metadata": {},
     "output_type": "display_data"
    }
   ],
   "source": [
    "# monthly analysis\n",
    "# monthly average crime incidents per day for all neighbourhoods\n",
    "crime_monthly_avg <- crime_total %>%\n",
    "    group_by(YEAR,MONTH, NEIGHBOURHOOD) %>%\n",
    "    summarise(monthly_avg = mean(total), `.groups` = \"drop\")\n",
    "#head(crime_monthly_avg)\n",
    "\n",
    "# monthly median crime incidents per day for all neighbourhoods\n",
    "crime_monthly_median <- crime_total %>%\n",
    "    group_by(YEAR,MONTH, NEIGHBOURHOOD) %>%\n",
    "    summarise(monthly_median = median(total), `.groups` = \"drop\")\n",
    "#head(crime_monthly_median)\n",
    "\n",
    "# monthly standard deviation crime incidents per day for all neighbourhoods\n",
    "crime_monthly_sd <- crime_total %>%\n",
    "    group_by(YEAR,MONTH, NEIGHBOURHOOD) %>%\n",
    "    summarise(monthly_sd = sd(total), `.groups` = \"drop\")\n",
    "#head(crime_monthly_sd)\n",
    "\n",
    "summary_stats_on_month <- cbind(crime_monthly_median,crime_monthly_avg,crime_monthly_sd) %>%\n",
    "    select(c(1,2,3,4,8,12))\n",
    "head(summary_stats_on_month)"
   ]
  },
  {
   "cell_type": "code",
   "execution_count": 8,
   "id": "wooden-winning",
   "metadata": {},
   "outputs": [
    {
     "data": {
      "text/html": [
       "53.3333333333333"
      ],
      "text/latex": [
       "53.3333333333333"
      ],
      "text/markdown": [
       "53.3333333333333"
      ],
      "text/plain": [
       "[1] 53.33333"
      ]
     },
     "metadata": {},
     "output_type": "display_data"
    },
    {
     "data": {
      "text/html": [
       "'Central Business District'"
      ],
      "text/latex": [
       "'Central Business District'"
      ],
      "text/markdown": [
       "'Central Business District'"
      ],
      "text/plain": [
       "[1] \"Central Business District\""
      ]
     },
     "metadata": {},
     "output_type": "display_data"
    },
    {
     "data": {
      "text/html": [
       "1"
      ],
      "text/latex": [
       "1"
      ],
      "text/markdown": [
       "1"
      ],
      "text/plain": [
       "[1] 1"
      ]
     },
     "metadata": {},
     "output_type": "display_data"
    },
    {
     "data": {
      "text/html": [
       "'Musqueam'"
      ],
      "text/latex": [
       "'Musqueam'"
      ],
      "text/markdown": [
       "'Musqueam'"
      ],
      "text/plain": [
       "[1] \"Musqueam\""
      ]
     },
     "metadata": {},
     "output_type": "display_data"
    }
   ],
   "source": [
    "# highest average daily cirme incident rate\n",
    "daily_highest <- max(crime_daily_avg$daily_avg)\n",
    "highest_area <- crime_daily_avg$NEIGHBOURHOOD[which.max(crime_daily_avg$daily_avg)]\n",
    "daily_highest\n",
    "highest_area\n",
    "\n",
    "# lowest average daily cirme incident rate\n",
    "daily_lowest <- min(crime_daily_avg$daily_avg)\n",
    "lowest_area <- crime_daily_avg$NEIGHBOURHOOD[which.min(crime_daily_avg$daily_avg)]\n",
    "daily_lowest\n",
    "lowest_area"
   ]
  },
  {
   "cell_type": "code",
   "execution_count": 9,
   "id": "understood-palace",
   "metadata": {},
   "outputs": [
    {
     "data": {
      "image/png": "[encoded data removed]",
      "text/plain": [
       "plot without title"
      ]
     },
     "metadata": {
      "image/png": {
       "height": 420,
       "width": 420
      }
     },
     "output_type": "display_data"
    }
   ],
   "source": [
    "# visualization : population distribution\n",
    "pop_dist <- crime_total %>%\n",
    "    ggplot() + \n",
    "    geom_histogram(aes(x = total, y = ..density..), binwidth = 15, color=\"white\") +\n",
    "    theme(text = element_text(size = 10))+\n",
    "    xlab(\"Daily Crime Incidents\") +\n",
    "    ggtitle(\"Population Distribution of the Number of Daily Crime Incidents in each year.\")\n",
    "pop_dist"
   ]
  },
  {
   "cell_type": "code",
   "execution_count": 10,
   "id": "flying-joseph",
   "metadata": {
    "scrolled": true
   },
   "outputs": [
    {
     "data": {
      "text/html": [
       "<table class=\"dataframe\">\n",
       "<caption>A tibble: 6 × 3</caption>\n",
       "<thead>\n",
       "\t<tr><th scope=col>DAY</th><th scope=col>replicate</th><th scope=col>sample_mean</th></tr>\n",
       "\t<tr><th scope=col>&lt;int&gt;</th><th scope=col>&lt;int&gt;</th><th scope=col>&lt;dbl&gt;</th></tr>\n",
       "</thead>\n",
       "<tbody>\n",
       "\t<tr><td>1</td><td>1</td><td> 5.666667</td></tr>\n",
       "\t<tr><td>1</td><td>2</td><td> 3.583333</td></tr>\n",
       "\t<tr><td>1</td><td>3</td><td> 4.166667</td></tr>\n",
       "\t<tr><td>1</td><td>4</td><td>10.500000</td></tr>\n",
       "\t<tr><td>1</td><td>5</td><td> 5.125000</td></tr>\n",
       "\t<tr><td>1</td><td>6</td><td> 7.533333</td></tr>\n",
       "</tbody>\n",
       "</table>\n"
      ],
      "text/latex": [
       "A tibble: 6 × 3\n",
       "\\begin{tabular}{lll}\n",
       " DAY & replicate & sample\\_mean\\\\\n",
       " <int> & <int> & <dbl>\\\\\n",
       "\\hline\n",
       "\t 1 & 1 &  5.666667\\\\\n",
       "\t 1 & 2 &  3.583333\\\\\n",
       "\t 1 & 3 &  4.166667\\\\\n",
       "\t 1 & 4 & 10.500000\\\\\n",
       "\t 1 & 5 &  5.125000\\\\\n",
       "\t 1 & 6 &  7.533333\\\\\n",
       "\\end{tabular}\n"
      ],
      "text/markdown": [
       "\n",
       "A tibble: 6 × 3\n",
       "\n",
       "| DAY &lt;int&gt; | replicate &lt;int&gt; | sample_mean &lt;dbl&gt; |\n",
       "|---|---|---|\n",
       "| 1 | 1 |  5.666667 |\n",
       "| 1 | 2 |  3.583333 |\n",
       "| 1 | 3 |  4.166667 |\n",
       "| 1 | 4 | 10.500000 |\n",
       "| 1 | 5 |  5.125000 |\n",
       "| 1 | 6 |  7.533333 |\n",
       "\n"
      ],
      "text/plain": [
       "  DAY replicate sample_mean\n",
       "1 1   1          5.666667  \n",
       "2 1   2          3.583333  \n",
       "3 1   3          4.166667  \n",
       "4 1   4         10.500000  \n",
       "5 1   5          5.125000  \n",
       "6 1   6          7.533333  "
      ]
     },
     "metadata": {},
     "output_type": "display_data"
    },
    {
     "name": "stderr",
     "output_type": "stream",
     "text": [
      "Warning message:\n",
      "“Removed 2 rows containing missing values (geom_bar).”\n",
      "Warning message:\n",
      "“Removed 3500 row(s) containing missing values (geom_path).”\n"
     ]
    },
    {
     "data": {
      "image/png": "[encoded data removed]",
      "text/plain": [
       "plot without title"
      ]
     },
     "metadata": {
      "image/png": {
       "height": 480,
       "width": 480
      }
     },
     "output_type": "display_data"
    }
   ],
   "source": [
    "# CLT with sample size 500\n",
    "set.seed(30)\n",
    "pop_mu <- mean(crime_total$total)\n",
    "pop_sd <- sd(crime_total$total)\n",
    "\n",
    "\n",
    "sample_500 <- crime_total %>%\n",
    "    rep_sample_n(size = 500, reps = 10000, replace = FALSE) %>%\n",
    "    group_by(DAY, replicate) %>% \n",
    "    summarise(sample_mean = mean(total), `.groups` = \"drop\")\n",
    "head(sample_500)\n",
    "\n",
    "data_normal <- tibble(total=seq(min(crime_total$total), \n",
    "                                max(crime_total$total),0.01), \n",
    "                                density = dnorm(total, pop_mu, pop_sd))\n",
    "\n",
    "options(repr.plot.width = 8, repr.plot.height = 8)\n",
    "sampling_dist_500 <- sample_500 %>% \n",
    "    ggplot() + \n",
    "    geom_histogram(aes(x = sample_mean, y = ..density..), binwidth = 2, color=\"white\") +\n",
    "    theme(text = element_text(size = 10))+\n",
    "    xlab(\"Sample Mean\") +\n",
    "    ggtitle(\"Sampling distribution of the sample mean for samples of size 500 for Crime in Vancouver from 2017-2022.\") + \n",
    "    scale_x_continuous(limits = c(0,40)) +\n",
    "    geom_line(data = data_normal, aes(total, density), color = \"blue\", lwd = 2)\n",
    "sampling_dist_500"
   ]
  },
  {
   "cell_type": "code",
   "execution_count": 11,
   "id": "forbidden-eleven",
   "metadata": {
    "scrolled": true
   },
   "outputs": [
    {
     "data": {
      "text/html": [
       "<table class=\"dataframe\">\n",
       "<caption>A tibble: 6 × 3</caption>\n",
       "<thead>\n",
       "\t<tr><th scope=col>DAY</th><th scope=col>replicate</th><th scope=col>sample_mean</th></tr>\n",
       "\t<tr><th scope=col>&lt;int&gt;</th><th scope=col>&lt;int&gt;</th><th scope=col>&lt;dbl&gt;</th></tr>\n",
       "</thead>\n",
       "<tbody>\n",
       "\t<tr><td>1</td><td>1</td><td>3.187500</td></tr>\n",
       "\t<tr><td>1</td><td>2</td><td>5.764706</td></tr>\n",
       "\t<tr><td>1</td><td>3</td><td>6.214286</td></tr>\n",
       "\t<tr><td>1</td><td>4</td><td>5.000000</td></tr>\n",
       "\t<tr><td>1</td><td>5</td><td>4.692308</td></tr>\n",
       "\t<tr><td>1</td><td>6</td><td>4.421053</td></tr>\n",
       "</tbody>\n",
       "</table>\n"
      ],
      "text/latex": [
       "A tibble: 6 × 3\n",
       "\\begin{tabular}{lll}\n",
       " DAY & replicate & sample\\_mean\\\\\n",
       " <int> & <int> & <dbl>\\\\\n",
       "\\hline\n",
       "\t 1 & 1 & 3.187500\\\\\n",
       "\t 1 & 2 & 5.764706\\\\\n",
       "\t 1 & 3 & 6.214286\\\\\n",
       "\t 1 & 4 & 5.000000\\\\\n",
       "\t 1 & 5 & 4.692308\\\\\n",
       "\t 1 & 6 & 4.421053\\\\\n",
       "\\end{tabular}\n"
      ],
      "text/markdown": [
       "\n",
       "A tibble: 6 × 3\n",
       "\n",
       "| DAY &lt;int&gt; | replicate &lt;int&gt; | sample_mean &lt;dbl&gt; |\n",
       "|---|---|---|\n",
       "| 1 | 1 | 3.187500 |\n",
       "| 1 | 2 | 5.764706 |\n",
       "| 1 | 3 | 6.214286 |\n",
       "| 1 | 4 | 5.000000 |\n",
       "| 1 | 5 | 4.692308 |\n",
       "| 1 | 6 | 4.421053 |\n",
       "\n"
      ],
      "text/plain": [
       "  DAY replicate sample_mean\n",
       "1 1   1         3.187500   \n",
       "2 1   2         5.764706   \n",
       "3 1   3         6.214286   \n",
       "4 1   4         5.000000   \n",
       "5 1   5         4.692308   \n",
       "6 1   6         4.421053   "
      ]
     },
     "metadata": {},
     "output_type": "display_data"
    },
    {
     "name": "stderr",
     "output_type": "stream",
     "text": [
      "Warning message:\n",
      "“Removed 3 rows containing non-finite values (stat_bin).”\n",
      "Warning message:\n",
      "“Removed 2 rows containing missing values (geom_bar).”\n",
      "Warning message:\n",
      "“Removed 3500 row(s) containing missing values (geom_path).”\n"
     ]
    },
    {
     "data": {
      "image/png": "[encoded data removed]",
      "text/plain": [
       "plot without title"
      ]
     },
     "metadata": {
      "image/png": {
       "height": 480,
       "width": 480
      }
     },
     "output_type": "display_data"
    }
   ],
   "source": [
    "# Bootstrap with sample size 500\n",
    "set.seed(31)\n",
    "one_sample <- crime_total %>%\n",
    "    rep_sample_n(size = 500, reps = 1, replace = FALSE)\n",
    "boot_500 <- one_sample %>%\n",
    "    rep_sample_n(size = 500, reps = 10000, replace = TRUE) %>%\n",
    "    group_by(DAY, replicate) %>% \n",
    "    summarise(sample_mean = mean(total), `.groups` = \"drop\")\n",
    "head(boot_500)\n",
    "\n",
    "bootstrap_500 <- boot_500 %>% \n",
    "    ggplot() + \n",
    "    geom_histogram(aes(x = sample_mean, y = ..density..), binwidth = 2, color=\"white\") +\n",
    "    theme(text = element_text(size = 10))+\n",
    "    xlab(\"Bootstrap Mean\") +\n",
    "    ggtitle(\"Bootstrapping of the sample mean for samples of size 500 for Crime in Vancouver from 2017-2022.\") + \n",
    "    scale_x_continuous( limits = c(0,40)) +\n",
    "    geom_line(data = data_normal, aes(total, density), color = \"blue\", lwd = 2)\n",
    "bootstrap_500"
   ]
  },
  {
   "cell_type": "code",
   "execution_count": 13,
   "id": "equivalent-calendar",
   "metadata": {},
   "outputs": [
    {
     "name": "stderr",
     "output_type": "stream",
     "text": [
      "Warning message in YEAR == 2017:2019:\n",
      "“longer object length is not a multiple of shorter object length”\n",
      "Warning message in YEAR == 2020:2022:\n",
      "“longer object length is not a multiple of shorter object length”\n"
     ]
    },
    {
     "name": "stdout",
     "output_type": "stream",
     "text": [
      "[1] \"mu = \"            \"6.43636617359754\" \"4.97995039272427\"\n",
      "[1] \"sd = \"            \"9.06560167347133\" \"6.11144950129197\"\n"
     ]
    },
    {
     "data": {
      "text/html": [
       "25.2305145707847"
      ],
      "text/latex": [
       "25.2305145707847"
      ],
      "text/markdown": [
       "25.2305145707847"
      ],
      "text/plain": [
       "[1] 25.23051"
      ]
     },
     "metadata": {},
     "output_type": "display_data"
    },
    {
     "data": {
      "text/html": [
       "8.22594316033832e-140"
      ],
      "text/latex": [
       "8.22594316033832e-140"
      ],
      "text/markdown": [
       "8.22594316033832e-140"
      ],
      "text/plain": [
       "[1] 8.225943e-140"
      ]
     },
     "metadata": {},
     "output_type": "display_data"
    }
   ],
   "source": [
    "## Hypothesis Testing\n",
    "crime2017_2019 <- crime_total %>%\n",
    "    filter(YEAR == 2017:2019) \n",
    "n1 = sum(crime2017_2019$total)\n",
    "mu1 = mean(crime2017_2019$total)\n",
    "sd1 = sd(crime2017_2019$total)\n",
    "crime2020_2022 <- crime_total %>%\n",
    "    filter(YEAR == 2020:2022)\n",
    "n2 = sum(crime2020_2022$total)\n",
    "mu2 = mean(crime2020_2022$total)\n",
    "sd2 = sd(crime2020_2022$total)\n",
    "print(c(\"mu = \", mu1, mu2))\n",
    "print(c(\"sd = \", sd1, sd2))\n",
    "\n",
    "tt <- (mu1-mu2)/sqrt(sd1^2/n1+sd2^2/n2)\n",
    "tt\n",
    "\n",
    "pvalue <- pt(tt, df = n1-1, lower.tail = FALSE)\n",
    "pvalue"
   ]
  },
  {
   "cell_type": "code",
   "execution_count": null,
   "id": "demanding-funeral",
   "metadata": {},
   "outputs": [],
   "source": []
  }
 ],
 "metadata": {
  "kernelspec": {
   "display_name": "R",
   "language": "R",
   "name": "ir"
  },
  "language_info": {
   "codemirror_mode": "r",
   "file_extension": ".r",
   "mimetype": "text/x-r-source",
   "name": "R",
   "pygments_lexer": "r",
   "version": "4.0.3"
  }
 },
 "nbformat": 4,
 "nbformat_minor": 5
}
