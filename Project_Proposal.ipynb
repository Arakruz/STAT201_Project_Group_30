{
 "cells": [
  {
   "cell_type": "markdown",
   "id": "256a5874-b76c-4963-bc43-5e3ea067a9bc",
   "metadata": {},
   "source": [
    "# Title"
   ]
  },
  {
   "cell_type": "markdown",
   "id": "6b2406c9-68f7-4268-bd82-628d2d2d47dd",
   "metadata": {},
   "source": [
    "## Introduction"
   ]
  },
  {
   "cell_type": "markdown",
   "id": "93a3ad38-18c0-418f-b059-2f207da13602",
   "metadata": {},
   "source": [
    "## Result"
   ]
  },
  {
   "cell_type": "markdown",
   "id": "949e279c-67b8-4da8-8678-1084cd4e131e",
   "metadata": {},
   "source": [
    "#### Data Preparation\n",
    "The dataset is obtained from https://geodash.vpd.ca/opendata/# \\\n",
    "Unfortunately, VPD didn't provide all data sets have to be manually downloaded and stored inside a data folder in the repository. "
   ]
  },
  {
   "cell_type": "markdown",
   "id": "201a28cf",
   "metadata": {
    "tags": []
   },
   "source": []
  },
  {
   "cell_type": "code",
   "execution_count": null,
   "id": "b6ca5f4f",
   "metadata": {},
   "outputs": [],
   "source": []
  },
  {
   "cell_type": "markdown",
   "id": "7b15ac06-aca3-47d7-ad53-d84e3e516ceb",
   "metadata": {},
   "source": [
    "#### Preliminary Analysis"
   ]
  },
  {
   "cell_type": "code",
   "execution_count": null,
   "id": "7af41c3f-5f7f-41a9-a669-c79d4913b693",
   "metadata": {},
   "outputs": [],
   "source": []
  },
  {
   "cell_type": "markdown",
   "id": "b63d4496-7233-4490-b434-195a8047c889",
   "metadata": {},
   "source": [
    "#### Inferential Analysis"
   ]
  },
  {
   "cell_type": "code",
   "execution_count": null,
   "id": "230c1c39-d6c0-46d5-a412-5cf630b51318",
   "metadata": {},
   "outputs": [],
   "source": []
  },
  {
   "cell_type": "markdown",
   "id": "77e28b32-78cf-4862-a6f4-6649ec13927f",
   "metadata": {},
   "source": [
    "#### Bootstrapping"
   ]
  },
  {
   "cell_type": "code",
   "execution_count": null,
   "id": "3f987b4a-84d3-4dea-aa1f-51f41e8b89cb",
   "metadata": {},
   "outputs": [],
   "source": []
  },
  {
   "cell_type": "markdown",
   "id": "fc2719e7-c192-44a1-ad61-e0acdce6144b",
   "metadata": {},
   "source": [
    "#### Asymptotic "
   ]
  },
  {
   "cell_type": "code",
   "execution_count": null,
   "id": "e4b7af63-0684-439e-aab1-32eb4b5cb377",
   "metadata": {},
   "outputs": [],
   "source": []
  },
  {
   "cell_type": "markdown",
   "id": "75478bc3-6b30-48f8-8358-909edc7a6c7a",
   "metadata": {},
   "source": [
    "#### Visualization"
   ]
  },
  {
   "cell_type": "code",
   "execution_count": null,
   "id": "4f7ec737-9e10-4402-a64b-57c15659ffbb",
   "metadata": {},
   "outputs": [],
   "source": []
  },
  {
   "cell_type": "markdown",
   "id": "365f7378-c7b4-4a9d-b8eb-439495da42a7",
   "metadata": {},
   "source": [
    "## Method\n",
    "\n"
   ]
  }
 ],
 "metadata": {
  "kernelspec": {
   "display_name": "R",
   "language": "R",
   "name": "ir"
  },
  "language_info": {
   "codemirror_mode": "r",
   "file_extension": ".r",
   "mimetype": "text/x-r-source",
   "name": "R",
   "pygments_lexer": "r",
   "version": "4.0.5"
  }
 },
 "nbformat": 4,
 "nbformat_minor": 5
}
