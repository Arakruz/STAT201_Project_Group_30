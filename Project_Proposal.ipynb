{
 "cells": [
  {
   "cell_type": "markdown",
   "id": "256a5874-b76c-4963-bc43-5e3ea067a9bc",
   "metadata": {},
   "source": [
    "# Crime Rate Analysis Before and During the Pandemic in Vancouver"
   ]
  },
  {
   "cell_type": "markdown",
   "id": "477faad8-c4af-4c66-8882-f6b431b7bdb7",
   "metadata": {},
   "source": [
    "Authors: Xing Liu, Pedro Novais, Mars Za"
   ]
  },
  {
   "cell_type": "markdown",
   "id": "6b2406c9-68f7-4268-bd82-628d2d2d47dd",
   "metadata": {},
   "source": [
    "## Introduction\n",
    "\n",
    "For our project, we will analyze the Geodash crime data provided by the Vancouver Police department to see if there was any noticeable impact of the Covid-19 pandemic on the crime rate in each neighborhood of the city. The Geodash crime data is a database offered by the Vancouver Police to help researchers, media and organizations that want to examine crime and police activity (Vancouver Police Department, 2022). This tool allows us access to datasets that include the type of crime reported to the Vancouver Police and the given report's time, date, and neighborhood. With this information, we can perform analyses to better understand the effect that Covid-19 had on crimes committed throughout the city. Similar studies have already been conducted between American cities that use statistical and data analysis to answer similar questions (Ashby, 2020; Abrams, 2021).\n",
    "\n",
    "Our project will use the mean, and standard deviation of the crime rate for the 2017 ~ 2019 and 2020 ~ 2022 time period as parameters to understand how crime rate changed following the onset of Covid-19. With the mean crime rate for each time frame, we get a sense of the overall safety in all districts of Vancouver for the two time periods. With the standard deviations, we can use it to compute confidence interval to see a range of plausible reported crimes per time frame, which can be an indicator of the impact of external factors like the covid 19 pandemic."
   ]
  },
  {
   "cell_type": "markdown",
   "id": "93a3ad38-18c0-418f-b059-2f207da13602",
   "metadata": {},
   "source": [
    "## Method and Result"
   ]
  },
  {
   "cell_type": "markdown",
   "id": "949e279c-67b8-4da8-8678-1084cd4e131e",
   "metadata": {},
   "source": [
    "#### Data Preparation\n",
    "The dataset is obtained from https://geodash.vpd.ca/opendata/# \\\n",
    "Unfortunately, VPD didn't provide their datasets a URL for direct download into JupyterHub, so we first manually downloaded and stored the dataset to GoogleDrive then generated downloadable URL from there. "
   ]
  },
  {
   "cell_type": "code",
   "execution_count": 1,
   "id": "087e57ab",
   "metadata": {},
   "outputs": [
    {
     "name": "stderr",
     "output_type": "stream",
     "text": [
      "Warning message in system(\"timedatectl\", intern = TRUE):\n",
      "“running command 'timedatectl' had status 1”\n",
      "── \u001b[1mAttaching packages\u001b[22m ─────────────────────────────────────── tidyverse 1.3.1 ──\n",
      "\n",
      "\u001b[32m✔\u001b[39m \u001b[34mggplot2\u001b[39m 3.3.5     \u001b[32m✔\u001b[39m \u001b[34mpurrr  \u001b[39m 0.3.4\n",
      "\u001b[32m✔\u001b[39m \u001b[34mtibble \u001b[39m 3.1.6     \u001b[32m✔\u001b[39m \u001b[34mdplyr  \u001b[39m 1.0.7\n",
      "\u001b[32m✔\u001b[39m \u001b[34mtidyr  \u001b[39m 1.1.3     \u001b[32m✔\u001b[39m \u001b[34mstringr\u001b[39m 1.4.0\n",
      "\u001b[32m✔\u001b[39m \u001b[34mreadr  \u001b[39m 2.1.1     \u001b[32m✔\u001b[39m \u001b[34mforcats\u001b[39m 0.5.1\n",
      "\n",
      "── \u001b[1mConflicts\u001b[22m ────────────────────────────────────────── tidyverse_conflicts() ──\n",
      "\u001b[31m✖\u001b[39m \u001b[34mdplyr\u001b[39m::\u001b[32mfilter()\u001b[39m masks \u001b[34mstats\u001b[39m::filter()\n",
      "\u001b[31m✖\u001b[39m \u001b[34mdplyr\u001b[39m::\u001b[32mlag()\u001b[39m    masks \u001b[34mstats\u001b[39m::lag()\n",
      "\n"
     ]
    }
   ],
   "source": [
    "library(tidyverse)\n",
    "library(infer)\n",
    "library(broom)"
   ]
  },
  {
   "cell_type": "code",
   "execution_count": 2,
   "id": "c08cc138",
   "metadata": {},
   "outputs": [],
   "source": [
    "URL2017 <- \"https://drive.google.com/uc?id=11RimvDwqEXhi88RdmiHg6PUGOL8xXMW4&export=download\"\n",
    "URL2018 <- \"https://drive.google.com/uc?id=1vA-vnvTlHoXV1q6bu4S_qay37nz7X3UM&export=download\"\n",
    "URL2019 <- \"https://drive.google.com/uc?id=1kBSEJl-JCIzqzVmB9PMLZ-C2WM1hH7je&export=download\"\n",
    "URL2020 <- \"https://drive.google.com/uc?id=1zaTH_62fMJNYMjWItzjSvrK3nKdK74Zn&export=download\"\n",
    "URL2021 <- \"https://drive.google.com/uc?id=1Inz166gXuGusb47PhV6nQMEpxpl4Wh92&export=download\"\n",
    "URL2022 <- \"https://drive.google.com/uc?id=1vUUblkLnMKSxb8S0y55Zi3IHjfIZOJ2N&export=download\"\n",
    "cr2017 <- read.csv(URL2017)\n",
    "cr2018 <- read.csv(URL2018)\n",
    "cr2019 <- read.csv(URL2019)\n",
    "cr2020 <- read.csv(URL2020)\n",
    "cr2021 <- read.csv(URL2021)\n",
    "cr2022 <- read.csv(URL2022)"
   ]
  },
  {
   "cell_type": "code",
   "execution_count": 3,
   "id": "1b7a210a",
   "metadata": {},
   "outputs": [
    {
     "data": {
      "text/html": [
       "<table class=\"dataframe\">\n",
       "<caption>A data.frame: 6 × 5</caption>\n",
       "<thead>\n",
       "\t<tr><th></th><th scope=col>TYPE</th><th scope=col>YEAR</th><th scope=col>MONTH</th><th scope=col>DAY</th><th scope=col>NEIGHBOURHOOD</th></tr>\n",
       "\t<tr><th></th><th scope=col>&lt;chr&gt;</th><th scope=col>&lt;int&gt;</th><th scope=col>&lt;int&gt;</th><th scope=col>&lt;int&gt;</th><th scope=col>&lt;chr&gt;</th></tr>\n",
       "</thead>\n",
       "<tbody>\n",
       "\t<tr><th scope=row>1</th><td>Theft of Vehicle</td><td>2017</td><td>11</td><td>29</td><td>Renfrew-Collingwood      </td></tr>\n",
       "\t<tr><th scope=row>2</th><td>Theft of Vehicle</td><td>2017</td><td> 6</td><td>21</td><td>Strathcona               </td></tr>\n",
       "\t<tr><th scope=row>3</th><td>Theft of Vehicle</td><td>2017</td><td> 9</td><td>21</td><td>Mount Pleasant           </td></tr>\n",
       "\t<tr><th scope=row>4</th><td>Theft of Vehicle</td><td>2017</td><td> 5</td><td> 9</td><td>Central Business District</td></tr>\n",
       "\t<tr><th scope=row>5</th><td>Theft of Vehicle</td><td>2017</td><td>10</td><td> 9</td><td>Strathcona               </td></tr>\n",
       "\t<tr><th scope=row>6</th><td>Theft of Vehicle</td><td>2017</td><td> 6</td><td>13</td><td>Strathcona               </td></tr>\n",
       "</tbody>\n",
       "</table>\n"
      ],
      "text/latex": [
       "A data.frame: 6 × 5\n",
       "\\begin{tabular}{r|lllll}\n",
       "  & TYPE & YEAR & MONTH & DAY & NEIGHBOURHOOD\\\\\n",
       "  & <chr> & <int> & <int> & <int> & <chr>\\\\\n",
       "\\hline\n",
       "\t1 & Theft of Vehicle & 2017 & 11 & 29 & Renfrew-Collingwood      \\\\\n",
       "\t2 & Theft of Vehicle & 2017 &  6 & 21 & Strathcona               \\\\\n",
       "\t3 & Theft of Vehicle & 2017 &  9 & 21 & Mount Pleasant           \\\\\n",
       "\t4 & Theft of Vehicle & 2017 &  5 &  9 & Central Business District\\\\\n",
       "\t5 & Theft of Vehicle & 2017 & 10 &  9 & Strathcona               \\\\\n",
       "\t6 & Theft of Vehicle & 2017 &  6 & 13 & Strathcona               \\\\\n",
       "\\end{tabular}\n"
      ],
      "text/markdown": [
       "\n",
       "A data.frame: 6 × 5\n",
       "\n",
       "| <!--/--> | TYPE &lt;chr&gt; | YEAR &lt;int&gt; | MONTH &lt;int&gt; | DAY &lt;int&gt; | NEIGHBOURHOOD &lt;chr&gt; |\n",
       "|---|---|---|---|---|---|\n",
       "| 1 | Theft of Vehicle | 2017 | 11 | 29 | Renfrew-Collingwood       |\n",
       "| 2 | Theft of Vehicle | 2017 |  6 | 21 | Strathcona                |\n",
       "| 3 | Theft of Vehicle | 2017 |  9 | 21 | Mount Pleasant            |\n",
       "| 4 | Theft of Vehicle | 2017 |  5 |  9 | Central Business District |\n",
       "| 5 | Theft of Vehicle | 2017 | 10 |  9 | Strathcona                |\n",
       "| 6 | Theft of Vehicle | 2017 |  6 | 13 | Strathcona                |\n",
       "\n"
      ],
      "text/plain": [
       "  TYPE             YEAR MONTH DAY NEIGHBOURHOOD            \n",
       "1 Theft of Vehicle 2017 11    29  Renfrew-Collingwood      \n",
       "2 Theft of Vehicle 2017  6    21  Strathcona               \n",
       "3 Theft of Vehicle 2017  9    21  Mount Pleasant           \n",
       "4 Theft of Vehicle 2017  5     9  Central Business District\n",
       "5 Theft of Vehicle 2017 10     9  Strathcona               \n",
       "6 Theft of Vehicle 2017  6    13  Strathcona               "
      ]
     },
     "metadata": {},
     "output_type": "display_data"
    }
   ],
   "source": [
    "# combine 6 years into one dataframe\n",
    "cr2017_2022 <- rbind(cr2017,cr2018,cr2019,cr2020,cr2021,cr2022)\n",
    "\n",
    "# only select the TYPE, YEAR, NEIGHBOURHOOD for analysis\n",
    "crime2017_2022 <- cr2017_2022 %>% \n",
    "    select(TYPE, YEAR, MONTH, DAY, NEIGHBOURHOOD) \n",
    "head(crime2017_2022)"
   ]
  },
  {
   "cell_type": "markdown",
   "id": "7b15ac06-aca3-47d7-ad53-d84e3e516ceb",
   "metadata": {},
   "source": [
    "#### Preliminary Analysis"
   ]
  },
  {
   "cell_type": "code",
   "execution_count": 4,
   "id": "7af41c3f-5f7f-41a9-a669-c79d4913b693",
   "metadata": {},
   "outputs": [
    {
     "data": {
      "text/html": [
       "<table class=\"dataframe\">\n",
       "<caption>A tibble: 6 × 6</caption>\n",
       "<thead>\n",
       "\t<tr><th scope=col>YEAR</th><th scope=col>MONTH</th><th scope=col>DAY</th><th scope=col>NEIGHBOURHOOD</th><th scope=col>total</th><th scope=col>PERIOD</th></tr>\n",
       "\t<tr><th scope=col>&lt;int&gt;</th><th scope=col>&lt;int&gt;</th><th scope=col>&lt;int&gt;</th><th scope=col>&lt;chr&gt;</th><th scope=col>&lt;int&gt;</th><th scope=col>&lt;chr&gt;</th></tr>\n",
       "</thead>\n",
       "<tbody>\n",
       "\t<tr><td>2017</td><td>1</td><td>1</td><td>Arbutus Ridge            </td><td> 1</td><td>PreCOVID</td></tr>\n",
       "\t<tr><td>2017</td><td>1</td><td>1</td><td>Central Business District</td><td>27</td><td>PreCOVID</td></tr>\n",
       "\t<tr><td>2017</td><td>1</td><td>1</td><td>Dunbar-Southlands        </td><td> 1</td><td>PreCOVID</td></tr>\n",
       "\t<tr><td>2017</td><td>1</td><td>1</td><td>Fairview                 </td><td> 5</td><td>PreCOVID</td></tr>\n",
       "\t<tr><td>2017</td><td>1</td><td>1</td><td>Grandview-Woodland       </td><td> 7</td><td>PreCOVID</td></tr>\n",
       "\t<tr><td>2017</td><td>1</td><td>1</td><td>Hastings-Sunrise         </td><td> 8</td><td>PreCOVID</td></tr>\n",
       "</tbody>\n",
       "</table>\n"
      ],
      "text/latex": [
       "A tibble: 6 × 6\n",
       "\\begin{tabular}{llllll}\n",
       " YEAR & MONTH & DAY & NEIGHBOURHOOD & total & PERIOD\\\\\n",
       " <int> & <int> & <int> & <chr> & <int> & <chr>\\\\\n",
       "\\hline\n",
       "\t 2017 & 1 & 1 & Arbutus Ridge             &  1 & PreCOVID\\\\\n",
       "\t 2017 & 1 & 1 & Central Business District & 27 & PreCOVID\\\\\n",
       "\t 2017 & 1 & 1 & Dunbar-Southlands         &  1 & PreCOVID\\\\\n",
       "\t 2017 & 1 & 1 & Fairview                  &  5 & PreCOVID\\\\\n",
       "\t 2017 & 1 & 1 & Grandview-Woodland        &  7 & PreCOVID\\\\\n",
       "\t 2017 & 1 & 1 & Hastings-Sunrise          &  8 & PreCOVID\\\\\n",
       "\\end{tabular}\n"
      ],
      "text/markdown": [
       "\n",
       "A tibble: 6 × 6\n",
       "\n",
       "| YEAR &lt;int&gt; | MONTH &lt;int&gt; | DAY &lt;int&gt; | NEIGHBOURHOOD &lt;chr&gt; | total &lt;int&gt; | PERIOD &lt;chr&gt; |\n",
       "|---|---|---|---|---|---|\n",
       "| 2017 | 1 | 1 | Arbutus Ridge             |  1 | PreCOVID |\n",
       "| 2017 | 1 | 1 | Central Business District | 27 | PreCOVID |\n",
       "| 2017 | 1 | 1 | Dunbar-Southlands         |  1 | PreCOVID |\n",
       "| 2017 | 1 | 1 | Fairview                  |  5 | PreCOVID |\n",
       "| 2017 | 1 | 1 | Grandview-Woodland        |  7 | PreCOVID |\n",
       "| 2017 | 1 | 1 | Hastings-Sunrise          |  8 | PreCOVID |\n",
       "\n"
      ],
      "text/plain": [
       "  YEAR MONTH DAY NEIGHBOURHOOD             total PERIOD  \n",
       "1 2017 1     1   Arbutus Ridge              1    PreCOVID\n",
       "2 2017 1     1   Central Business District 27    PreCOVID\n",
       "3 2017 1     1   Dunbar-Southlands          1    PreCOVID\n",
       "4 2017 1     1   Fairview                   5    PreCOVID\n",
       "5 2017 1     1   Grandview-Woodland         7    PreCOVID\n",
       "6 2017 1     1   Hastings-Sunrise           8    PreCOVID"
      ]
     },
     "metadata": {},
     "output_type": "display_data"
    }
   ],
   "source": [
    "# overal daily total crime incidents for each neighborhood in each year\n",
    "crime_total <- crime2017_2022 %>%\n",
    "    group_by(YEAR, MONTH, DAY, NEIGHBOURHOOD) %>%\n",
    "    filter(NEIGHBOURHOOD != \"\") %>%\n",
    "    summarise(total = n(), `.groups` = \"drop\") %>%\n",
    "    mutate(PERIOD = case_when(YEAR <= 2019 ~ \"PreCOVID\",\n",
    "                                   YEAR > 2019 ~ \"DuringCOVID\"))\n",
    "head(crime_total)"
   ]
  },
  {
   "cell_type": "code",
   "execution_count": 5,
   "id": "12382948-cf7c-4f46-b8fc-ef3db8d3f6fb",
   "metadata": {},
   "outputs": [
    {
     "data": {
      "text/html": [
       "<table class=\"dataframe\">\n",
       "<caption>A tibble: 6 × 4</caption>\n",
       "<thead>\n",
       "\t<tr><th scope=col>MONTH</th><th scope=col>DAY</th><th scope=col>PERIOD</th><th scope=col>daily_avg</th></tr>\n",
       "\t<tr><th scope=col>&lt;int&gt;</th><th scope=col>&lt;int&gt;</th><th scope=col>&lt;chr&gt;</th><th scope=col>&lt;dbl&gt;</th></tr>\n",
       "</thead>\n",
       "<tbody>\n",
       "\t<tr><td>1</td><td>1</td><td>DuringCOVID</td><td>5.946429</td></tr>\n",
       "\t<tr><td>1</td><td>1</td><td>PreCOVID   </td><td>7.283333</td></tr>\n",
       "\t<tr><td>1</td><td>2</td><td>DuringCOVID</td><td>6.000000</td></tr>\n",
       "\t<tr><td>1</td><td>2</td><td>PreCOVID   </td><td>5.767857</td></tr>\n",
       "\t<tr><td>1</td><td>3</td><td>DuringCOVID</td><td>5.728814</td></tr>\n",
       "\t<tr><td>1</td><td>3</td><td>PreCOVID   </td><td>5.607143</td></tr>\n",
       "</tbody>\n",
       "</table>\n"
      ],
      "text/latex": [
       "A tibble: 6 × 4\n",
       "\\begin{tabular}{llll}\n",
       " MONTH & DAY & PERIOD & daily\\_avg\\\\\n",
       " <int> & <int> & <chr> & <dbl>\\\\\n",
       "\\hline\n",
       "\t 1 & 1 & DuringCOVID & 5.946429\\\\\n",
       "\t 1 & 1 & PreCOVID    & 7.283333\\\\\n",
       "\t 1 & 2 & DuringCOVID & 6.000000\\\\\n",
       "\t 1 & 2 & PreCOVID    & 5.767857\\\\\n",
       "\t 1 & 3 & DuringCOVID & 5.728814\\\\\n",
       "\t 1 & 3 & PreCOVID    & 5.607143\\\\\n",
       "\\end{tabular}\n"
      ],
      "text/markdown": [
       "\n",
       "A tibble: 6 × 4\n",
       "\n",
       "| MONTH &lt;int&gt; | DAY &lt;int&gt; | PERIOD &lt;chr&gt; | daily_avg &lt;dbl&gt; |\n",
       "|---|---|---|---|\n",
       "| 1 | 1 | DuringCOVID | 5.946429 |\n",
       "| 1 | 1 | PreCOVID    | 7.283333 |\n",
       "| 1 | 2 | DuringCOVID | 6.000000 |\n",
       "| 1 | 2 | PreCOVID    | 5.767857 |\n",
       "| 1 | 3 | DuringCOVID | 5.728814 |\n",
       "| 1 | 3 | PreCOVID    | 5.607143 |\n",
       "\n"
      ],
      "text/plain": [
       "  MONTH DAY PERIOD      daily_avg\n",
       "1 1     1   DuringCOVID 5.946429 \n",
       "2 1     1   PreCOVID    7.283333 \n",
       "3 1     2   DuringCOVID 6.000000 \n",
       "4 1     2   PreCOVID    5.767857 \n",
       "5 1     3   DuringCOVID 5.728814 \n",
       "6 1     3   PreCOVID    5.607143 "
      ]
     },
     "metadata": {},
     "output_type": "display_data"
    }
   ],
   "source": [
    "# daily analysis \n",
    "# daily average crime incidents each day for the pre- and post-COVID period\n",
    "crime_daily_avg <- crime_total %>%\n",
    "    group_by(MONTH,DAY,PERIOD) %>%\n",
    "    summarise(daily_avg = mean(total), `.groups` = \"drop\")\n",
    "head(crime_daily_avg)"
   ]
  },
  {
   "cell_type": "code",
   "execution_count": 6,
   "id": "cea667d9-a7eb-4a23-92c7-4e47971b1299",
   "metadata": {},
   "outputs": [
    {
     "data": {
      "text/html": [
       "<table class=\"dataframe\">\n",
       "<caption>A tibble: 6 × 4</caption>\n",
       "<thead>\n",
       "\t<tr><th scope=col>MONTH</th><th scope=col>DAY</th><th scope=col>DuringCOVID</th><th scope=col>PreCOVID</th></tr>\n",
       "\t<tr><th scope=col>&lt;int&gt;</th><th scope=col>&lt;int&gt;</th><th scope=col>&lt;dbl&gt;</th><th scope=col>&lt;dbl&gt;</th></tr>\n",
       "</thead>\n",
       "<tbody>\n",
       "\t<tr><td>1</td><td>1</td><td>5.946429</td><td>7.283333</td></tr>\n",
       "\t<tr><td>1</td><td>2</td><td>6.000000</td><td>5.767857</td></tr>\n",
       "\t<tr><td>1</td><td>3</td><td>5.728814</td><td>5.607143</td></tr>\n",
       "\t<tr><td>1</td><td>4</td><td>5.333333</td><td>5.711864</td></tr>\n",
       "\t<tr><td>1</td><td>5</td><td>6.280000</td><td>6.036364</td></tr>\n",
       "\t<tr><td>1</td><td>6</td><td>5.403846</td><td>5.542373</td></tr>\n",
       "</tbody>\n",
       "</table>\n"
      ],
      "text/latex": [
       "A tibble: 6 × 4\n",
       "\\begin{tabular}{llll}\n",
       " MONTH & DAY & DuringCOVID & PreCOVID\\\\\n",
       " <int> & <int> & <dbl> & <dbl>\\\\\n",
       "\\hline\n",
       "\t 1 & 1 & 5.946429 & 7.283333\\\\\n",
       "\t 1 & 2 & 6.000000 & 5.767857\\\\\n",
       "\t 1 & 3 & 5.728814 & 5.607143\\\\\n",
       "\t 1 & 4 & 5.333333 & 5.711864\\\\\n",
       "\t 1 & 5 & 6.280000 & 6.036364\\\\\n",
       "\t 1 & 6 & 5.403846 & 5.542373\\\\\n",
       "\\end{tabular}\n"
      ],
      "text/markdown": [
       "\n",
       "A tibble: 6 × 4\n",
       "\n",
       "| MONTH &lt;int&gt; | DAY &lt;int&gt; | DuringCOVID &lt;dbl&gt; | PreCOVID &lt;dbl&gt; |\n",
       "|---|---|---|---|\n",
       "| 1 | 1 | 5.946429 | 7.283333 |\n",
       "| 1 | 2 | 6.000000 | 5.767857 |\n",
       "| 1 | 3 | 5.728814 | 5.607143 |\n",
       "| 1 | 4 | 5.333333 | 5.711864 |\n",
       "| 1 | 5 | 6.280000 | 6.036364 |\n",
       "| 1 | 6 | 5.403846 | 5.542373 |\n",
       "\n"
      ],
      "text/plain": [
       "  MONTH DAY DuringCOVID PreCOVID\n",
       "1 1     1   5.946429    7.283333\n",
       "2 1     2   6.000000    5.767857\n",
       "3 1     3   5.728814    5.607143\n",
       "4 1     4   5.333333    5.711864\n",
       "5 1     5   6.280000    6.036364\n",
       "6 1     6   5.403846    5.542373"
      ]
     },
     "metadata": {},
     "output_type": "display_data"
    }
   ],
   "source": [
    "# transform data set for sampling and paired sample t-test\n",
    "wrangled_data <- \n",
    "    crime_daily_avg %>%\n",
    "    pivot_wider(names_from = PERIOD, values_from = daily_avg) \n",
    "head(wrangled_data)\n",
    "# obtain a sample for the analysis\n",
    "set.seed(1)\n",
    "one_sample_wider <- wrangled_data %>%\n",
    "    rep_sample_n(size = 36, reps = 1) %>%\n",
    "    na.omit()\n",
    "# convert sample back to tidy format\n",
    "one_sample_longer <- one_sample_wider %>%\n",
    "    pivot_longer(c(PreCOVID,DuringCOVID), names_to = \"PERIOD\", values_to = \"daily_avg\")"
   ]
  },
  {
   "cell_type": "markdown",
   "id": "c7f7320c-c296-4cb0-836a-2d0eaaeafaae",
   "metadata": {},
   "source": [
    "#### Visualization"
   ]
  },
  {
   "cell_type": "code",
   "execution_count": 7,
   "id": "3bd7f133-e51d-4117-bebb-bf690747c333",
   "metadata": {},
   "outputs": [
    {
     "data": {
      "image/png": "[encoded data removed]",
      "text/plain": [
       "plot without title"
      ]
     },
     "metadata": {
      "image/png": {
       "height": 600,
       "width": 1200
      }
     },
     "output_type": "display_data"
    }
   ],
   "source": [
    "# visualization : population distribution\n",
    "options(repr.plot.width = 20, repr.plot.height = 10)\n",
    "pop_dist <- crime_total %>%\n",
    "    ggplot(aes(x = total, y = ..density.., fill = PERIOD)) + \n",
    "    geom_histogram(binwidth = 15, color=\"#e9ecef\") +\n",
    "    theme(text = element_text(size = 15))+\n",
    "    xlab(\"Daily Crime Incidents\") +\n",
    "    ggtitle(\"Figure 1. Population Distribution of the Number of Crime Incidents Per Day\")+\n",
    "    facet_wrap(~PERIOD)+\n",
    "    theme_bw()\n",
    "pop_dist"
   ]
  },
  {
   "cell_type": "code",
   "execution_count": 8,
   "id": "7f9a9d3b-3070-4d32-a72f-84fe9b627c68",
   "metadata": {},
   "outputs": [
    {
     "data": {
      "image/png": "[encoded data removed]",
      "text/plain": [
       "plot without title"
      ]
     },
     "metadata": {
      "image/png": {
       "height": 600,
       "width": 960
      }
     },
     "output_type": "display_data"
    }
   ],
   "source": [
    "# visualization : visualizing the distribution of daily crime incidents for Post-COVID and Pre-COVID\n",
    "options(repr.plot.width = 16, repr.plot.height = 10)\n",
    "side_by_side_boxplot <- crime_daily_avg %>%\n",
    "    ggplot(aes(x = PERIOD, y = daily_avg, fill = PERIOD)) +\n",
    "    geom_boxplot() +\n",
    "    theme(text = element_text(size = 15))+\n",
    "    xlab(\"Time Period\") +\n",
    "    ylab(\"Daily Crime Incidents\")+\n",
    "    ggtitle('Figure 2. Average Daily Crime Incidence by Time Period') +\n",
    "    theme_bw()\n",
    "\n",
    "side_by_side_boxplot"
   ]
  },
  {
   "cell_type": "markdown",
   "id": "31b77e74-f9bc-4df8-a226-24f5d6e7d0f1",
   "metadata": {},
   "source": [
    "After analyzing the average number of crime incidents(crime rate) across time period. There exists a noticeable difference in crime rate between Pre-COVID and Post-COVID years. Specifically, a decrease in crime rate since the beginning of COVID-19 in 2020 was noted as depicted in the Figure 2. But such findings are rudimentary and speculative in nature, we need more robust evidence to confidently conclude the observed difference in crime rate is meaningful. In order to make the project results trustworthy, we decided to carry out the following: \n",
    "\n",
    "1. A paired sample t-test to test the average difference of daily crime incidents between year intervals 2017-2019 and 2020-2022; \n",
    " <br> $H_0$ : $\\mu_{2017-2019}$ - $\\mu_{2020-2022}$ = 0;\n",
    " <br> $H_1$ : $\\mu_{2017-2019}$ - $\\mu_{2020-2022}$ > 0;\n",
    "2. Generate a confidence interval from bootstrapping and CLT for the average difference in crime incidents between 2017-2019 and 2020-2022;\n",
    "3. Compare the result obtained from bootstrapping and CLT."
   ]
  },
  {
   "cell_type": "markdown",
   "id": "3a3e4ed0-191e-4359-8429-2b8128524539",
   "metadata": {
    "tags": []
   },
   "source": [
    "### Result"
   ]
  },
  {
   "cell_type": "markdown",
   "id": "771f2b0a-a0d6-4eb3-b782-9bdebf0b84ac",
   "metadata": {},
   "source": [
    "#### Hypothesis Testing"
   ]
  },
  {
   "cell_type": "code",
   "execution_count": 9,
   "id": "91213dc5-1a5e-40da-956b-624b7424bd57",
   "metadata": {},
   "outputs": [
    {
     "data": {
      "text/html": [
       "<table class=\"dataframe\">\n",
       "<caption>A tibble: 1 × 6</caption>\n",
       "<thead>\n",
       "\t<tr><th scope=col>replicate</th><th scope=col>n</th><th scope=col>d_bar</th><th scope=col>sd</th><th scope=col>std_error</th><th scope=col>p_value</th></tr>\n",
       "\t<tr><th scope=col>&lt;int&gt;</th><th scope=col>&lt;int&gt;</th><th scope=col>&lt;dbl&gt;</th><th scope=col>&lt;dbl&gt;</th><th scope=col>&lt;dbl&gt;</th><th scope=col>&lt;dbl&gt;</th></tr>\n",
       "</thead>\n",
       "<tbody>\n",
       "\t<tr><td>1</td><td>36</td><td>0.9688292</td><td>0.6615084</td><td>0.1102514</td><td>1.113717e-10</td></tr>\n",
       "</tbody>\n",
       "</table>\n"
      ],
      "text/latex": [
       "A tibble: 1 × 6\n",
       "\\begin{tabular}{llllll}\n",
       " replicate & n & d\\_bar & sd & std\\_error & p\\_value\\\\\n",
       " <int> & <int> & <dbl> & <dbl> & <dbl> & <dbl>\\\\\n",
       "\\hline\n",
       "\t 1 & 36 & 0.9688292 & 0.6615084 & 0.1102514 & 1.113717e-10\\\\\n",
       "\\end{tabular}\n"
      ],
      "text/markdown": [
       "\n",
       "A tibble: 1 × 6\n",
       "\n",
       "| replicate &lt;int&gt; | n &lt;int&gt; | d_bar &lt;dbl&gt; | sd &lt;dbl&gt; | std_error &lt;dbl&gt; | p_value &lt;dbl&gt; |\n",
       "|---|---|---|---|---|---|\n",
       "| 1 | 36 | 0.9688292 | 0.6615084 | 0.1102514 | 1.113717e-10 |\n",
       "\n"
      ],
      "text/plain": [
       "  replicate n  d_bar     sd        std_error p_value     \n",
       "1 1         36 0.9688292 0.6615084 0.1102514 1.113717e-10"
      ]
     },
     "metadata": {},
     "output_type": "display_data"
    }
   ],
   "source": [
    "# Perform a one-tailed paired sample t-test with alpha level of 0.05\n",
    "paired_sample_t_test <- \n",
    "    na.omit(one_sample_wider) %>%  \n",
    "    mutate(d = PreCOVID - DuringCOVID) %>% \n",
    "    summarise(n = n(), \n",
    "               d_bar = mean(d), # compute mean difference in crime rates\n",
    "               sd =sd(d),\n",
    "               std_error = sd/sqrt(n)) %>% # compute the standard error\n",
    "    mutate(p_value = pt(q = d_bar/std_error, # one_tailed test\n",
    "                            df = n-1, \n",
    "                            lower.tail = FALSE))\n",
    "head(paired_sample_t_test)"
   ]
  },
  {
   "cell_type": "markdown",
   "id": "32ebff2d-c9d7-4d14-9a3e-89ee06ea6586",
   "metadata": {},
   "source": [
    "#### Confidence Interval From CLT"
   ]
  },
  {
   "cell_type": "code",
   "execution_count": 10,
   "id": "4b7b3158-d0a7-491a-a088-aae5e654afbb",
   "metadata": {},
   "outputs": [
    {
     "data": {
      "text/html": [
       "<table class=\"dataframe\">\n",
       "<caption>A tibble: 1 × 2</caption>\n",
       "<thead>\n",
       "\t<tr><th scope=col>lower_ci</th><th scope=col>upper_ci</th></tr>\n",
       "\t<tr><th scope=col>&lt;dbl&gt;</th><th scope=col>&lt;dbl&gt;</th></tr>\n",
       "</thead>\n",
       "<tbody>\n",
       "\t<tr><td>0.7527404</td><td>1.184918</td></tr>\n",
       "</tbody>\n",
       "</table>\n"
      ],
      "text/latex": [
       "A tibble: 1 × 2\n",
       "\\begin{tabular}{ll}\n",
       " lower\\_ci & upper\\_ci\\\\\n",
       " <dbl> & <dbl>\\\\\n",
       "\\hline\n",
       "\t 0.7527404 & 1.184918\\\\\n",
       "\\end{tabular}\n"
      ],
      "text/markdown": [
       "\n",
       "A tibble: 1 × 2\n",
       "\n",
       "| lower_ci &lt;dbl&gt; | upper_ci &lt;dbl&gt; |\n",
       "|---|---|\n",
       "| 0.7527404 | 1.184918 |\n",
       "\n"
      ],
      "text/plain": [
       "  lower_ci  upper_ci\n",
       "1 0.7527404 1.184918"
      ]
     },
     "metadata": {},
     "output_type": "display_data"
    }
   ],
   "source": [
    "# 95% CI for the mean difference between Pre-Covid and Covid years.\n",
    "CLT_95CI <- paired_sample_t_test %>%  \n",
    "    summarize(lower_ci = d_bar - qnorm(0.975)* std_error,\n",
    "              upper_ci = d_bar + qnorm(0.975)* std_error)\n",
    "CLT_95CI"
   ]
  },
  {
   "cell_type": "markdown",
   "id": "c8453c28-d211-4307-8471-806301d03ec6",
   "metadata": {},
   "source": [
    "**Interpretation**: \n",
    "From the CLT confidence interval, we are 95% confident the true mean difference in crime rate between pre-covid and during-covid will fall between [0.7527404, 1.184918]."
   ]
  },
  {
   "cell_type": "markdown",
   "id": "b0352a3b-6640-471f-8ded-b3bf4aa4d434",
   "metadata": {},
   "source": [
    "#### Confidence Interval From Bootstrapping"
   ]
  },
  {
   "cell_type": "code",
   "execution_count": 11,
   "id": "aae1a9b5-fc28-4315-b7be-8bdd7561738a",
   "metadata": {},
   "outputs": [
    {
     "name": "stderr",
     "output_type": "stream",
     "text": [
      "Adding missing grouping variables: `replicate`\n",
      "\n"
     ]
    },
    {
     "data": {
      "text/html": [
       "<table class=\"dataframe\">\n",
       "<caption>A tibble: 1 × 2</caption>\n",
       "<thead>\n",
       "\t<tr><th scope=col>lower_ci</th><th scope=col>upper_ci</th></tr>\n",
       "\t<tr><th scope=col>&lt;dbl&gt;</th><th scope=col>&lt;dbl&gt;</th></tr>\n",
       "</thead>\n",
       "<tbody>\n",
       "\t<tr><td>0.7734388</td><td>1.196619</td></tr>\n",
       "</tbody>\n",
       "</table>\n"
      ],
      "text/latex": [
       "A tibble: 1 × 2\n",
       "\\begin{tabular}{ll}\n",
       " lower\\_ci & upper\\_ci\\\\\n",
       " <dbl> & <dbl>\\\\\n",
       "\\hline\n",
       "\t 0.7734388 & 1.196619\\\\\n",
       "\\end{tabular}\n"
      ],
      "text/markdown": [
       "\n",
       "A tibble: 1 × 2\n",
       "\n",
       "| lower_ci &lt;dbl&gt; | upper_ci &lt;dbl&gt; |\n",
       "|---|---|\n",
       "| 0.7734388 | 1.196619 |\n",
       "\n"
      ],
      "text/plain": [
       "  lower_ci  upper_ci\n",
       "1 0.7734388 1.196619"
      ]
     },
     "metadata": {},
     "output_type": "display_data"
    }
   ],
   "source": [
    "# 95% Confidence Interval From Bootstrap Distribution\n",
    "set.seed(32)\n",
    "\n",
    "# take the difference between daily_avg\n",
    "sample <- \n",
    "    na.omit(one_sample_wider) %>%  \n",
    "    mutate(d = PreCOVID - DuringCOVID) %>%\n",
    "    select(d)\n",
    "\n",
    "# generate 1000 bootstrap samples\n",
    "boots_samples <- sample %>%\n",
    "    rep_sample_n(size = 36, reps = 1000, replace = TRUE) %>%\n",
    "    group_by(replicate)%>%\n",
    "    summarise(sample_mean = mean(d), `.groups` = \"drop\")\n",
    "# obtain 95% CI from the bootstrap distribution\n",
    "bootstrap_95CI <- boots_samples %>%\n",
    "    get_confidence_interval(level = 0.95, type = \"percentile\")\n",
    "bootstrap_95CI"
   ]
  },
  {
   "cell_type": "markdown",
   "id": "d9306909-7752-4668-8330-38bbd67030b3",
   "metadata": {},
   "source": [
    "**Interpretation**:\n",
    "From the Bootstrapping confidence interval, we are 95% confident the true mean difference in crime rate between pre-covid and during-covid will fall between [0.7734388, 1.196619]."
   ]
  },
  {
   "cell_type": "code",
   "execution_count": null,
   "id": "bcc401fb-82d2-4081-a1cb-6d7e9188cc88",
   "metadata": {},
   "outputs": [],
   "source": [
    "# Visualizing the bootstrap confidence interval\n",
    "bootstrap_distribution <- boots_samples %>% \n",
    "    ggplot(aes(x = sample_mean, y = ..density..))+\n",
    "    geom_histogram(binwidth = 0.1)+\n",
    "    xlab(\"Mean difference in crime rates\") +\n",
    "    ggtitle(\"Bootstrap 95CI for Mean Difference in Crime Rates Between Pre and During COVID Years\") +\n",
    "    shade_confidence_interval(endpoints = bootstrap_95CI,\n",
    "                              color = \"blue\",)\n",
    "bootstrap_distribution"
   ]
  },
  {
   "cell_type": "markdown",
   "id": "684fae06-5e8f-4505-8f51-42980f20204e",
   "metadata": {},
   "source": [
    "#### Compare the Results from CLT and Bootstrapping Methods"
   ]
  },
  {
   "cell_type": "markdown",
   "id": "71ea4450-a97f-4bc9-a894-a07278dbfffc",
   "metadata": {},
   "source": [
    "The method of asymptotics, namely the central limit theorem (CLT), relies on the assumptions that the underlying population distribution is normal or the sample size is sufficiently large, the sample is drawn independently, and the estimator is composed of random components. The use of CLT is only valid under such conditions. In the current analysis, the use of CLT is warranted as the current sample size (n = 36) is above the commonly accepted threshold (n >= 30) even though the underlying distribution of the variable daily crime incidence is severely positively skewed (see Figure 1). One caveat to note, the confidence interval for the average daily crime incidence generated from CLT is an underestimate of the true uncertainty around our estimator. Indeed, as we can see above the 95%CI obtained from CLT is narrower than the 95%CI obtained from bootstrapping distribution. This is because we used sample variance to approximate the population level variance.\n",
    "\n",
    "On the other hand, the method of bootstrapping is free from the aforementioned conditions in constructing a confidence interval. However, the bootstrapping method relies on the assumption that the original sample taken from the population is representative, otherwise, the centre of the bootstrap distribution could be very different from that of the true sampling distribution. \n",
    "\n",
    "In the current analysis, the use of asymptotics and bootstrapping are both valid and there only exist small differences between the two confidence intervals. However, in the context of our analysis, the bootstrapping method is more appropriate mainly for the reason that the population distribution is severely skewed and we are using a sample size of 36 which is just above the theoretical threshold(n >= 30). For this reason, we think the confidence interval obtained from CLT might discount too much of the variability therefore bootstrapping would be a better method.\n"
   ]
  },
  {
   "cell_type": "markdown",
   "id": "bf481932-40ba-4341-aaff-2bf15891e5df",
   "metadata": {},
   "source": [
    "## Discussion"
   ]
  },
  {
   "cell_type": "markdown",
   "id": "62309ea5-0fac-42d2-b639-46ba63cf1395",
   "metadata": {},
   "source": [
    "In this project, we are interested in the change in the daily crime incidents (or crime rate for short) between the pre-Covid (2017-2019) and post-Covid (2020-2022) periods in Vancouver. As shown in Figure 1, we first visualized the population distribution and found that the distribution is fairly skewed. Since the population distribution is not normal, we would need a large sample size to warrant the use of CLT in constructing the confidence interval. For this reason, we need a sample size of at least 30. To test if the observed difference between the above two periods is significant, we conducted a paired-sample t-test to test our hypothesis and generate two 95% confidence intervals, one using bootstrap and the other using CLT.  \n",
    "\n",
    "From the hypothesis test, we obtained an extremely small p-value = 1.11371744028295e-10, which indicates that the likelihood of obtaining another mean difference in crime rate between the two time periods that is at least as extreme as the one found in our analysis is extremely unlikely if the null model is true. In other words, the average difference in crime rate between pre-covid and during-covid is highly unlikely to equal zero. Therefore, we can conclude from our analysis that the crime rate of the pre-covid period is significantly higher than that of the during-covid period. This result is expected as we have observed such a difference in the population distribution. \n",
    "\n",
    "We then constructed two 95% confidence intervals for the observed statistic. From `CLT_95CI` and `bootstrap_95CI` we can see that both of these intervals do not include 0 (H0 value), so this also provides strong evidence that the null model is unlikely to hold therefore should be rejected. We can also conclude that the pre-covid period has a higher daily crime rate than the post-covid time. \n",
    "We think these results provided robust evidence of a change in crime rate in Vancouver following the Covid-19 pandemic. \n",
    "\n",
    "We noted that there are frequent lockdowns carried out during the covid time across districts of Vancouver, which might explain part of the reason for the decrease in the crime rate in Vancouver following Covid-19. Nevertheless, we think such results could be informative for policymakers if this change in crime rate is later found to be long-lasting. Furthermore, such results could lead to interesting follow-up questions such as does the observed long-term change in trend in criminal activity related to periods of economic downturn, and if so would a reversal in trend be an indicator of economic recovery? "
   ]
  },
  {
   "cell_type": "markdown",
   "id": "120770c3-e2f7-4ff5-908d-c812fbef82fb",
   "metadata": {},
   "source": [
    "## Reference\n",
    "- Abrams, D. S. (2021). COVID and crime: An early empirical look. Journal of Public Economics, Volume 194(2021), 104344. ScienceDirect. https://doi.org/10.1016/j.jpubeco.2020.104344 \n",
    "\n",
    "- Ashby, M. P. J. (2020). Initial evidence on the relationship between the coronavirus pandemic and crime in the United States. Crime Science, 9(2020), 6. https://doi.org/10.1186/s40163-020-00117-6 \n",
    "\n",
    "- Vancouver Police Department. (2022, February 15). GeoDASH Crime Data. Vancouver Police Department - GeoDASH. Retrieved March 5, 2022, from https://vpd.ca/crime-statistics/\n"
   ]
  }
 ],
 "metadata": {
  "kernelspec": {
   "display_name": "R",
   "language": "R",
   "name": "ir"
  },
  "language_info": {
   "codemirror_mode": "r",
   "file_extension": ".r",
   "mimetype": "text/x-r-source",
   "name": "R",
   "pygments_lexer": "r",
   "version": "4.0.5"
  }
 },
 "nbformat": 4,
 "nbformat_minor": 5
}
