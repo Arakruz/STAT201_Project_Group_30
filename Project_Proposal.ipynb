{
 "cells": [
  {
   "cell_type": "markdown",
   "id": "256a5874-b76c-4963-bc43-5e3ea067a9bc",
   "metadata": {},
   "source": [
    "# Title"
   ]
  },
  {
   "cell_type": "markdown",
   "id": "6b2406c9-68f7-4268-bd82-628d2d2d47dd",
   "metadata": {},
   "source": [
    "## Introduction"
   ]
  },
  {
   "cell_type": "markdown",
   "id": "93a3ad38-18c0-418f-b059-2f207da13602",
   "metadata": {},
   "source": [
    "## Result"
   ]
  },
  {
   "cell_type": "markdown",
   "id": "949e279c-67b8-4da8-8678-1084cd4e131e",
   "metadata": {},
   "source": [
    "#### Data Preparation\n",
    "The dataset is obtained from https://geodash.vpd.ca/opendata/# \\\n",
    "Unfortunately, VPD didn't provide their datasets a URL for direct download into JupyterHub, so we first manually downloaded and stored the dataset to GoogleDrive then generated downloadable URL from there. "
   ]
  },
  {
   "cell_type": "code",
   "execution_count": 1,
   "id": "087e57ab",
   "metadata": {},
   "outputs": [
    {
     "name": "stderr",
     "output_type": "stream",
     "text": [
      "Warning message in system(\"timedatectl\", intern = TRUE):\n",
      "“running command 'timedatectl' had status 1”\n",
      "── \u001b[1mAttaching packages\u001b[22m ─────────────────────────────────────── tidyverse 1.3.1 ──\n",
      "\n",
      "\u001b[32m✔\u001b[39m \u001b[34mggplot2\u001b[39m 3.3.5     \u001b[32m✔\u001b[39m \u001b[34mpurrr  \u001b[39m 0.3.4\n",
      "\u001b[32m✔\u001b[39m \u001b[34mtibble \u001b[39m 3.1.6     \u001b[32m✔\u001b[39m \u001b[34mdplyr  \u001b[39m 1.0.7\n",
      "\u001b[32m✔\u001b[39m \u001b[34mtidyr  \u001b[39m 1.1.3     \u001b[32m✔\u001b[39m \u001b[34mstringr\u001b[39m 1.4.0\n",
      "\u001b[32m✔\u001b[39m \u001b[34mreadr  \u001b[39m 2.1.1     \u001b[32m✔\u001b[39m \u001b[34mforcats\u001b[39m 0.5.1\n",
      "\n",
      "── \u001b[1mConflicts\u001b[22m ────────────────────────────────────────── tidyverse_conflicts() ──\n",
      "\u001b[31m✖\u001b[39m \u001b[34mdplyr\u001b[39m::\u001b[32mfilter()\u001b[39m masks \u001b[34mstats\u001b[39m::filter()\n",
      "\u001b[31m✖\u001b[39m \u001b[34mdplyr\u001b[39m::\u001b[32mlag()\u001b[39m    masks \u001b[34mstats\u001b[39m::lag()\n",
      "\n"
     ]
    }
   ],
   "source": [
    "library(tidyverse)\n",
    "library(infer)"
   ]
  },
  {
   "cell_type": "code",
   "execution_count": 2,
   "id": "c08cc138",
   "metadata": {},
   "outputs": [],
   "source": [
    "URL2017 <- \"https://drive.google.com/uc?id=11RimvDwqEXhi88RdmiHg6PUGOL8xXMW4&export=download\"\n",
    "URL2018 <- \"https://drive.google.com/uc?id=1vA-vnvTlHoXV1q6bu4S_qay37nz7X3UM&export=download\"\n",
    "URL2019 <- \"https://drive.google.com/uc?id=1kBSEJl-JCIzqzVmB9PMLZ-C2WM1hH7je&export=download\"\n",
    "URL2020 <- \"https://drive.google.com/uc?id=1zaTH_62fMJNYMjWItzjSvrK3nKdK74Zn&export=download\"\n",
    "URL2021 <- \"https://drive.google.com/uc?id=1Inz166gXuGusb47PhV6nQMEpxpl4Wh92&export=download\"\n",
    "URL2022 <- \"https://drive.google.com/uc?id=1vUUblkLnMKSxb8S0y55Zi3IHjfIZOJ2N&export=download\"\n",
    "cr2017 <- read.csv(URL2017)\n",
    "cr2018 <- read.csv(URL2018)\n",
    "cr2019 <- read.csv(URL2019)\n",
    "cr2020 <- read.csv(URL2020)\n",
    "cr2021 <- read.csv(URL2021)\n",
    "cr2022 <- read.csv(URL2022)"
   ]
  },
  {
   "cell_type": "code",
   "execution_count": 3,
   "id": "1b7a210a",
   "metadata": {},
   "outputs": [
    {
     "data": {
      "text/html": [
       "<table class=\"dataframe\">\n",
       "<caption>A data.frame: 6 × 10</caption>\n",
       "<thead>\n",
       "\t<tr><th></th><th scope=col>TYPE</th><th scope=col>YEAR</th><th scope=col>MONTH</th><th scope=col>DAY</th><th scope=col>HOUR</th><th scope=col>MINUTE</th><th scope=col>HUNDRED_BLOCK</th><th scope=col>NEIGHBOURHOOD</th><th scope=col>X</th><th scope=col>Y</th></tr>\n",
       "\t<tr><th></th><th scope=col>&lt;chr&gt;</th><th scope=col>&lt;int&gt;</th><th scope=col>&lt;int&gt;</th><th scope=col>&lt;int&gt;</th><th scope=col>&lt;int&gt;</th><th scope=col>&lt;int&gt;</th><th scope=col>&lt;chr&gt;</th><th scope=col>&lt;chr&gt;</th><th scope=col>&lt;dbl&gt;</th><th scope=col>&lt;dbl&gt;</th></tr>\n",
       "</thead>\n",
       "<tbody>\n",
       "\t<tr><th scope=row>1</th><td>Theft of Vehicle</td><td>2017</td><td>11</td><td>29</td><td>20</td><td> 0</td><td>29XX SKEENA ST  </td><td>Renfrew-Collingwood      </td><td>497919.2</td><td>5456148</td></tr>\n",
       "\t<tr><th scope=row>2</th><td>Theft of Vehicle</td><td>2017</td><td> 6</td><td>21</td><td>21</td><td> 0</td><td>2X JACKSON AVE  </td><td>Strathcona               </td><td>493220.8</td><td>5459096</td></tr>\n",
       "\t<tr><th scope=row>3</th><td>Theft of Vehicle</td><td>2017</td><td> 9</td><td>21</td><td>18</td><td> 0</td><td>2X W 14TH AVE   </td><td>Mount Pleasant           </td><td>492319.5</td><td>5456190</td></tr>\n",
       "\t<tr><th scope=row>4</th><td>Theft of Vehicle</td><td>2017</td><td> 5</td><td> 9</td><td>15</td><td>30</td><td>2X W PENDER ST  </td><td>Central Business District</td><td>492338.0</td><td>5458667</td></tr>\n",
       "\t<tr><th scope=row>5</th><td>Theft of Vehicle</td><td>2017</td><td>10</td><td> 9</td><td> 6</td><td> 0</td><td>2XX ALEXANDER ST</td><td>Strathcona               </td><td>492802.5</td><td>5459038</td></tr>\n",
       "\t<tr><th scope=row>6</th><td>Theft of Vehicle</td><td>2017</td><td> 6</td><td>13</td><td> 6</td><td>45</td><td>2XX CENTRAL ST  </td><td>Strathcona               </td><td>492756.6</td><td>5457623</td></tr>\n",
       "</tbody>\n",
       "</table>\n"
      ],
      "text/latex": [
       "A data.frame: 6 × 10\n",
       "\\begin{tabular}{r|llllllllll}\n",
       "  & TYPE & YEAR & MONTH & DAY & HOUR & MINUTE & HUNDRED\\_BLOCK & NEIGHBOURHOOD & X & Y\\\\\n",
       "  & <chr> & <int> & <int> & <int> & <int> & <int> & <chr> & <chr> & <dbl> & <dbl>\\\\\n",
       "\\hline\n",
       "\t1 & Theft of Vehicle & 2017 & 11 & 29 & 20 &  0 & 29XX SKEENA ST   & Renfrew-Collingwood       & 497919.2 & 5456148\\\\\n",
       "\t2 & Theft of Vehicle & 2017 &  6 & 21 & 21 &  0 & 2X JACKSON AVE   & Strathcona                & 493220.8 & 5459096\\\\\n",
       "\t3 & Theft of Vehicle & 2017 &  9 & 21 & 18 &  0 & 2X W 14TH AVE    & Mount Pleasant            & 492319.5 & 5456190\\\\\n",
       "\t4 & Theft of Vehicle & 2017 &  5 &  9 & 15 & 30 & 2X W PENDER ST   & Central Business District & 492338.0 & 5458667\\\\\n",
       "\t5 & Theft of Vehicle & 2017 & 10 &  9 &  6 &  0 & 2XX ALEXANDER ST & Strathcona                & 492802.5 & 5459038\\\\\n",
       "\t6 & Theft of Vehicle & 2017 &  6 & 13 &  6 & 45 & 2XX CENTRAL ST   & Strathcona                & 492756.6 & 5457623\\\\\n",
       "\\end{tabular}\n"
      ],
      "text/markdown": [
       "\n",
       "A data.frame: 6 × 10\n",
       "\n",
       "| <!--/--> | TYPE &lt;chr&gt; | YEAR &lt;int&gt; | MONTH &lt;int&gt; | DAY &lt;int&gt; | HOUR &lt;int&gt; | MINUTE &lt;int&gt; | HUNDRED_BLOCK &lt;chr&gt; | NEIGHBOURHOOD &lt;chr&gt; | X &lt;dbl&gt; | Y &lt;dbl&gt; |\n",
       "|---|---|---|---|---|---|---|---|---|---|---|\n",
       "| 1 | Theft of Vehicle | 2017 | 11 | 29 | 20 |  0 | 29XX SKEENA ST   | Renfrew-Collingwood       | 497919.2 | 5456148 |\n",
       "| 2 | Theft of Vehicle | 2017 |  6 | 21 | 21 |  0 | 2X JACKSON AVE   | Strathcona                | 493220.8 | 5459096 |\n",
       "| 3 | Theft of Vehicle | 2017 |  9 | 21 | 18 |  0 | 2X W 14TH AVE    | Mount Pleasant            | 492319.5 | 5456190 |\n",
       "| 4 | Theft of Vehicle | 2017 |  5 |  9 | 15 | 30 | 2X W PENDER ST   | Central Business District | 492338.0 | 5458667 |\n",
       "| 5 | Theft of Vehicle | 2017 | 10 |  9 |  6 |  0 | 2XX ALEXANDER ST | Strathcona                | 492802.5 | 5459038 |\n",
       "| 6 | Theft of Vehicle | 2017 |  6 | 13 |  6 | 45 | 2XX CENTRAL ST   | Strathcona                | 492756.6 | 5457623 |\n",
       "\n"
      ],
      "text/plain": [
       "  TYPE             YEAR MONTH DAY HOUR MINUTE HUNDRED_BLOCK   \n",
       "1 Theft of Vehicle 2017 11    29  20    0     29XX SKEENA ST  \n",
       "2 Theft of Vehicle 2017  6    21  21    0     2X JACKSON AVE  \n",
       "3 Theft of Vehicle 2017  9    21  18    0     2X W 14TH AVE   \n",
       "4 Theft of Vehicle 2017  5     9  15   30     2X W PENDER ST  \n",
       "5 Theft of Vehicle 2017 10     9   6    0     2XX ALEXANDER ST\n",
       "6 Theft of Vehicle 2017  6    13   6   45     2XX CENTRAL ST  \n",
       "  NEIGHBOURHOOD             X        Y      \n",
       "1 Renfrew-Collingwood       497919.2 5456148\n",
       "2 Strathcona                493220.8 5459096\n",
       "3 Mount Pleasant            492319.5 5456190\n",
       "4 Central Business District 492338.0 5458667\n",
       "5 Strathcona                492802.5 5459038\n",
       "6 Strathcona                492756.6 5457623"
      ]
     },
     "metadata": {},
     "output_type": "display_data"
    },
    {
     "data": {
      "text/html": [
       "<table class=\"dataframe\">\n",
       "<caption>A data.frame: 6 × 5</caption>\n",
       "<thead>\n",
       "\t<tr><th></th><th scope=col>TYPE</th><th scope=col>YEAR</th><th scope=col>MONTH</th><th scope=col>DAY</th><th scope=col>NEIGHBOURHOOD</th></tr>\n",
       "\t<tr><th></th><th scope=col>&lt;chr&gt;</th><th scope=col>&lt;int&gt;</th><th scope=col>&lt;int&gt;</th><th scope=col>&lt;int&gt;</th><th scope=col>&lt;chr&gt;</th></tr>\n",
       "</thead>\n",
       "<tbody>\n",
       "\t<tr><th scope=row>1</th><td>Theft of Vehicle</td><td>2017</td><td>11</td><td>29</td><td>Renfrew-Collingwood      </td></tr>\n",
       "\t<tr><th scope=row>2</th><td>Theft of Vehicle</td><td>2017</td><td> 6</td><td>21</td><td>Strathcona               </td></tr>\n",
       "\t<tr><th scope=row>3</th><td>Theft of Vehicle</td><td>2017</td><td> 9</td><td>21</td><td>Mount Pleasant           </td></tr>\n",
       "\t<tr><th scope=row>4</th><td>Theft of Vehicle</td><td>2017</td><td> 5</td><td> 9</td><td>Central Business District</td></tr>\n",
       "\t<tr><th scope=row>5</th><td>Theft of Vehicle</td><td>2017</td><td>10</td><td> 9</td><td>Strathcona               </td></tr>\n",
       "\t<tr><th scope=row>6</th><td>Theft of Vehicle</td><td>2017</td><td> 6</td><td>13</td><td>Strathcona               </td></tr>\n",
       "</tbody>\n",
       "</table>\n"
      ],
      "text/latex": [
       "A data.frame: 6 × 5\n",
       "\\begin{tabular}{r|lllll}\n",
       "  & TYPE & YEAR & MONTH & DAY & NEIGHBOURHOOD\\\\\n",
       "  & <chr> & <int> & <int> & <int> & <chr>\\\\\n",
       "\\hline\n",
       "\t1 & Theft of Vehicle & 2017 & 11 & 29 & Renfrew-Collingwood      \\\\\n",
       "\t2 & Theft of Vehicle & 2017 &  6 & 21 & Strathcona               \\\\\n",
       "\t3 & Theft of Vehicle & 2017 &  9 & 21 & Mount Pleasant           \\\\\n",
       "\t4 & Theft of Vehicle & 2017 &  5 &  9 & Central Business District\\\\\n",
       "\t5 & Theft of Vehicle & 2017 & 10 &  9 & Strathcona               \\\\\n",
       "\t6 & Theft of Vehicle & 2017 &  6 & 13 & Strathcona               \\\\\n",
       "\\end{tabular}\n"
      ],
      "text/markdown": [
       "\n",
       "A data.frame: 6 × 5\n",
       "\n",
       "| <!--/--> | TYPE &lt;chr&gt; | YEAR &lt;int&gt; | MONTH &lt;int&gt; | DAY &lt;int&gt; | NEIGHBOURHOOD &lt;chr&gt; |\n",
       "|---|---|---|---|---|---|\n",
       "| 1 | Theft of Vehicle | 2017 | 11 | 29 | Renfrew-Collingwood       |\n",
       "| 2 | Theft of Vehicle | 2017 |  6 | 21 | Strathcona                |\n",
       "| 3 | Theft of Vehicle | 2017 |  9 | 21 | Mount Pleasant            |\n",
       "| 4 | Theft of Vehicle | 2017 |  5 |  9 | Central Business District |\n",
       "| 5 | Theft of Vehicle | 2017 | 10 |  9 | Strathcona                |\n",
       "| 6 | Theft of Vehicle | 2017 |  6 | 13 | Strathcona                |\n",
       "\n"
      ],
      "text/plain": [
       "  TYPE             YEAR MONTH DAY NEIGHBOURHOOD            \n",
       "1 Theft of Vehicle 2017 11    29  Renfrew-Collingwood      \n",
       "2 Theft of Vehicle 2017  6    21  Strathcona               \n",
       "3 Theft of Vehicle 2017  9    21  Mount Pleasant           \n",
       "4 Theft of Vehicle 2017  5     9  Central Business District\n",
       "5 Theft of Vehicle 2017 10     9  Strathcona               \n",
       "6 Theft of Vehicle 2017  6    13  Strathcona               "
      ]
     },
     "metadata": {},
     "output_type": "display_data"
    }
   ],
   "source": [
    "# combine 6 years into one dataframe\n",
    "cr2017_2022 <- rbind(cr2017,cr2018,cr2019,cr2020,cr2021,cr2022)\n",
    "head(cr2017_2022)\n",
    "\n",
    "# only select the TYPE, YEAR, NEIGHBOURHOOD for analysis\n",
    "crime2017_2022 <- cr2017_2022 %>% \n",
    "    select(TYPE, YEAR, MONTH, DAY, NEIGHBOURHOOD) \n",
    "head(crime2017_2022)"
   ]
  },
  {
   "cell_type": "markdown",
   "id": "7b15ac06-aca3-47d7-ad53-d84e3e516ceb",
   "metadata": {},
   "source": [
    "#### Preliminary Analysis"
   ]
  },
  {
   "cell_type": "code",
   "execution_count": 4,
   "id": "7af41c3f-5f7f-41a9-a669-c79d4913b693",
   "metadata": {},
   "outputs": [
    {
     "data": {
      "text/html": [
       "<table class=\"dataframe\">\n",
       "<caption>A tibble: 6 × 5</caption>\n",
       "<thead>\n",
       "\t<tr><th scope=col>YEAR</th><th scope=col>MONTH</th><th scope=col>DAY</th><th scope=col>NEIGHBOURHOOD</th><th scope=col>total</th></tr>\n",
       "\t<tr><th scope=col>&lt;int&gt;</th><th scope=col>&lt;int&gt;</th><th scope=col>&lt;int&gt;</th><th scope=col>&lt;chr&gt;</th><th scope=col>&lt;int&gt;</th></tr>\n",
       "</thead>\n",
       "<tbody>\n",
       "\t<tr><td>2017</td><td>1</td><td>1</td><td>Arbutus Ridge            </td><td> 1</td></tr>\n",
       "\t<tr><td>2017</td><td>1</td><td>1</td><td>Central Business District</td><td>27</td></tr>\n",
       "\t<tr><td>2017</td><td>1</td><td>1</td><td>Dunbar-Southlands        </td><td> 1</td></tr>\n",
       "\t<tr><td>2017</td><td>1</td><td>1</td><td>Fairview                 </td><td> 5</td></tr>\n",
       "\t<tr><td>2017</td><td>1</td><td>1</td><td>Grandview-Woodland       </td><td> 7</td></tr>\n",
       "\t<tr><td>2017</td><td>1</td><td>1</td><td>Hastings-Sunrise         </td><td> 8</td></tr>\n",
       "</tbody>\n",
       "</table>\n"
      ],
      "text/latex": [
       "A tibble: 6 × 5\n",
       "\\begin{tabular}{lllll}\n",
       " YEAR & MONTH & DAY & NEIGHBOURHOOD & total\\\\\n",
       " <int> & <int> & <int> & <chr> & <int>\\\\\n",
       "\\hline\n",
       "\t 2017 & 1 & 1 & Arbutus Ridge             &  1\\\\\n",
       "\t 2017 & 1 & 1 & Central Business District & 27\\\\\n",
       "\t 2017 & 1 & 1 & Dunbar-Southlands         &  1\\\\\n",
       "\t 2017 & 1 & 1 & Fairview                  &  5\\\\\n",
       "\t 2017 & 1 & 1 & Grandview-Woodland        &  7\\\\\n",
       "\t 2017 & 1 & 1 & Hastings-Sunrise          &  8\\\\\n",
       "\\end{tabular}\n"
      ],
      "text/markdown": [
       "\n",
       "A tibble: 6 × 5\n",
       "\n",
       "| YEAR &lt;int&gt; | MONTH &lt;int&gt; | DAY &lt;int&gt; | NEIGHBOURHOOD &lt;chr&gt; | total &lt;int&gt; |\n",
       "|---|---|---|---|---|\n",
       "| 2017 | 1 | 1 | Arbutus Ridge             |  1 |\n",
       "| 2017 | 1 | 1 | Central Business District | 27 |\n",
       "| 2017 | 1 | 1 | Dunbar-Southlands         |  1 |\n",
       "| 2017 | 1 | 1 | Fairview                  |  5 |\n",
       "| 2017 | 1 | 1 | Grandview-Woodland        |  7 |\n",
       "| 2017 | 1 | 1 | Hastings-Sunrise          |  8 |\n",
       "\n"
      ],
      "text/plain": [
       "  YEAR MONTH DAY NEIGHBOURHOOD             total\n",
       "1 2017 1     1   Arbutus Ridge              1   \n",
       "2 2017 1     1   Central Business District 27   \n",
       "3 2017 1     1   Dunbar-Southlands          1   \n",
       "4 2017 1     1   Fairview                   5   \n",
       "5 2017 1     1   Grandview-Woodland         7   \n",
       "6 2017 1     1   Hastings-Sunrise           8   "
      ]
     },
     "metadata": {},
     "output_type": "display_data"
    }
   ],
   "source": [
    "# overal daily total crime incidents for each neighborhood in each year\n",
    "crime_total <- crime2017_2022 %>%\n",
    "    group_by(YEAR, MONTH, DAY, NEIGHBOURHOOD) %>%\n",
    "    filter(NEIGHBOURHOOD != \"\") %>%\n",
    "    summarise(total = n(), `.groups` = \"drop\")\n",
    "head(crime_total)"
   ]
  },
  {
   "cell_type": "code",
   "execution_count": 5,
   "id": "12382948-cf7c-4f46-b8fc-ef3db8d3f6fb",
   "metadata": {},
   "outputs": [
    {
     "data": {
      "text/html": [
       "<table class=\"dataframe\">\n",
       "<caption>A tibble: 6 × 2</caption>\n",
       "<thead>\n",
       "\t<tr><th scope=col>NEIGHBOURHOOD</th><th scope=col>daily_avg</th></tr>\n",
       "\t<tr><th scope=col>&lt;chr&gt;</th><th scope=col>&lt;dbl&gt;</th></tr>\n",
       "</thead>\n",
       "<tbody>\n",
       "\t<tr><td>Arbutus Ridge            </td><td> 1.715462</td></tr>\n",
       "\t<tr><td>Central Business District</td><td>34.395324</td></tr>\n",
       "\t<tr><td>Dunbar-Southlands        </td><td> 1.933172</td></tr>\n",
       "\t<tr><td>Fairview                 </td><td> 5.937701</td></tr>\n",
       "\t<tr><td>Grandview-Woodland       </td><td> 5.739270</td></tr>\n",
       "\t<tr><td>Hastings-Sunrise         </td><td> 3.978830</td></tr>\n",
       "</tbody>\n",
       "</table>\n"
      ],
      "text/latex": [
       "A tibble: 6 × 2\n",
       "\\begin{tabular}{ll}\n",
       " NEIGHBOURHOOD & daily\\_avg\\\\\n",
       " <chr> & <dbl>\\\\\n",
       "\\hline\n",
       "\t Arbutus Ridge             &  1.715462\\\\\n",
       "\t Central Business District & 34.395324\\\\\n",
       "\t Dunbar-Southlands         &  1.933172\\\\\n",
       "\t Fairview                  &  5.937701\\\\\n",
       "\t Grandview-Woodland        &  5.739270\\\\\n",
       "\t Hastings-Sunrise          &  3.978830\\\\\n",
       "\\end{tabular}\n"
      ],
      "text/markdown": [
       "\n",
       "A tibble: 6 × 2\n",
       "\n",
       "| NEIGHBOURHOOD &lt;chr&gt; | daily_avg &lt;dbl&gt; |\n",
       "|---|---|\n",
       "| Arbutus Ridge             |  1.715462 |\n",
       "| Central Business District | 34.395324 |\n",
       "| Dunbar-Southlands         |  1.933172 |\n",
       "| Fairview                  |  5.937701 |\n",
       "| Grandview-Woodland        |  5.739270 |\n",
       "| Hastings-Sunrise          |  3.978830 |\n",
       "\n"
      ],
      "text/plain": [
       "  NEIGHBOURHOOD             daily_avg\n",
       "1 Arbutus Ridge              1.715462\n",
       "2 Central Business District 34.395324\n",
       "3 Dunbar-Southlands          1.933172\n",
       "4 Fairview                   5.937701\n",
       "5 Grandview-Woodland         5.739270\n",
       "6 Hastings-Sunrise           3.978830"
      ]
     },
     "metadata": {},
     "output_type": "display_data"
    },
    {
     "data": {
      "text/html": [
       "<table class=\"dataframe\">\n",
       "<caption>A tibble: 6 × 2</caption>\n",
       "<thead>\n",
       "\t<tr><th scope=col>NEIGHBOURHOOD</th><th scope=col>daily_median</th></tr>\n",
       "\t<tr><th scope=col>&lt;chr&gt;</th><th scope=col>&lt;dbl&gt;</th></tr>\n",
       "</thead>\n",
       "<tbody>\n",
       "\t<tr><td>Arbutus Ridge            </td><td> 1</td></tr>\n",
       "\t<tr><td>Central Business District</td><td>34</td></tr>\n",
       "\t<tr><td>Dunbar-Southlands        </td><td> 2</td></tr>\n",
       "\t<tr><td>Fairview                 </td><td> 6</td></tr>\n",
       "\t<tr><td>Grandview-Woodland       </td><td> 5</td></tr>\n",
       "\t<tr><td>Hastings-Sunrise         </td><td> 4</td></tr>\n",
       "</tbody>\n",
       "</table>\n"
      ],
      "text/latex": [
       "A tibble: 6 × 2\n",
       "\\begin{tabular}{ll}\n",
       " NEIGHBOURHOOD & daily\\_median\\\\\n",
       " <chr> & <dbl>\\\\\n",
       "\\hline\n",
       "\t Arbutus Ridge             &  1\\\\\n",
       "\t Central Business District & 34\\\\\n",
       "\t Dunbar-Southlands         &  2\\\\\n",
       "\t Fairview                  &  6\\\\\n",
       "\t Grandview-Woodland        &  5\\\\\n",
       "\t Hastings-Sunrise          &  4\\\\\n",
       "\\end{tabular}\n"
      ],
      "text/markdown": [
       "\n",
       "A tibble: 6 × 2\n",
       "\n",
       "| NEIGHBOURHOOD &lt;chr&gt; | daily_median &lt;dbl&gt; |\n",
       "|---|---|\n",
       "| Arbutus Ridge             |  1 |\n",
       "| Central Business District | 34 |\n",
       "| Dunbar-Southlands         |  2 |\n",
       "| Fairview                  |  6 |\n",
       "| Grandview-Woodland        |  5 |\n",
       "| Hastings-Sunrise          |  4 |\n",
       "\n"
      ],
      "text/plain": [
       "  NEIGHBOURHOOD             daily_median\n",
       "1 Arbutus Ridge              1          \n",
       "2 Central Business District 34          \n",
       "3 Dunbar-Southlands          2          \n",
       "4 Fairview                   6          \n",
       "5 Grandview-Woodland         5          \n",
       "6 Hastings-Sunrise           4          "
      ]
     },
     "metadata": {},
     "output_type": "display_data"
    },
    {
     "data": {
      "text/html": [
       "<table class=\"dataframe\">\n",
       "<caption>A tibble: 6 × 2</caption>\n",
       "<thead>\n",
       "\t<tr><th scope=col>NEIGHBOURHOOD</th><th scope=col>daily_sd</th></tr>\n",
       "\t<tr><th scope=col>&lt;chr&gt;</th><th scope=col>&lt;dbl&gt;</th></tr>\n",
       "</thead>\n",
       "<tbody>\n",
       "\t<tr><td>Arbutus Ridge            </td><td> 1.017479</td></tr>\n",
       "\t<tr><td>Central Business District</td><td>11.678437</td></tr>\n",
       "\t<tr><td>Dunbar-Southlands        </td><td> 1.177089</td></tr>\n",
       "\t<tr><td>Fairview                 </td><td> 2.997830</td></tr>\n",
       "\t<tr><td>Grandview-Woodland       </td><td> 2.880449</td></tr>\n",
       "\t<tr><td>Hastings-Sunrise         </td><td> 2.252361</td></tr>\n",
       "</tbody>\n",
       "</table>\n"
      ],
      "text/latex": [
       "A tibble: 6 × 2\n",
       "\\begin{tabular}{ll}\n",
       " NEIGHBOURHOOD & daily\\_sd\\\\\n",
       " <chr> & <dbl>\\\\\n",
       "\\hline\n",
       "\t Arbutus Ridge             &  1.017479\\\\\n",
       "\t Central Business District & 11.678437\\\\\n",
       "\t Dunbar-Southlands         &  1.177089\\\\\n",
       "\t Fairview                  &  2.997830\\\\\n",
       "\t Grandview-Woodland        &  2.880449\\\\\n",
       "\t Hastings-Sunrise          &  2.252361\\\\\n",
       "\\end{tabular}\n"
      ],
      "text/markdown": [
       "\n",
       "A tibble: 6 × 2\n",
       "\n",
       "| NEIGHBOURHOOD &lt;chr&gt; | daily_sd &lt;dbl&gt; |\n",
       "|---|---|\n",
       "| Arbutus Ridge             |  1.017479 |\n",
       "| Central Business District | 11.678437 |\n",
       "| Dunbar-Southlands         |  1.177089 |\n",
       "| Fairview                  |  2.997830 |\n",
       "| Grandview-Woodland        |  2.880449 |\n",
       "| Hastings-Sunrise          |  2.252361 |\n",
       "\n"
      ],
      "text/plain": [
       "  NEIGHBOURHOOD             daily_sd \n",
       "1 Arbutus Ridge              1.017479\n",
       "2 Central Business District 11.678437\n",
       "3 Dunbar-Southlands          1.177089\n",
       "4 Fairview                   2.997830\n",
       "5 Grandview-Woodland         2.880449\n",
       "6 Hastings-Sunrise           2.252361"
      ]
     },
     "metadata": {},
     "output_type": "display_data"
    }
   ],
   "source": [
    "# daily analysis \n",
    "# daily average crime incidents for each neighborhood in each year\n",
    "crime_daily_avg <- crime_total %>%\n",
    "    group_by(NEIGHBOURHOOD) %>%\n",
    "    summarise(daily_avg = mean(total))\n",
    "head(crime_daily_avg)\n",
    "\n",
    "# daily median  for crime incidents for each neighborhood in each year\n",
    "crime_daily_median <- crime_total %>%\n",
    "    group_by(NEIGHBOURHOOD) %>%\n",
    "    summarise(daily_median = median(total))\n",
    "head(crime_daily_median)\n",
    "\n",
    "# daily standard deviation for crime incidents for each neighborhood in each year\n",
    "crime_daily_sd <- crime_total %>%\n",
    "    group_by(NEIGHBOURHOOD) %>%\n",
    "    summarise(daily_sd = sd(total))\n",
    "head(crime_daily_sd)"
   ]
  },
  {
   "cell_type": "code",
   "execution_count": 6,
   "id": "d617c2dd-1a6a-443b-a3dd-b296c0e79871",
   "metadata": {},
   "outputs": [
    {
     "data": {
      "text/html": [
       "<table class=\"dataframe\">\n",
       "<caption>A data.frame: 6 × 5</caption>\n",
       "<thead>\n",
       "\t<tr><th></th><th scope=col>YEAR</th><th scope=col>MONTH</th><th scope=col>monthly_median</th><th scope=col>monthly_avg</th><th scope=col>monthly_sd</th></tr>\n",
       "\t<tr><th></th><th scope=col>&lt;int&gt;</th><th scope=col>&lt;int&gt;</th><th scope=col>&lt;dbl&gt;</th><th scope=col>&lt;dbl&gt;</th><th scope=col>&lt;dbl&gt;</th></tr>\n",
       "</thead>\n",
       "<tbody>\n",
       "\t<tr><th scope=row>1</th><td>2017</td><td>1</td><td>3</td><td>4.962329</td><td>6.883890</td></tr>\n",
       "\t<tr><th scope=row>2</th><td>2017</td><td>2</td><td>3</td><td>5.360000</td><td>7.277352</td></tr>\n",
       "\t<tr><th scope=row>3</th><td>2017</td><td>3</td><td>4</td><td>5.799012</td><td>7.663022</td></tr>\n",
       "\t<tr><th scope=row>4</th><td>2017</td><td>4</td><td>3</td><td>5.776094</td><td>7.941525</td></tr>\n",
       "\t<tr><th scope=row>5</th><td>2017</td><td>5</td><td>4</td><td>6.053245</td><td>8.014185</td></tr>\n",
       "\t<tr><th scope=row>6</th><td>2017</td><td>6</td><td>4</td><td>5.921311</td><td>7.880910</td></tr>\n",
       "</tbody>\n",
       "</table>\n"
      ],
      "text/latex": [
       "A data.frame: 6 × 5\n",
       "\\begin{tabular}{r|lllll}\n",
       "  & YEAR & MONTH & monthly\\_median & monthly\\_avg & monthly\\_sd\\\\\n",
       "  & <int> & <int> & <dbl> & <dbl> & <dbl>\\\\\n",
       "\\hline\n",
       "\t1 & 2017 & 1 & 3 & 4.962329 & 6.883890\\\\\n",
       "\t2 & 2017 & 2 & 3 & 5.360000 & 7.277352\\\\\n",
       "\t3 & 2017 & 3 & 4 & 5.799012 & 7.663022\\\\\n",
       "\t4 & 2017 & 4 & 3 & 5.776094 & 7.941525\\\\\n",
       "\t5 & 2017 & 5 & 4 & 6.053245 & 8.014185\\\\\n",
       "\t6 & 2017 & 6 & 4 & 5.921311 & 7.880910\\\\\n",
       "\\end{tabular}\n"
      ],
      "text/markdown": [
       "\n",
       "A data.frame: 6 × 5\n",
       "\n",
       "| <!--/--> | YEAR &lt;int&gt; | MONTH &lt;int&gt; | monthly_median &lt;dbl&gt; | monthly_avg &lt;dbl&gt; | monthly_sd &lt;dbl&gt; |\n",
       "|---|---|---|---|---|---|\n",
       "| 1 | 2017 | 1 | 3 | 4.962329 | 6.883890 |\n",
       "| 2 | 2017 | 2 | 3 | 5.360000 | 7.277352 |\n",
       "| 3 | 2017 | 3 | 4 | 5.799012 | 7.663022 |\n",
       "| 4 | 2017 | 4 | 3 | 5.776094 | 7.941525 |\n",
       "| 5 | 2017 | 5 | 4 | 6.053245 | 8.014185 |\n",
       "| 6 | 2017 | 6 | 4 | 5.921311 | 7.880910 |\n",
       "\n"
      ],
      "text/plain": [
       "  YEAR MONTH monthly_median monthly_avg monthly_sd\n",
       "1 2017 1     3              4.962329    6.883890  \n",
       "2 2017 2     3              5.360000    7.277352  \n",
       "3 2017 3     4              5.799012    7.663022  \n",
       "4 2017 4     3              5.776094    7.941525  \n",
       "5 2017 5     4              6.053245    8.014185  \n",
       "6 2017 6     4              5.921311    7.880910  "
      ]
     },
     "metadata": {},
     "output_type": "display_data"
    }
   ],
   "source": [
    "# monthly analysis\n",
    "# monthly average crime incidents per day for all neighbourhoods\n",
    "crime_monthly_avg <- crime_total %>%\n",
    "    group_by(YEAR,MONTH) %>%\n",
    "    summarise(monthly_avg = mean(total), `.groups` = \"drop\")\n",
    "#head(crime_monthly_avg)\n",
    "\n",
    "# monthly median crime incidents per day for all neighbourhoods\n",
    "crime_monthly_median <- crime_total %>%\n",
    "    group_by(YEAR,MONTH) %>%\n",
    "    summarise(monthly_median = median(total), `.groups` = \"drop\")\n",
    "#head(crime_monthly_median)\n",
    "\n",
    "# monthly standard deviation crime incidents per day for all neighbourhoods\n",
    "crime_monthly_sd <- crime_total %>%\n",
    "    group_by(YEAR,MONTH) %>%\n",
    "    summarise(monthly_sd = sd(total), `.groups` = \"drop\")\n",
    "#head(crime_monthly_sd)\n",
    "\n",
    "summary_stats_on_month <- cbind(crime_monthly_median,crime_monthly_avg,crime_monthly_sd)%>%\n",
    "    select(-c(4,5,7,8))\n",
    "\n",
    "head(summary_stats_on_month)"
   ]
  },
  {
   "cell_type": "code",
   "execution_count": 7,
   "id": "533ed8a6-510e-4f07-bd14-3972a76b1bb8",
   "metadata": {},
   "outputs": [
    {
     "data": {
      "text/html": [
       "34.3953241232731"
      ],
      "text/latex": [
       "34.3953241232731"
      ],
      "text/markdown": [
       "34.3953241232731"
      ],
      "text/plain": [
       "[1] 34.39532"
      ]
     },
     "metadata": {},
     "output_type": "display_data"
    },
    {
     "data": {
      "text/html": [
       "'Central Business District'"
      ],
      "text/latex": [
       "'Central Business District'"
      ],
      "text/markdown": [
       "'Central Business District'"
      ],
      "text/plain": [
       "[1] \"Central Business District\""
      ]
     },
     "metadata": {},
     "output_type": "display_data"
    },
    {
     "data": {
      "text/html": [
       "1.14084507042254"
      ],
      "text/latex": [
       "1.14084507042254"
      ],
      "text/markdown": [
       "1.14084507042254"
      ],
      "text/plain": [
       "[1] 1.140845"
      ]
     },
     "metadata": {},
     "output_type": "display_data"
    },
    {
     "data": {
      "text/html": [
       "'Musqueam'"
      ],
      "text/latex": [
       "'Musqueam'"
      ],
      "text/markdown": [
       "'Musqueam'"
      ],
      "text/plain": [
       "[1] \"Musqueam\""
      ]
     },
     "metadata": {},
     "output_type": "display_data"
    }
   ],
   "source": [
    "# highest average daily cirme incident rate\n",
    "daily_highest <- max(crime_daily_avg$daily_avg)\n",
    "highest_area <- crime_daily_avg$NEIGHBOURHOOD[which.max(crime_daily_avg$daily_avg)]\n",
    "daily_highest\n",
    "highest_area\n",
    "\n",
    "# lowest average daily cirme incident rate\n",
    "daily_lowest <- min(crime_daily_avg$daily_avg)\n",
    "lowest_area <- crime_daily_avg$NEIGHBOURHOOD[which.min(crime_daily_avg$daily_avg)]\n",
    "daily_lowest\n",
    "lowest_area"
   ]
  },
  {
   "cell_type": "markdown",
   "id": "b63d4496-7233-4490-b434-195a8047c889",
   "metadata": {},
   "source": [
    "#### Inferential Analysis"
   ]
  },
  {
   "cell_type": "code",
   "execution_count": null,
   "id": "230c1c39-d6c0-46d5-a412-5cf630b51318",
   "metadata": {},
   "outputs": [],
   "source": []
  },
  {
   "cell_type": "markdown",
   "id": "77e28b32-78cf-4862-a6f4-6649ec13927f",
   "metadata": {},
   "source": [
    "#### Bootstrapping"
   ]
  },
  {
   "cell_type": "code",
   "execution_count": 8,
   "id": "3f987b4a-84d3-4dea-aa1f-51f41e8b89cb",
   "metadata": {},
   "outputs": [
    {
     "data": {
      "text/html": [
       "<table class=\"dataframe\">\n",
       "<caption>A tibble: 6 × 3</caption>\n",
       "<thead>\n",
       "\t<tr><th scope=col>DAY</th><th scope=col>replicate</th><th scope=col>sample_mean</th></tr>\n",
       "\t<tr><th scope=col>&lt;int&gt;</th><th scope=col>&lt;int&gt;</th><th scope=col>&lt;dbl&gt;</th></tr>\n",
       "</thead>\n",
       "<tbody>\n",
       "\t<tr><td>1</td><td>1</td><td>3.187500</td></tr>\n",
       "\t<tr><td>1</td><td>2</td><td>5.764706</td></tr>\n",
       "\t<tr><td>1</td><td>3</td><td>6.214286</td></tr>\n",
       "\t<tr><td>1</td><td>4</td><td>5.000000</td></tr>\n",
       "\t<tr><td>1</td><td>5</td><td>4.692308</td></tr>\n",
       "\t<tr><td>1</td><td>6</td><td>4.421053</td></tr>\n",
       "</tbody>\n",
       "</table>\n"
      ],
      "text/latex": [
       "A tibble: 6 × 3\n",
       "\\begin{tabular}{lll}\n",
       " DAY & replicate & sample\\_mean\\\\\n",
       " <int> & <int> & <dbl>\\\\\n",
       "\\hline\n",
       "\t 1 & 1 & 3.187500\\\\\n",
       "\t 1 & 2 & 5.764706\\\\\n",
       "\t 1 & 3 & 6.214286\\\\\n",
       "\t 1 & 4 & 5.000000\\\\\n",
       "\t 1 & 5 & 4.692308\\\\\n",
       "\t 1 & 6 & 4.421053\\\\\n",
       "\\end{tabular}\n"
      ],
      "text/markdown": [
       "\n",
       "A tibble: 6 × 3\n",
       "\n",
       "| DAY &lt;int&gt; | replicate &lt;int&gt; | sample_mean &lt;dbl&gt; |\n",
       "|---|---|---|\n",
       "| 1 | 1 | 3.187500 |\n",
       "| 1 | 2 | 5.764706 |\n",
       "| 1 | 3 | 6.214286 |\n",
       "| 1 | 4 | 5.000000 |\n",
       "| 1 | 5 | 4.692308 |\n",
       "| 1 | 6 | 4.421053 |\n",
       "\n"
      ],
      "text/plain": [
       "  DAY replicate sample_mean\n",
       "1 1   1         3.187500   \n",
       "2 1   2         5.764706   \n",
       "3 1   3         6.214286   \n",
       "4 1   4         5.000000   \n",
       "5 1   5         4.692308   \n",
       "6 1   6         4.421053   "
      ]
     },
     "metadata": {},
     "output_type": "display_data"
    }
   ],
   "source": [
    "# Bootstrap with sample size 500\n",
    "set.seed(31)\n",
    "one_sample <- crime_total %>%\n",
    "    rep_sample_n(size = 500, reps = 1, replace = FALSE)\n",
    "boot_500 <- one_sample %>%\n",
    "    rep_sample_n(size = 500, reps = 10000, replace = TRUE) %>%\n",
    "    group_by(DAY, replicate) %>% \n",
    "    summarise(sample_mean = mean(total), `.groups` = \"drop\")\n",
    "head(boot_500)"
   ]
  },
  {
   "cell_type": "code",
   "execution_count": 9,
   "id": "1d4b5538-73b9-4fa0-9fc1-48968b7e6124",
   "metadata": {},
   "outputs": [
    {
     "ename": "ERROR",
     "evalue": "Error in fortify(data): object 'data_normal' not found\n",
     "output_type": "error",
     "traceback": [
      "Error in fortify(data): object 'data_normal' not found\nTraceback:\n",
      "1. geom_line(data = data_normal, aes(total, density), color = \"blue\", \n .     lwd = 2)",
      "2. layer(data = data, mapping = mapping, stat = stat, geom = GeomLine, \n .     position = position, show.legend = show.legend, inherit.aes = inherit.aes, \n .     params = list(na.rm = na.rm, orientation = orientation, ...))",
      "3. fortify(data)"
     ]
    }
   ],
   "source": [
    "options(repr.plot.width = 8, repr.plot.height = 8)\n",
    "bootstrap_500 <- boot_500 %>% \n",
    "    ggplot() + \n",
    "    geom_histogram(aes(x = sample_mean, y = ..density..), binwidth = 2, color=\"white\") +\n",
    "    theme(text = element_text(size = 10))+\n",
    "    xlab(\"Bootstrap Mean\") +\n",
    "    ggtitle(\"Bootstrapping of the sample mean for samples of size 500 for Crime in Vancouver from 2017-2022.\") + \n",
    "    geom_line(data = data_normal, aes(total, density), color = \"blue\", lwd = 2)+\n",
    "    coord_cartesian(xlim=c(0,40))\n",
    "bootstrap_500"
   ]
  },
  {
   "cell_type": "markdown",
   "id": "fc2719e7-c192-44a1-ad61-e0acdce6144b",
   "metadata": {},
   "source": [
    "#### Asymptotic "
   ]
  },
  {
   "cell_type": "code",
   "execution_count": null,
   "id": "e4b7af63-0684-439e-aab1-32eb4b5cb377",
   "metadata": {},
   "outputs": [],
   "source": [
    "# CLT with sample size 500\n",
    "set.seed(30)\n",
    "pop_mu <- mean(crime_total$total)\n",
    "pop_sd <- sd(crime_total$total)\n",
    "\n",
    "\n",
    "sample_500 <- crime_total %>%\n",
    "    rep_sample_n(size = 500, reps = 10000, replace = FALSE) %>%\n",
    "    group_by(DAY, replicate) %>% \n",
    "    summarise(sample_mean = mean(total), `.groups` = \"drop\")\n",
    "head(sample_500)\n",
    "\n",
    "data_normal <- tibble(total=seq(min(crime_total$total), \n",
    "                                max(crime_total$total),0.01), \n",
    "                                density = dnorm(total, pop_mu, pop_sd))"
   ]
  },
  {
   "cell_type": "code",
   "execution_count": null,
   "id": "98600dbd-5e34-430b-8593-24cce72d0d1f",
   "metadata": {},
   "outputs": [],
   "source": [
    "options(repr.plot.width = 8, repr.plot.height = 8)\n",
    "sampling_dist_500 <- sample_500 %>% \n",
    "    ggplot() + \n",
    "    geom_histogram(aes(x = sample_mean, y = ..density..), binwidth = 2, color=\"white\") +\n",
    "    theme(text = element_text(size = 10))+\n",
    "    xlab(\"Sample Mean\") +\n",
    "    ggtitle(\"Sampling distribution of the sample mean for samples of size 500 for Crime in Vancouver from 2017-2022.\") + \n",
    "    geom_line(data = data_normal, aes(total, density), color = \"blue\", lwd = 2)+\n",
    "    coord_cartesian(xlim=c(0,40))\n",
    "sampling_dist_500"
   ]
  },
  {
   "cell_type": "markdown",
   "id": "75478bc3-6b30-48f8-8358-909edc7a6c7a",
   "metadata": {},
   "source": [
    "#### Visualization"
   ]
  },
  {
   "cell_type": "code",
   "execution_count": null,
   "id": "4f7ec737-9e10-4402-a64b-57c15659ffbb",
   "metadata": {},
   "outputs": [],
   "source": [
    "# visualization : population distribution\n",
    "pop_dist <- crime_total %>%\n",
    "    ggplot() + \n",
    "    geom_histogram(aes(x = total, y = ..density..), binwidth = 5, color=\"white\") +\n",
    "    theme(text = element_text(size = 10))+\n",
    "    xlab(\"Daily Crime Incidents\") +\n",
    "    ggtitle(\"Population Distribution of the Number of Daily Crime Incidents in each year.\")\n",
    "pop_dist\n",
    "# population distribution for 2017\n",
    "pop_dist_2017 <- crime_total %>%\n",
    "    filter(YEAR == 2017) %>%\n",
    "    ggplot() + \n",
    "    geom_histogram(aes(x = total, y = ..density..), binwidth = 5, color=\"white\") +\n",
    "    theme(text = element_text(size = 10))+\n",
    "    xlab(\"Daily Crime Incidents\") +\n",
    "    ggtitle(\"Population Distribution of the Number of Daily Crime Incidents in 2017.\")\n",
    "pop_dist_2017"
   ]
  },
  {
   "cell_type": "markdown",
   "id": "365f7378-c7b4-4a9d-b8eb-439495da42a7",
   "metadata": {},
   "source": [
    "## Method\n",
    "\n"
   ]
  }
 ],
 "metadata": {
  "kernelspec": {
   "display_name": "R",
   "language": "R",
   "name": "ir"
  },
  "language_info": {
   "codemirror_mode": "r",
   "file_extension": ".r",
   "mimetype": "text/x-r-source",
   "name": "R",
   "pygments_lexer": "r",
   "version": "4.0.5"
  }
 },
 "nbformat": 4,
 "nbformat_minor": 5
}
